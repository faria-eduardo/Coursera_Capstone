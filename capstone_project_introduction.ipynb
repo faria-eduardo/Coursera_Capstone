{
 "cells": [
  {
   "cell_type": "markdown",
   "metadata": {},
   "source": [
    "# Coursera Capstone - IBM DS"
   ]
  },
  {
   "cell_type": "markdown",
   "metadata": {},
   "source": [
    "This notebook is used mainly for the capstone project of Eduardo Faria in the coursera course IBM Data Science."
   ]
  },
  {
   "cell_type": "markdown",
   "metadata": {},
   "source": [
    "### 1) A description of the problem and a discussion of the background"
   ]
  },
  {
   "cell_type": "markdown",
   "metadata": {},
   "source": [
    "### Introduction/Business Problem"
   ]
  },
  {
   "cell_type": "markdown",
   "metadata": {},
   "source": [
    "The objective of this project is to identify the best region (cluster / neighborhoods) to open a Toronto restaurant. To find the best place, we will look for the region with the highest concentration of restaurants, which indicates a good area for this type of business. This information is important for the entrepreneur who wants to open a business to be successful and is directed to those who want to open a restaurant in Toronto."
   ]
  },
  {
   "cell_type": "markdown",
   "metadata": {},
   "source": [
    "### 2) A description of the data and how it will be used to solve the problem"
   ]
  },
  {
   "cell_type": "markdown",
   "metadata": {},
   "source": [
    "### Data Section"
   ]
  },
  {
   "cell_type": "markdown",
   "metadata": {},
   "source": [
    "To solve that problem we will use the venue information obtained from Foursquare location data. From Foursquare  we get information about the venues in each place for example coffee shop, restaurants, Gym.\n",
    "\n",
    "Then, the neighborhood information from Toronto available at wikipedia is used to segmented and clustered Toronto's neighborhoods: \"https://en.wikipedia.org/wiki/List_of_postal_codes_of_Canada:_M\".\n",
    "\n",
    "In the treatment of the data it has been used the libraries BeautifulSoup (scrap data from web), Geopy (get latitude and longitude), Folium (render maps), Sklearn KMeans(clustering) and, of course, numpy, pandas and matplotlib."
   ]
  },
  {
   "cell_type": "markdown",
   "metadata": {},
   "source": [
    "#### Following is an example of the information from wikipedia about Toronto Postal Codes / Neighborhoods:"
   ]
  },
  {
   "attachments": {},
   "cell_type": "markdown",
   "metadata": {},
   "source": [
    "<img src=\"example_wikipedia_toronto.PNG\"/>"
   ]
  },
  {
   "cell_type": "markdown",
   "metadata": {},
   "source": [
    "#### This is an example of the data from the Foursquare data after being cleaned and placed in a dataframe"
   ]
  },
  {
   "attachments": {},
   "cell_type": "markdown",
   "metadata": {},
   "source": [
    "<img src=\"example_foursquare_data.PNG\"/>"
   ]
  }
 ],
 "metadata": {
  "kernelspec": {
   "display_name": "Python 3",
   "language": "python",
   "name": "python3"
  },
  "language_info": {
   "codemirror_mode": {
    "name": "ipython",
    "version": 3
   },
   "file_extension": ".py",
   "mimetype": "text/x-python",
   "name": "python",
   "nbconvert_exporter": "python",
   "pygments_lexer": "ipython3",
   "version": "3.7.6"
  }
 },
 "nbformat": 4,
 "nbformat_minor": 4
}

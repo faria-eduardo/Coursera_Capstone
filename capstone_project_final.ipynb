{
 "cells": [
  {
   "cell_type": "markdown",
   "metadata": {},
   "source": [
    "# Capstone - Finding the best region for a restaurant in Toronto"
   ]
  },
  {
   "cell_type": "markdown",
   "metadata": {},
   "source": [
    "This notebook is used mainly for the capstone project of Eduardo Faria in the coursera course IBM Data Science."
   ]
  },
  {
   "cell_type": "markdown",
   "metadata": {},
   "source": [
    "## Table of contents\n",
    "* [Introduction: Business Problem](#introduction)\n",
    "* [Data](#data)\n",
    "* [Methodology](#methodology)\n",
    "* [Analysis](#analysis)\n",
    "* [Results and Discussion](#results)\n",
    "* [Conclusion](#conclusion)"
   ]
  },
  {
   "cell_type": "markdown",
   "metadata": {},
   "source": [
    "## Introduction: Business Problem <a name=\"introduction\"></a>"
   ]
  },
  {
   "cell_type": "markdown",
   "metadata": {},
   "source": [
    "The objective of this project is to identify the best region (cluster / neighborhoods) to open a restaurant in Toronto. To find the best place, we will look for the region with the highest concentration of restaurants, which indicates a good area for this type of business. This information is important for the entrepreneur who wants to open a business to be successful and is directed to those who want to open a restaurant in Toronto."
   ]
  },
  {
   "cell_type": "markdown",
   "metadata": {},
   "source": [
    "## Data <a name=\"data\"></a>"
   ]
  },
  {
   "cell_type": "markdown",
   "metadata": {},
   "source": [
    "To solve that problem we will use the venue information obtained from Foursquare location data. From Foursquare  we get information about the venues in each place for example coffee shop, restaurants, Gym.\n",
    "\n",
    "Then, the neighborhood information from Toronto available at wikipedia is used to segmented and clustered Toronto's neighborhoods: \"https://en.wikipedia.org/wiki/List_of_postal_codes_of_Canada:_M\".\n",
    "\n",
    "In the treatment of the data it has been used the libraries BeautifulSoup (scrap data from web), Geopy (get latitude and longitude), Folium (render maps), Sklearn KMeans(clustering) and, of course, numpy, pandas and matplotlib."
   ]
  },
  {
   "cell_type": "markdown",
   "metadata": {},
   "source": [
    "#### Following is an example of the information from wikipedia about Toronto Postal Codes / Neighborhoods:"
   ]
  },
  {
   "cell_type": "markdown",
   "metadata": {},
   "source": [
    "<img src=\"example_wikipedia_toronto.PNG\"/>"
   ]
  },
  {
   "cell_type": "markdown",
   "metadata": {},
   "source": [
    "#### This is an example of the data from the Foursquare data after being cleaned and placed in a dataframe"
   ]
  },
  {
   "cell_type": "markdown",
   "metadata": {},
   "source": [
    "<img src=\"example_foursquare_data.PNG\"/>"
   ]
  },
  {
   "cell_type": "markdown",
   "metadata": {},
   "source": [
    "## Read data from web and prepare dataframe"
   ]
  },
  {
   "cell_type": "code",
   "execution_count": 1,
   "metadata": {},
   "outputs": [],
   "source": [
    "import pandas as pd\n",
    "import numpy as np"
   ]
  },
  {
   "cell_type": "code",
   "execution_count": 2,
   "metadata": {},
   "outputs": [],
   "source": [
    "# Install package BeautifulSoup\n",
    "#!pip install beautifulsoup4\n",
    "#!pip install lxml"
   ]
  },
  {
   "cell_type": "code",
   "execution_count": 3,
   "metadata": {},
   "outputs": [],
   "source": [
    "import requests\n",
    "from bs4 import BeautifulSoup"
   ]
  },
  {
   "cell_type": "markdown",
   "metadata": {},
   "source": [
    "### Read postal code data from wikipedia\n",
    "Uses requests and BeautifulSoup to get the data from webpage."
   ]
  },
  {
   "cell_type": "code",
   "execution_count": 4,
   "metadata": {},
   "outputs": [],
   "source": [
    "# Site with postal code data of Toronto\n",
    "url = 'https://en.wikipedia.org/wiki/List_of_postal_codes_of_Canada:_M'\n",
    "source = requests.get(url).text\n",
    "soup = BeautifulSoup(source, 'lxml')\n",
    "#print(soup.prettify())"
   ]
  },
  {
   "cell_type": "code",
   "execution_count": 5,
   "metadata": {},
   "outputs": [],
   "source": [
    "site_table = soup.find('table', class_='wikitable')\n",
    "#print(site_table.prettify())"
   ]
  },
  {
   "cell_type": "markdown",
   "metadata": {},
   "source": [
    "### Create a dictionary and clean the data  \n",
    "- Ignore cells with a borough that is 'Not assigned'.\n",
    "- If a cell has a borough but a Not assigned neighborhood, then the neighborhood will be the same as the borough."
   ]
  },
  {
   "cell_type": "code",
   "execution_count": 6,
   "metadata": {},
   "outputs": [],
   "source": [
    "# Read Postal Code table from wikipedia\n",
    "postalCode_list = []\n",
    "borough_list = []\n",
    "neighborhood_list = []\n",
    "line_num = 0\n",
    "for line in site_table.find_all('tr'):\n",
    "    #Proccess each data row\n",
    "    col_item = 0\n",
    "    postalCode = ''\n",
    "    borough = ''\n",
    "    neighborhood = ''\n",
    "    #Read each column\n",
    "    for col in line.find_all('td'):\n",
    "        if col_item == 0:\n",
    "            postalCode = col.text.strip(' \\t\\n\\r')\n",
    "        elif col_item == 1:\n",
    "            borough = col.text.strip(' \\t\\n\\r')\n",
    "        elif col_item == 2:\n",
    "            neighborhood = col.text.strip(' \\t\\n\\r')\n",
    "        col_item += 1\n",
    "    \n",
    "    line_num += 1\n",
    "    \n",
    "    #ignore Borough 'Not assigned'\n",
    "    if (borough != 'Not assigned') and (len(borough) > 0):\n",
    "        #Set neighborhood the same as the borough, if cell has a borough but a Not assigned neighborhood\n",
    "        if (not neighborhood):\n",
    "            neighborhood = borough\n",
    "        #Change multiple neighborhood separator '/' per ', ' if needed\n",
    "        neighborhood = neighborhood.replace(' /', ',')\n",
    "        #Append the row data\n",
    "        postalCode_list.append(postalCode)\n",
    "        borough_list.append(borough)\n",
    "        neighborhood_list.append(neighborhood)\n",
    "data = {\n",
    "    'PostalCode': postalCode_list,\n",
    "    'Borough': borough_list,\n",
    "    'Neighborhood': neighborhood_list\n",
    "}"
   ]
  },
  {
   "cell_type": "markdown",
   "metadata": {},
   "source": [
    "### Create pandas DataFrame"
   ]
  },
  {
   "cell_type": "code",
   "execution_count": 7,
   "metadata": {},
   "outputs": [
    {
     "data": {
      "text/html": [
       "<div>\n",
       "<style scoped>\n",
       "    .dataframe tbody tr th:only-of-type {\n",
       "        vertical-align: middle;\n",
       "    }\n",
       "\n",
       "    .dataframe tbody tr th {\n",
       "        vertical-align: top;\n",
       "    }\n",
       "\n",
       "    .dataframe thead th {\n",
       "        text-align: right;\n",
       "    }\n",
       "</style>\n",
       "<table border=\"1\" class=\"dataframe\">\n",
       "  <thead>\n",
       "    <tr style=\"text-align: right;\">\n",
       "      <th></th>\n",
       "      <th>PostalCode</th>\n",
       "      <th>Borough</th>\n",
       "      <th>Neighborhood</th>\n",
       "    </tr>\n",
       "  </thead>\n",
       "  <tbody>\n",
       "    <tr>\n",
       "      <th>0</th>\n",
       "      <td>M3A</td>\n",
       "      <td>North York</td>\n",
       "      <td>Parkwoods</td>\n",
       "    </tr>\n",
       "    <tr>\n",
       "      <th>1</th>\n",
       "      <td>M4A</td>\n",
       "      <td>North York</td>\n",
       "      <td>Victoria Village</td>\n",
       "    </tr>\n",
       "    <tr>\n",
       "      <th>2</th>\n",
       "      <td>M5A</td>\n",
       "      <td>Downtown Toronto</td>\n",
       "      <td>Regent Park, Harbourfront</td>\n",
       "    </tr>\n",
       "    <tr>\n",
       "      <th>3</th>\n",
       "      <td>M6A</td>\n",
       "      <td>North York</td>\n",
       "      <td>Lawrence Manor, Lawrence Heights</td>\n",
       "    </tr>\n",
       "    <tr>\n",
       "      <th>4</th>\n",
       "      <td>M7A</td>\n",
       "      <td>Downtown Toronto</td>\n",
       "      <td>Queen's Park, Ontario Provincial Government</td>\n",
       "    </tr>\n",
       "    <tr>\n",
       "      <th>5</th>\n",
       "      <td>M9A</td>\n",
       "      <td>Etobicoke</td>\n",
       "      <td>Islington Avenue</td>\n",
       "    </tr>\n",
       "    <tr>\n",
       "      <th>6</th>\n",
       "      <td>M1B</td>\n",
       "      <td>Scarborough</td>\n",
       "      <td>Malvern, Rouge</td>\n",
       "    </tr>\n",
       "    <tr>\n",
       "      <th>7</th>\n",
       "      <td>M3B</td>\n",
       "      <td>North York</td>\n",
       "      <td>Don Mills</td>\n",
       "    </tr>\n",
       "    <tr>\n",
       "      <th>8</th>\n",
       "      <td>M4B</td>\n",
       "      <td>East York</td>\n",
       "      <td>Parkview Hill, Woodbine Gardens</td>\n",
       "    </tr>\n",
       "    <tr>\n",
       "      <th>9</th>\n",
       "      <td>M5B</td>\n",
       "      <td>Downtown Toronto</td>\n",
       "      <td>Garden District, Ryerson</td>\n",
       "    </tr>\n",
       "  </tbody>\n",
       "</table>\n",
       "</div>"
      ],
      "text/plain": [
       "  PostalCode           Borough                                 Neighborhood\n",
       "0        M3A        North York                                    Parkwoods\n",
       "1        M4A        North York                             Victoria Village\n",
       "2        M5A  Downtown Toronto                    Regent Park, Harbourfront\n",
       "3        M6A        North York             Lawrence Manor, Lawrence Heights\n",
       "4        M7A  Downtown Toronto  Queen's Park, Ontario Provincial Government\n",
       "5        M9A         Etobicoke                             Islington Avenue\n",
       "6        M1B       Scarborough                               Malvern, Rouge\n",
       "7        M3B        North York                                    Don Mills\n",
       "8        M4B         East York              Parkview Hill, Woodbine Gardens\n",
       "9        M5B  Downtown Toronto                     Garden District, Ryerson"
      ]
     },
     "execution_count": 7,
     "metadata": {},
     "output_type": "execute_result"
    }
   ],
   "source": [
    "# Creating pandas Dataframe\n",
    "neighborhoods = pd.DataFrame(data)\n",
    "neighborhoods.head(10)"
   ]
  },
  {
   "cell_type": "markdown",
   "metadata": {},
   "source": [
    "### Merge rows with same postal code"
   ]
  },
  {
   "cell_type": "code",
   "execution_count": 8,
   "metadata": {},
   "outputs": [
    {
     "data": {
      "text/html": [
       "<div>\n",
       "<style scoped>\n",
       "    .dataframe tbody tr th:only-of-type {\n",
       "        vertical-align: middle;\n",
       "    }\n",
       "\n",
       "    .dataframe tbody tr th {\n",
       "        vertical-align: top;\n",
       "    }\n",
       "\n",
       "    .dataframe thead th {\n",
       "        text-align: right;\n",
       "    }\n",
       "</style>\n",
       "<table border=\"1\" class=\"dataframe\">\n",
       "  <thead>\n",
       "    <tr style=\"text-align: right;\">\n",
       "      <th></th>\n",
       "      <th>PostalCode</th>\n",
       "      <th>Borough</th>\n",
       "      <th>Neighborhood</th>\n",
       "    </tr>\n",
       "  </thead>\n",
       "  <tbody>\n",
       "    <tr>\n",
       "      <th>0</th>\n",
       "      <td>M3A</td>\n",
       "      <td>North York</td>\n",
       "      <td>Parkwoods</td>\n",
       "    </tr>\n",
       "    <tr>\n",
       "      <th>1</th>\n",
       "      <td>M4A</td>\n",
       "      <td>North York</td>\n",
       "      <td>Victoria Village</td>\n",
       "    </tr>\n",
       "    <tr>\n",
       "      <th>2</th>\n",
       "      <td>M5A</td>\n",
       "      <td>Downtown Toronto</td>\n",
       "      <td>Regent Park, Harbourfront</td>\n",
       "    </tr>\n",
       "    <tr>\n",
       "      <th>3</th>\n",
       "      <td>M6A</td>\n",
       "      <td>North York</td>\n",
       "      <td>Lawrence Manor, Lawrence Heights</td>\n",
       "    </tr>\n",
       "    <tr>\n",
       "      <th>4</th>\n",
       "      <td>M7A</td>\n",
       "      <td>Downtown Toronto</td>\n",
       "      <td>Queen's Park, Ontario Provincial Government</td>\n",
       "    </tr>\n",
       "    <tr>\n",
       "      <th>5</th>\n",
       "      <td>M9A</td>\n",
       "      <td>Etobicoke</td>\n",
       "      <td>Islington Avenue</td>\n",
       "    </tr>\n",
       "    <tr>\n",
       "      <th>6</th>\n",
       "      <td>M1B</td>\n",
       "      <td>Scarborough</td>\n",
       "      <td>Malvern, Rouge</td>\n",
       "    </tr>\n",
       "    <tr>\n",
       "      <th>7</th>\n",
       "      <td>M3B</td>\n",
       "      <td>North York</td>\n",
       "      <td>Don Mills</td>\n",
       "    </tr>\n",
       "    <tr>\n",
       "      <th>8</th>\n",
       "      <td>M4B</td>\n",
       "      <td>East York</td>\n",
       "      <td>Parkview Hill, Woodbine Gardens</td>\n",
       "    </tr>\n",
       "    <tr>\n",
       "      <th>9</th>\n",
       "      <td>M5B</td>\n",
       "      <td>Downtown Toronto</td>\n",
       "      <td>Garden District, Ryerson</td>\n",
       "    </tr>\n",
       "  </tbody>\n",
       "</table>\n",
       "</div>"
      ],
      "text/plain": [
       "  PostalCode           Borough                                 Neighborhood\n",
       "0        M3A        North York                                    Parkwoods\n",
       "1        M4A        North York                             Victoria Village\n",
       "2        M5A  Downtown Toronto                    Regent Park, Harbourfront\n",
       "3        M6A        North York             Lawrence Manor, Lawrence Heights\n",
       "4        M7A  Downtown Toronto  Queen's Park, Ontario Provincial Government\n",
       "5        M9A         Etobicoke                             Islington Avenue\n",
       "6        M1B       Scarborough                               Malvern, Rouge\n",
       "7        M3B        North York                                    Don Mills\n",
       "8        M4B         East York              Parkview Hill, Woodbine Gardens\n",
       "9        M5B  Downtown Toronto                     Garden District, Ryerson"
      ]
     },
     "execution_count": 8,
     "metadata": {},
     "output_type": "execute_result"
    }
   ],
   "source": [
    "# Merge rows with same postal code\n",
    "for i, row in neighborhoods.iterrows():\n",
    "    # Go through the list and compare 'row' Postal Code with 'other_row' Postal Code\n",
    "    for other_i, other_row in neighborhoods.iterrows():\n",
    "        # if same Postal Code, merge data\n",
    "        if (other_row.PostalCode == row.PostalCode) and (other_i != i) and (other_i > i):\n",
    "            print('duplicate: ', i, ' ', other_i)\n",
    "            # combine data in column neighborhood\n",
    "            neighborhoods.iloc[i].Neighborhood = neighborhoods.iloc[i].Neighborhood + ', ' + neighborhoods.iloc[other_i].Neighborhood\n",
    "            print(neighborhoods.iloc[i].Neighborhood)\n",
    "            # delete duplicated postal code row\n",
    "            neighborhoods.drop(other_i, inplace=True)\n",
    "neighborhoods.head(10)\n"
   ]
  },
  {
   "cell_type": "markdown",
   "metadata": {},
   "source": [
    "### Shape of the dataframe with neighborhood information"
   ]
  },
  {
   "cell_type": "code",
   "execution_count": 9,
   "metadata": {
    "scrolled": true
   },
   "outputs": [
    {
     "data": {
      "text/plain": [
       "(103, 3)"
      ]
     },
     "execution_count": 9,
     "metadata": {},
     "output_type": "execute_result"
    }
   ],
   "source": [
    "neighborhoods.shape"
   ]
  },
  {
   "cell_type": "markdown",
   "metadata": {},
   "source": [
    "## Getting Latitudes and Longitudes"
   ]
  },
  {
   "cell_type": "markdown",
   "metadata": {},
   "source": [
    "### Note: Geocoder lib did not work well, then csv file with latitude and longitude is used"
   ]
  },
  {
   "cell_type": "code",
   "execution_count": 10,
   "metadata": {},
   "outputs": [],
   "source": [
    "# install Geocoder API to get Latitude and longitude\n",
    "#!pip install geocoder\n",
    "#import geocoder\n",
    "\n",
    "# initialize variable to None\n",
    "#lat_lng_coords = None\n",
    "\n",
    "# loop until get the coordinates\n",
    "#while(lat_lng_coords is None):\n",
    "#  g = geocoder.google('{}, Toronto, Ontario'.format(postal_code))\n",
    "#  lat_lng_coords = g.latlng\n",
    "\n",
    "#latitude = lat_lng_coords[0]\n",
    "#longitude = lat_lng_coords[1]"
   ]
  },
  {
   "cell_type": "markdown",
   "metadata": {},
   "source": [
    "### Read Coordinates from csv"
   ]
  },
  {
   "cell_type": "code",
   "execution_count": 11,
   "metadata": {},
   "outputs": [
    {
     "data": {
      "text/html": [
       "<div>\n",
       "<style scoped>\n",
       "    .dataframe tbody tr th:only-of-type {\n",
       "        vertical-align: middle;\n",
       "    }\n",
       "\n",
       "    .dataframe tbody tr th {\n",
       "        vertical-align: top;\n",
       "    }\n",
       "\n",
       "    .dataframe thead th {\n",
       "        text-align: right;\n",
       "    }\n",
       "</style>\n",
       "<table border=\"1\" class=\"dataframe\">\n",
       "  <thead>\n",
       "    <tr style=\"text-align: right;\">\n",
       "      <th></th>\n",
       "      <th>Postal Code</th>\n",
       "      <th>Latitude</th>\n",
       "      <th>Longitude</th>\n",
       "    </tr>\n",
       "  </thead>\n",
       "  <tbody>\n",
       "    <tr>\n",
       "      <th>0</th>\n",
       "      <td>M1B</td>\n",
       "      <td>43.806686</td>\n",
       "      <td>-79.194353</td>\n",
       "    </tr>\n",
       "    <tr>\n",
       "      <th>1</th>\n",
       "      <td>M1C</td>\n",
       "      <td>43.784535</td>\n",
       "      <td>-79.160497</td>\n",
       "    </tr>\n",
       "    <tr>\n",
       "      <th>2</th>\n",
       "      <td>M1E</td>\n",
       "      <td>43.763573</td>\n",
       "      <td>-79.188711</td>\n",
       "    </tr>\n",
       "    <tr>\n",
       "      <th>3</th>\n",
       "      <td>M1G</td>\n",
       "      <td>43.770992</td>\n",
       "      <td>-79.216917</td>\n",
       "    </tr>\n",
       "    <tr>\n",
       "      <th>4</th>\n",
       "      <td>M1H</td>\n",
       "      <td>43.773136</td>\n",
       "      <td>-79.239476</td>\n",
       "    </tr>\n",
       "  </tbody>\n",
       "</table>\n",
       "</div>"
      ],
      "text/plain": [
       "  Postal Code   Latitude  Longitude\n",
       "0         M1B  43.806686 -79.194353\n",
       "1         M1C  43.784535 -79.160497\n",
       "2         M1E  43.763573 -79.188711\n",
       "3         M1G  43.770992 -79.216917\n",
       "4         M1H  43.773136 -79.239476"
      ]
     },
     "execution_count": 11,
     "metadata": {},
     "output_type": "execute_result"
    }
   ],
   "source": [
    "coords = pd.read_csv('https://cocl.us/Geospatial_data')\n",
    "coords.head()"
   ]
  },
  {
   "cell_type": "markdown",
   "metadata": {},
   "source": [
    "### Include latitude and longitude in the main Dataframe 'neighborhoods' "
   ]
  },
  {
   "cell_type": "code",
   "execution_count": 12,
   "metadata": {
    "scrolled": true
   },
   "outputs": [
    {
     "data": {
      "text/html": [
       "<div>\n",
       "<style scoped>\n",
       "    .dataframe tbody tr th:only-of-type {\n",
       "        vertical-align: middle;\n",
       "    }\n",
       "\n",
       "    .dataframe tbody tr th {\n",
       "        vertical-align: top;\n",
       "    }\n",
       "\n",
       "    .dataframe thead th {\n",
       "        text-align: right;\n",
       "    }\n",
       "</style>\n",
       "<table border=\"1\" class=\"dataframe\">\n",
       "  <thead>\n",
       "    <tr style=\"text-align: right;\">\n",
       "      <th></th>\n",
       "      <th>PostalCode</th>\n",
       "      <th>Borough</th>\n",
       "      <th>Neighborhood</th>\n",
       "      <th>Latitude</th>\n",
       "      <th>Longitude</th>\n",
       "    </tr>\n",
       "  </thead>\n",
       "  <tbody>\n",
       "    <tr>\n",
       "      <th>0</th>\n",
       "      <td>M3A</td>\n",
       "      <td>North York</td>\n",
       "      <td>Parkwoods</td>\n",
       "      <td>43.753259</td>\n",
       "      <td>-79.329656</td>\n",
       "    </tr>\n",
       "    <tr>\n",
       "      <th>1</th>\n",
       "      <td>M4A</td>\n",
       "      <td>North York</td>\n",
       "      <td>Victoria Village</td>\n",
       "      <td>43.725882</td>\n",
       "      <td>-79.315572</td>\n",
       "    </tr>\n",
       "    <tr>\n",
       "      <th>2</th>\n",
       "      <td>M5A</td>\n",
       "      <td>Downtown Toronto</td>\n",
       "      <td>Regent Park, Harbourfront</td>\n",
       "      <td>43.654260</td>\n",
       "      <td>-79.360636</td>\n",
       "    </tr>\n",
       "    <tr>\n",
       "      <th>3</th>\n",
       "      <td>M6A</td>\n",
       "      <td>North York</td>\n",
       "      <td>Lawrence Manor, Lawrence Heights</td>\n",
       "      <td>43.718518</td>\n",
       "      <td>-79.464763</td>\n",
       "    </tr>\n",
       "    <tr>\n",
       "      <th>4</th>\n",
       "      <td>M7A</td>\n",
       "      <td>Downtown Toronto</td>\n",
       "      <td>Queen's Park, Ontario Provincial Government</td>\n",
       "      <td>43.662301</td>\n",
       "      <td>-79.389494</td>\n",
       "    </tr>\n",
       "  </tbody>\n",
       "</table>\n",
       "</div>"
      ],
      "text/plain": [
       "  PostalCode           Borough                                 Neighborhood  \\\n",
       "0        M3A        North York                                    Parkwoods   \n",
       "1        M4A        North York                             Victoria Village   \n",
       "2        M5A  Downtown Toronto                    Regent Park, Harbourfront   \n",
       "3        M6A        North York             Lawrence Manor, Lawrence Heights   \n",
       "4        M7A  Downtown Toronto  Queen's Park, Ontario Provincial Government   \n",
       "\n",
       "    Latitude  Longitude  \n",
       "0  43.753259 -79.329656  \n",
       "1  43.725882 -79.315572  \n",
       "2  43.654260 -79.360636  \n",
       "3  43.718518 -79.464763  \n",
       "4  43.662301 -79.389494  "
      ]
     },
     "execution_count": 12,
     "metadata": {},
     "output_type": "execute_result"
    }
   ],
   "source": [
    "# Find coords for each neigborhoods\n",
    "latitude = []\n",
    "longitude = []\n",
    "for i, neighborhood in neighborhoods.iterrows():\n",
    "    postalCode = neighborhood.PostalCode \n",
    "    coord = coords.loc[coords['Postal Code'] == postalCode]\n",
    "    latitude.append(coord.Latitude.item())\n",
    "    longitude.append(coord.Longitude.item())\n",
    "# Include Latitude and Longitude in the Dataframe\n",
    "neighborhoods['Latitude'] = latitude\n",
    "neighborhoods['Longitude'] = longitude\n",
    "neighborhoods.head()"
   ]
  },
  {
   "cell_type": "markdown",
   "metadata": {},
   "source": [
    "## Methodology <a name=\"methodology\"></a>"
   ]
  },
  {
   "cell_type": "markdown",
   "metadata": {},
   "source": [
    "In this project we will direct detecting areas of Toronto that have high restaurant density. We will limit our analysis to boroughs that contain the word Toronto.\n",
    "\n",
    "A map of Toronto Neighborhoods is plot with Folium Complete and simplified.\n",
    "\n",
    "In first step we have collected the venue data for each neighborhood of Toronto using Foursquare.\n",
    "\n",
    "After we check how many venues were returned for each neighborhood.\n",
    "\n",
    "Clustering technique using K-means is used to group the neighborhoods.\n",
    "\n",
    "The most common revenue for each cluster is found.\n",
    "\n",
    "Finaly we select the cluster with more restaurants in first more commom revenue."
   ]
  },
  {
   "cell_type": "markdown",
   "metadata": {},
   "source": [
    "## Analysis <a name=\"analysis\"></a>"
   ]
  },
  {
   "cell_type": "markdown",
   "metadata": {},
   "source": [
    "First let's count the **number of restaurants in every area candidate**:"
   ]
  },
  {
   "cell_type": "markdown",
   "metadata": {},
   "source": [
    "### Instaling Libraries"
   ]
  },
  {
   "cell_type": "code",
   "execution_count": 13,
   "metadata": {
    "scrolled": true
   },
   "outputs": [],
   "source": [
    "# install geopy library\n",
    "#!pip install geopy\n",
    "# import Nominatim - convert an address into latitude and longitude values\n",
    "from geopy.geocoders import Nominatim "
   ]
  },
  {
   "cell_type": "code",
   "execution_count": 14,
   "metadata": {},
   "outputs": [],
   "source": [
    "# install folium library\n",
    "#!pip install folium\n",
    "# import folium library\n",
    "import folium"
   ]
  },
  {
   "cell_type": "markdown",
   "metadata": {},
   "source": [
    "### Find latitude and longitude of Toronto"
   ]
  },
  {
   "cell_type": "code",
   "execution_count": 15,
   "metadata": {},
   "outputs": [
    {
     "name": "stdout",
     "output_type": "stream",
     "text": [
      "The geograpical coordinate of Toronto City are 43.6534817, -79.3839347.\n"
     ]
    }
   ],
   "source": [
    "address = 'Toronto, Canada'\n",
    "geolocator = Nominatim(user_agent=\"toronto_explorer\") #user agent need to be defined \n",
    "location = geolocator.geocode(address)\n",
    "toronto_lat = location.latitude\n",
    "toronto_lng = location.longitude\n",
    "print('The geograpical coordinate of Toronto City are {}, {}.'.format(toronto_lat, toronto_lng))"
   ]
  },
  {
   "cell_type": "markdown",
   "metadata": {},
   "source": [
    "### Create a map of Toronto with neighborhoods superimposed on top."
   ]
  },
  {
   "cell_type": "code",
   "execution_count": 16,
   "metadata": {
    "scrolled": true
   },
   "outputs": [],
   "source": [
    "# install folium library\n",
    "#!pip install folium\n",
    "# import folium library\n",
    "import folium"
   ]
  },
  {
   "cell_type": "code",
   "execution_count": 17,
   "metadata": {
    "scrolled": true
   },
   "outputs": [
    {
     "data": {
      "text/html": [
       "<div style=\"width:100%;\"><div style=\"position:relative;width:100%;height:0;padding-bottom:60%;\"><iframe src=\"about:blank\" style=\"position:absolute;width:100%;height:100%;left:0;top:0;border:none !important;\" data-html=PCFET0NUWVBFIGh0bWw+CjxoZWFkPiAgICAKICAgIDxtZXRhIGh0dHAtZXF1aXY9ImNvbnRlbnQtdHlwZSIgY29udGVudD0idGV4dC9odG1sOyBjaGFyc2V0PVVURi04IiAvPgogICAgCiAgICAgICAgPHNjcmlwdD4KICAgICAgICAgICAgTF9OT19UT1VDSCA9IGZhbHNlOwogICAgICAgICAgICBMX0RJU0FCTEVfM0QgPSBmYWxzZTsKICAgICAgICA8L3NjcmlwdD4KICAgIAogICAgPHNjcmlwdCBzcmM9Imh0dHBzOi8vY2RuLmpzZGVsaXZyLm5ldC9ucG0vbGVhZmxldEAxLjUuMS9kaXN0L2xlYWZsZXQuanMiPjwvc2NyaXB0PgogICAgPHNjcmlwdCBzcmM9Imh0dHBzOi8vY29kZS5qcXVlcnkuY29tL2pxdWVyeS0xLjEyLjQubWluLmpzIj48L3NjcmlwdD4KICAgIDxzY3JpcHQgc3JjPSJodHRwczovL21heGNkbi5ib290c3RyYXBjZG4uY29tL2Jvb3RzdHJhcC8zLjIuMC9qcy9ib290c3RyYXAubWluLmpzIj48L3NjcmlwdD4KICAgIDxzY3JpcHQgc3JjPSJodHRwczovL2NkbmpzLmNsb3VkZmxhcmUuY29tL2FqYXgvbGlicy9MZWFmbGV0LmF3ZXNvbWUtbWFya2Vycy8yLjAuMi9sZWFmbGV0LmF3ZXNvbWUtbWFya2Vycy5qcyI+PC9zY3JpcHQ+CiAgICA8bGluayByZWw9InN0eWxlc2hlZXQiIGhyZWY9Imh0dHBzOi8vY2RuLmpzZGVsaXZyLm5ldC9ucG0vbGVhZmxldEAxLjUuMS9kaXN0L2xlYWZsZXQuY3NzIi8+CiAgICA8bGluayByZWw9InN0eWxlc2hlZXQiIGhyZWY9Imh0dHBzOi8vbWF4Y2RuLmJvb3RzdHJhcGNkbi5jb20vYm9vdHN0cmFwLzMuMi4wL2Nzcy9ib290c3RyYXAubWluLmNzcyIvPgogICAgPGxpbmsgcmVsPSJzdHlsZXNoZWV0IiBocmVmPSJodHRwczovL21heGNkbi5ib290c3RyYXBjZG4uY29tL2Jvb3RzdHJhcC8zLjIuMC9jc3MvYm9vdHN0cmFwLXRoZW1lLm1pbi5jc3MiLz4KICAgIDxsaW5rIHJlbD0ic3R5bGVzaGVldCIgaHJlZj0iaHR0cHM6Ly9tYXhjZG4uYm9vdHN0cmFwY2RuLmNvbS9mb250LWF3ZXNvbWUvNC42LjMvY3NzL2ZvbnQtYXdlc29tZS5taW4uY3NzIi8+CiAgICA8bGluayByZWw9InN0eWxlc2hlZXQiIGhyZWY9Imh0dHBzOi8vY2RuanMuY2xvdWRmbGFyZS5jb20vYWpheC9saWJzL0xlYWZsZXQuYXdlc29tZS1tYXJrZXJzLzIuMC4yL2xlYWZsZXQuYXdlc29tZS1tYXJrZXJzLmNzcyIvPgogICAgPGxpbmsgcmVsPSJzdHlsZXNoZWV0IiBocmVmPSJodHRwczovL3Jhd2Nkbi5naXRoYWNrLmNvbS9weXRob24tdmlzdWFsaXphdGlvbi9mb2xpdW0vbWFzdGVyL2ZvbGl1bS90ZW1wbGF0ZXMvbGVhZmxldC5hd2Vzb21lLnJvdGF0ZS5jc3MiLz4KICAgIDxzdHlsZT5odG1sLCBib2R5IHt3aWR0aDogMTAwJTtoZWlnaHQ6IDEwMCU7bWFyZ2luOiAwO3BhZGRpbmc6IDA7fTwvc3R5bGU+CiAgICA8c3R5bGU+I21hcCB7cG9zaXRpb246YWJzb2x1dGU7dG9wOjA7Ym90dG9tOjA7cmlnaHQ6MDtsZWZ0OjA7fTwvc3R5bGU+CiAgICAKICAgICAgICAgICAgPG1ldGEgbmFtZT0idmlld3BvcnQiIGNvbnRlbnQ9IndpZHRoPWRldmljZS13aWR0aCwKICAgICAgICAgICAgICAgIGluaXRpYWwtc2NhbGU9MS4wLCBtYXhpbXVtLXNjYWxlPTEuMCwgdXNlci1zY2FsYWJsZT1ubyIgLz4KICAgICAgICAgICAgPHN0eWxlPgogICAgICAgICAgICAgICAgI21hcF83YmMyYWU2ODMyN2E0YzQ2OWRiZjE2ZGU0ZTk1MGMyNiB7CiAgICAgICAgICAgICAgICAgICAgcG9zaXRpb246IHJlbGF0aXZlOwogICAgICAgICAgICAgICAgICAgIHdpZHRoOiAxMDAuMCU7CiAgICAgICAgICAgICAgICAgICAgaGVpZ2h0OiAxMDAuMCU7CiAgICAgICAgICAgICAgICAgICAgbGVmdDogMC4wJTsKICAgICAgICAgICAgICAgICAgICB0b3A6IDAuMCU7CiAgICAgICAgICAgICAgICB9CiAgICAgICAgICAgIDwvc3R5bGU+CiAgICAgICAgCjwvaGVhZD4KPGJvZHk+ICAgIAogICAgCiAgICAgICAgICAgIDxkaXYgY2xhc3M9ImZvbGl1bS1tYXAiIGlkPSJtYXBfN2JjMmFlNjgzMjdhNGM0NjlkYmYxNmRlNGU5NTBjMjYiID48L2Rpdj4KICAgICAgICAKPC9ib2R5Pgo8c2NyaXB0PiAgICAKICAgIAogICAgICAgICAgICB2YXIgbWFwXzdiYzJhZTY4MzI3YTRjNDY5ZGJmMTZkZTRlOTUwYzI2ID0gTC5tYXAoCiAgICAgICAgICAgICAgICAibWFwXzdiYzJhZTY4MzI3YTRjNDY5ZGJmMTZkZTRlOTUwYzI2IiwKICAgICAgICAgICAgICAgIHsKICAgICAgICAgICAgICAgICAgICBjZW50ZXI6IFs0My42NTM0ODE3LCAtNzkuMzgzOTM0N10sCiAgICAgICAgICAgICAgICAgICAgY3JzOiBMLkNSUy5FUFNHMzg1NywKICAgICAgICAgICAgICAgICAgICB6b29tOiAxMCwKICAgICAgICAgICAgICAgICAgICB6b29tQ29udHJvbDogdHJ1ZSwKICAgICAgICAgICAgICAgICAgICBwcmVmZXJDYW52YXM6IGZhbHNlLAogICAgICAgICAgICAgICAgfQogICAgICAgICAgICApOwoKICAgICAgICAgICAgCgogICAgICAgIAogICAgCiAgICAgICAgICAgIHZhciB0aWxlX2xheWVyX2RjNjU2ZWZjMTg1ZjRkMzRhY2FiNjQwYzNmM2M3ZDExID0gTC50aWxlTGF5ZXIoCiAgICAgICAgICAgICAgICAiaHR0cHM6Ly97c30udGlsZS5vcGVuc3RyZWV0bWFwLm9yZy97en0ve3h9L3t5fS5wbmciLAogICAgICAgICAgICAgICAgeyJhdHRyaWJ1dGlvbiI6ICJEYXRhIGJ5IFx1MDAyNmNvcHk7IFx1MDAzY2EgaHJlZj1cImh0dHA6Ly9vcGVuc3RyZWV0bWFwLm9yZ1wiXHUwMDNlT3BlblN0cmVldE1hcFx1MDAzYy9hXHUwMDNlLCB1bmRlciBcdTAwM2NhIGhyZWY9XCJodHRwOi8vd3d3Lm9wZW5zdHJlZXRtYXAub3JnL2NvcHlyaWdodFwiXHUwMDNlT0RiTFx1MDAzYy9hXHUwMDNlLiIsICJkZXRlY3RSZXRpbmEiOiBmYWxzZSwgIm1heE5hdGl2ZVpvb20iOiAxOCwgIm1heFpvb20iOiAxOCwgIm1pblpvb20iOiAwLCAibm9XcmFwIjogZmFsc2UsICJvcGFjaXR5IjogMSwgInN1YmRvbWFpbnMiOiAiYWJjIiwgInRtcyI6IGZhbHNlfQogICAgICAgICAgICApLmFkZFRvKG1hcF83YmMyYWU2ODMyN2E0YzQ2OWRiZjE2ZGU0ZTk1MGMyNik7CiAgICAgICAgCiAgICAKICAgICAgICAgICAgdmFyIGNpcmNsZV9tYXJrZXJfZWIxZjYxZjEzNzIzNGM3NzllMmYwYjIzMGFjNDY3MTQgPSBMLmNpcmNsZU1hcmtlcigKICAgICAgICAgICAgICAgIFs0My43NTMyNTg2LCAtNzkuMzI5NjU2NV0sCiAgICAgICAgICAgICAgICB7ImJ1YmJsaW5nTW91c2VFdmVudHMiOiB0cnVlLCAiY29sb3IiOiAiYmx1ZSIsICJkYXNoQXJyYXkiOiBudWxsLCAiZGFzaE9mZnNldCI6IG51bGwsICJmaWxsIjogdHJ1ZSwgImZpbGxDb2xvciI6ICIjMzE4NmNjIiwgImZpbGxPcGFjaXR5IjogMC43LCAiZmlsbFJ1bGUiOiAiZXZlbm9kZCIsICJsaW5lQ2FwIjogInJvdW5kIiwgImxpbmVKb2luIjogInJvdW5kIiwgIm9wYWNpdHkiOiAxLjAsICJyYWRpdXMiOiA1LCAic3Ryb2tlIjogdHJ1ZSwgIndlaWdodCI6IDN9CiAgICAgICAgICAgICkuYWRkVG8obWFwXzdiYzJhZTY4MzI3YTRjNDY5ZGJmMTZkZTRlOTUwYzI2KTsKICAgICAgICAKICAgIAogICAgICAgIHZhciBwb3B1cF8xYzJjODg3MjU1ZWM0ZjNjOTAxMGFjMDlkNjY1MTNjOSA9IEwucG9wdXAoeyJtYXhXaWR0aCI6ICIxMDAlIn0pOwoKICAgICAgICAKICAgICAgICAgICAgdmFyIGh0bWxfOWNkMzFmOGQyODRjNDU0OTg2YmU2ODMzM2E5NjhlNjAgPSAkKGA8ZGl2IGlkPSJodG1sXzljZDMxZjhkMjg0YzQ1NDk4NmJlNjgzMzNhOTY4ZTYwIiBzdHlsZT0id2lkdGg6IDEwMC4wJTsgaGVpZ2h0OiAxMDAuMCU7Ij5QYXJrd29vZHMsIE5vcnRoIFlvcms8L2Rpdj5gKVswXTsKICAgICAgICAgICAgcG9wdXBfMWMyYzg4NzI1NWVjNGYzYzkwMTBhYzA5ZDY2NTEzYzkuc2V0Q29udGVudChodG1sXzljZDMxZjhkMjg0YzQ1NDk4NmJlNjgzMzNhOTY4ZTYwKTsKICAgICAgICAKCiAgICAgICAgY2lyY2xlX21hcmtlcl9lYjFmNjFmMTM3MjM0Yzc3OWUyZjBiMjMwYWM0NjcxNC5iaW5kUG9wdXAocG9wdXBfMWMyYzg4NzI1NWVjNGYzYzkwMTBhYzA5ZDY2NTEzYzkpCiAgICAgICAgOwoKICAgICAgICAKICAgIAogICAgCiAgICAgICAgICAgIHZhciBjaXJjbGVfbWFya2VyXzM4ZTQ2YTg4MWI3NTQ0OGY4M2Q4MTNiNTA1MDA0NzA5ID0gTC5jaXJjbGVNYXJrZXIoCiAgICAgICAgICAgICAgICBbNDMuNzI1ODgyMjk5OTk5OTk1LCAtNzkuMzE1NTcxNTk5OTk5OThdLAogICAgICAgICAgICAgICAgeyJidWJibGluZ01vdXNlRXZlbnRzIjogdHJ1ZSwgImNvbG9yIjogImJsdWUiLCAiZGFzaEFycmF5IjogbnVsbCwgImRhc2hPZmZzZXQiOiBudWxsLCAiZmlsbCI6IHRydWUsICJmaWxsQ29sb3IiOiAiIzMxODZjYyIsICJmaWxsT3BhY2l0eSI6IDAuNywgImZpbGxSdWxlIjogImV2ZW5vZGQiLCAibGluZUNhcCI6ICJyb3VuZCIsICJsaW5lSm9pbiI6ICJyb3VuZCIsICJvcGFjaXR5IjogMS4wLCAicmFkaXVzIjogNSwgInN0cm9rZSI6IHRydWUsICJ3ZWlnaHQiOiAzfQogICAgICAgICAgICApLmFkZFRvKG1hcF83YmMyYWU2ODMyN2E0YzQ2OWRiZjE2ZGU0ZTk1MGMyNik7CiAgICAgICAgCiAgICAKICAgICAgICB2YXIgcG9wdXBfYzA4YjUwZWU5OGQyNDk3Njg0OGYxNjM0NjRiMWQwZGIgPSBMLnBvcHVwKHsibWF4V2lkdGgiOiAiMTAwJSJ9KTsKCiAgICAgICAgCiAgICAgICAgICAgIHZhciBodG1sXzJjYTJmNDhiMjQ4NDRjOGFhOTFjNzkwZmNhN2I0ZWNlID0gJChgPGRpdiBpZD0iaHRtbF8yY2EyZjQ4YjI0ODQ0YzhhYTkxYzc5MGZjYTdiNGVjZSIgc3R5bGU9IndpZHRoOiAxMDAuMCU7IGhlaWdodDogMTAwLjAlOyI+VmljdG9yaWEgVmlsbGFnZSwgTm9ydGggWW9yazwvZGl2PmApWzBdOwogICAgICAgICAgICBwb3B1cF9jMDhiNTBlZTk4ZDI0OTc2ODQ4ZjE2MzQ2NGIxZDBkYi5zZXRDb250ZW50KGh0bWxfMmNhMmY0OGIyNDg0NGM4YWE5MWM3OTBmY2E3YjRlY2UpOwogICAgICAgIAoKICAgICAgICBjaXJjbGVfbWFya2VyXzM4ZTQ2YTg4MWI3NTQ0OGY4M2Q4MTNiNTA1MDA0NzA5LmJpbmRQb3B1cChwb3B1cF9jMDhiNTBlZTk4ZDI0OTc2ODQ4ZjE2MzQ2NGIxZDBkYikKICAgICAgICA7CgogICAgICAgIAogICAgCiAgICAKICAgICAgICAgICAgdmFyIGNpcmNsZV9tYXJrZXJfNDZmNzRlZjk4YjY0NDc1ZjhkODg5YmM1MWMzMjI4NmIgPSBMLmNpcmNsZU1hcmtlcigKICAgICAgICAgICAgICAgIFs0My42NTQyNTk5LCAtNzkuMzYwNjM1OV0sCiAgICAgICAgICAgICAgICB7ImJ1YmJsaW5nTW91c2VFdmVudHMiOiB0cnVlLCAiY29sb3IiOiAiYmx1ZSIsICJkYXNoQXJyYXkiOiBudWxsLCAiZGFzaE9mZnNldCI6IG51bGwsICJmaWxsIjogdHJ1ZSwgImZpbGxDb2xvciI6ICIjMzE4NmNjIiwgImZpbGxPcGFjaXR5IjogMC43LCAiZmlsbFJ1bGUiOiAiZXZlbm9kZCIsICJsaW5lQ2FwIjogInJvdW5kIiwgImxpbmVKb2luIjogInJvdW5kIiwgIm9wYWNpdHkiOiAxLjAsICJyYWRpdXMiOiA1LCAic3Ryb2tlIjogdHJ1ZSwgIndlaWdodCI6IDN9CiAgICAgICAgICAgICkuYWRkVG8obWFwXzdiYzJhZTY4MzI3YTRjNDY5ZGJmMTZkZTRlOTUwYzI2KTsKICAgICAgICAKICAgIAogICAgICAgIHZhciBwb3B1cF83OGYwODdkMmJmNTk0OTZmYTMzYmI3ZWUyYzE5NDdhMiA9IEwucG9wdXAoeyJtYXhXaWR0aCI6ICIxMDAlIn0pOwoKICAgICAgICAKICAgICAgICAgICAgdmFyIGh0bWxfYjgyZjY4NTdhNjBiNDI2NmJjMjU5N2JlZjJhZDgxYWYgPSAkKGA8ZGl2IGlkPSJodG1sX2I4MmY2ODU3YTYwYjQyNjZiYzI1OTdiZWYyYWQ4MWFmIiBzdHlsZT0id2lkdGg6IDEwMC4wJTsgaGVpZ2h0OiAxMDAuMCU7Ij5SZWdlbnQgUGFyaywgSGFyYm91cmZyb250LCBEb3dudG93biBUb3JvbnRvPC9kaXY+YClbMF07CiAgICAgICAgICAgIHBvcHVwXzc4ZjA4N2QyYmY1OTQ5NmZhMzNiYjdlZTJjMTk0N2EyLnNldENvbnRlbnQoaHRtbF9iODJmNjg1N2E2MGI0MjY2YmMyNTk3YmVmMmFkODFhZik7CiAgICAgICAgCgogICAgICAgIGNpcmNsZV9tYXJrZXJfNDZmNzRlZjk4YjY0NDc1ZjhkODg5YmM1MWMzMjI4NmIuYmluZFBvcHVwKHBvcHVwXzc4ZjA4N2QyYmY1OTQ5NmZhMzNiYjdlZTJjMTk0N2EyKQogICAgICAgIDsKCiAgICAgICAgCiAgICAKICAgIAogICAgICAgICAgICB2YXIgY2lyY2xlX21hcmtlcl8wMDhiMWQyOWE5NzY0MjIyODFkNDQzMDU5OGM0NTRkNiA9IEwuY2lyY2xlTWFya2VyKAogICAgICAgICAgICAgICAgWzQzLjcxODUxNzk5OTk5OTk5NiwgLTc5LjQ2NDc2MzI5OTk5OTk5XSwKICAgICAgICAgICAgICAgIHsiYnViYmxpbmdNb3VzZUV2ZW50cyI6IHRydWUsICJjb2xvciI6ICJibHVlIiwgImRhc2hBcnJheSI6IG51bGwsICJkYXNoT2Zmc2V0IjogbnVsbCwgImZpbGwiOiB0cnVlLCAiZmlsbENvbG9yIjogIiMzMTg2Y2MiLCAiZmlsbE9wYWNpdHkiOiAwLjcsICJmaWxsUnVsZSI6ICJldmVub2RkIiwgImxpbmVDYXAiOiAicm91bmQiLCAibGluZUpvaW4iOiAicm91bmQiLCAib3BhY2l0eSI6IDEuMCwgInJhZGl1cyI6IDUsICJzdHJva2UiOiB0cnVlLCAid2VpZ2h0IjogM30KICAgICAgICAgICAgKS5hZGRUbyhtYXBfN2JjMmFlNjgzMjdhNGM0NjlkYmYxNmRlNGU5NTBjMjYpOwogICAgICAgIAogICAgCiAgICAgICAgdmFyIHBvcHVwX2QwODkwODdmZmE1YzQ5MDI4MjhhZGExZDU4MWM5MTQzID0gTC5wb3B1cCh7Im1heFdpZHRoIjogIjEwMCUifSk7CgogICAgICAgIAogICAgICAgICAgICB2YXIgaHRtbF85YzE4MjdiOGYwMjc0YWMxOGFiNjUzOGRmN2ZkMDY1MSA9ICQoYDxkaXYgaWQ9Imh0bWxfOWMxODI3YjhmMDI3NGFjMThhYjY1MzhkZjdmZDA2NTEiIHN0eWxlPSJ3aWR0aDogMTAwLjAlOyBoZWlnaHQ6IDEwMC4wJTsiPkxhd3JlbmNlIE1hbm9yLCBMYXdyZW5jZSBIZWlnaHRzLCBOb3J0aCBZb3JrPC9kaXY+YClbMF07CiAgICAgICAgICAgIHBvcHVwX2QwODkwODdmZmE1YzQ5MDI4MjhhZGExZDU4MWM5MTQzLnNldENvbnRlbnQoaHRtbF85YzE4MjdiOGYwMjc0YWMxOGFiNjUzOGRmN2ZkMDY1MSk7CiAgICAgICAgCgogICAgICAgIGNpcmNsZV9tYXJrZXJfMDA4YjFkMjlhOTc2NDIyMjgxZDQ0MzA1OThjNDU0ZDYuYmluZFBvcHVwKHBvcHVwX2QwODkwODdmZmE1YzQ5MDI4MjhhZGExZDU4MWM5MTQzKQogICAgICAgIDsKCiAgICAgICAgCiAgICAKICAgIAogICAgICAgICAgICB2YXIgY2lyY2xlX21hcmtlcl9iZjZmNjhkNWUxNzM0Yzc4YjkyZDM5NTQ0NmE0OWIzMiA9IEwuY2lyY2xlTWFya2VyKAogICAgICAgICAgICAgICAgWzQzLjY2MjMwMTUsIC03OS4zODk0OTM4XSwKICAgICAgICAgICAgICAgIHsiYnViYmxpbmdNb3VzZUV2ZW50cyI6IHRydWUsICJjb2xvciI6ICJibHVlIiwgImRhc2hBcnJheSI6IG51bGwsICJkYXNoT2Zmc2V0IjogbnVsbCwgImZpbGwiOiB0cnVlLCAiZmlsbENvbG9yIjogIiMzMTg2Y2MiLCAiZmlsbE9wYWNpdHkiOiAwLjcsICJmaWxsUnVsZSI6ICJldmVub2RkIiwgImxpbmVDYXAiOiAicm91bmQiLCAibGluZUpvaW4iOiAicm91bmQiLCAib3BhY2l0eSI6IDEuMCwgInJhZGl1cyI6IDUsICJzdHJva2UiOiB0cnVlLCAid2VpZ2h0IjogM30KICAgICAgICAgICAgKS5hZGRUbyhtYXBfN2JjMmFlNjgzMjdhNGM0NjlkYmYxNmRlNGU5NTBjMjYpOwogICAgICAgIAogICAgCiAgICAgICAgdmFyIHBvcHVwXzMyNmUyNzU0MDZlNzQ0YmNhY2RjYjI3MmEyYWJmNTE3ID0gTC5wb3B1cCh7Im1heFdpZHRoIjogIjEwMCUifSk7CgogICAgICAgIAogICAgICAgICAgICB2YXIgaHRtbF8yOTVlOGNhODQzMDY0ZjVjOGQ2ODAyMWVjMDhmN2UyMSA9ICQoYDxkaXYgaWQ9Imh0bWxfMjk1ZThjYTg0MzA2NGY1YzhkNjgwMjFlYzA4ZjdlMjEiIHN0eWxlPSJ3aWR0aDogMTAwLjAlOyBoZWlnaHQ6IDEwMC4wJTsiPlF1ZWVuJiMzOTtzIFBhcmssIE9udGFyaW8gUHJvdmluY2lhbCBHb3Zlcm5tZW50LCBEb3dudG93biBUb3JvbnRvPC9kaXY+YClbMF07CiAgICAgICAgICAgIHBvcHVwXzMyNmUyNzU0MDZlNzQ0YmNhY2RjYjI3MmEyYWJmNTE3LnNldENvbnRlbnQoaHRtbF8yOTVlOGNhODQzMDY0ZjVjOGQ2ODAyMWVjMDhmN2UyMSk7CiAgICAgICAgCgogICAgICAgIGNpcmNsZV9tYXJrZXJfYmY2ZjY4ZDVlMTczNGM3OGI5MmQzOTU0NDZhNDliMzIuYmluZFBvcHVwKHBvcHVwXzMyNmUyNzU0MDZlNzQ0YmNhY2RjYjI3MmEyYWJmNTE3KQogICAgICAgIDsKCiAgICAgICAgCiAgICAKICAgIAogICAgICAgICAgICB2YXIgY2lyY2xlX21hcmtlcl84MzRmZTZmYTljMjU0ZmZlOTk1OWIwYjJhM2QyMmQ5OSA9IEwuY2lyY2xlTWFya2VyKAogICAgICAgICAgICAgICAgWzQzLjY2Nzg1NTYsIC03OS41MzIyNDI0MDAwMDAwMl0sCiAgICAgICAgICAgICAgICB7ImJ1YmJsaW5nTW91c2VFdmVudHMiOiB0cnVlLCAiY29sb3IiOiAiYmx1ZSIsICJkYXNoQXJyYXkiOiBudWxsLCAiZGFzaE9mZnNldCI6IG51bGwsICJmaWxsIjogdHJ1ZSwgImZpbGxDb2xvciI6ICIjMzE4NmNjIiwgImZpbGxPcGFjaXR5IjogMC43LCAiZmlsbFJ1bGUiOiAiZXZlbm9kZCIsICJsaW5lQ2FwIjogInJvdW5kIiwgImxpbmVKb2luIjogInJvdW5kIiwgIm9wYWNpdHkiOiAxLjAsICJyYWRpdXMiOiA1LCAic3Ryb2tlIjogdHJ1ZSwgIndlaWdodCI6IDN9CiAgICAgICAgICAgICkuYWRkVG8obWFwXzdiYzJhZTY4MzI3YTRjNDY5ZGJmMTZkZTRlOTUwYzI2KTsKICAgICAgICAKICAgIAogICAgICAgIHZhciBwb3B1cF9lMmRkZDllNWY5M2U0YTMyOTNkMGY5MGU0YzU3YTQyNiA9IEwucG9wdXAoeyJtYXhXaWR0aCI6ICIxMDAlIn0pOwoKICAgICAgICAKICAgICAgICAgICAgdmFyIGh0bWxfZGE0ODc0Njg0ZmFkNGIwYzk1NmQ1YWU0ZTczZTY1ZWQgPSAkKGA8ZGl2IGlkPSJodG1sX2RhNDg3NDY4NGZhZDRiMGM5NTZkNWFlNGU3M2U2NWVkIiBzdHlsZT0id2lkdGg6IDEwMC4wJTsgaGVpZ2h0OiAxMDAuMCU7Ij5Jc2xpbmd0b24gQXZlbnVlLCBFdG9iaWNva2U8L2Rpdj5gKVswXTsKICAgICAgICAgICAgcG9wdXBfZTJkZGQ5ZTVmOTNlNGEzMjkzZDBmOTBlNGM1N2E0MjYuc2V0Q29udGVudChodG1sX2RhNDg3NDY4NGZhZDRiMGM5NTZkNWFlNGU3M2U2NWVkKTsKICAgICAgICAKCiAgICAgICAgY2lyY2xlX21hcmtlcl84MzRmZTZmYTljMjU0ZmZlOTk1OWIwYjJhM2QyMmQ5OS5iaW5kUG9wdXAocG9wdXBfZTJkZGQ5ZTVmOTNlNGEzMjkzZDBmOTBlNGM1N2E0MjYpCiAgICAgICAgOwoKICAgICAgICAKICAgIAogICAgCiAgICAgICAgICAgIHZhciBjaXJjbGVfbWFya2VyXzA1MjEzMmQ2Mzg2OTRhZjY5MmVhNGJiZjVhYWU3OTk2ID0gTC5jaXJjbGVNYXJrZXIoCiAgICAgICAgICAgICAgICBbNDMuODA2Njg2Mjk5OTk5OTk2LCAtNzkuMTk0MzUzNDAwMDAwMDFdLAogICAgICAgICAgICAgICAgeyJidWJibGluZ01vdXNlRXZlbnRzIjogdHJ1ZSwgImNvbG9yIjogImJsdWUiLCAiZGFzaEFycmF5IjogbnVsbCwgImRhc2hPZmZzZXQiOiBudWxsLCAiZmlsbCI6IHRydWUsICJmaWxsQ29sb3IiOiAiIzMxODZjYyIsICJmaWxsT3BhY2l0eSI6IDAuNywgImZpbGxSdWxlIjogImV2ZW5vZGQiLCAibGluZUNhcCI6ICJyb3VuZCIsICJsaW5lSm9pbiI6ICJyb3VuZCIsICJvcGFjaXR5IjogMS4wLCAicmFkaXVzIjogNSwgInN0cm9rZSI6IHRydWUsICJ3ZWlnaHQiOiAzfQogICAgICAgICAgICApLmFkZFRvKG1hcF83YmMyYWU2ODMyN2E0YzQ2OWRiZjE2ZGU0ZTk1MGMyNik7CiAgICAgICAgCiAgICAKICAgICAgICB2YXIgcG9wdXBfZWNkOTM1ODFhNzI5NGZiOTk0ZmMwMWI3OTY0ZTdlMDQgPSBMLnBvcHVwKHsibWF4V2lkdGgiOiAiMTAwJSJ9KTsKCiAgICAgICAgCiAgICAgICAgICAgIHZhciBodG1sXzE2ODc5ZmVmMzFjNTQwYWJiOGZiNzk5ZTk2ODJjYWJhID0gJChgPGRpdiBpZD0iaHRtbF8xNjg3OWZlZjMxYzU0MGFiYjhmYjc5OWU5NjgyY2FiYSIgc3R5bGU9IndpZHRoOiAxMDAuMCU7IGhlaWdodDogMTAwLjAlOyI+TWFsdmVybiwgUm91Z2UsIFNjYXJib3JvdWdoPC9kaXY+YClbMF07CiAgICAgICAgICAgIHBvcHVwX2VjZDkzNTgxYTcyOTRmYjk5NGZjMDFiNzk2NGU3ZTA0LnNldENvbnRlbnQoaHRtbF8xNjg3OWZlZjMxYzU0MGFiYjhmYjc5OWU5NjgyY2FiYSk7CiAgICAgICAgCgogICAgICAgIGNpcmNsZV9tYXJrZXJfMDUyMTMyZDYzODY5NGFmNjkyZWE0YmJmNWFhZTc5OTYuYmluZFBvcHVwKHBvcHVwX2VjZDkzNTgxYTcyOTRmYjk5NGZjMDFiNzk2NGU3ZTA0KQogICAgICAgIDsKCiAgICAgICAgCiAgICAKICAgIAogICAgICAgICAgICB2YXIgY2lyY2xlX21hcmtlcl80MTJlYzA1NjZmZDA0MzY1OWNlOTg1ZjNiNjZkNDIwNCA9IEwuY2lyY2xlTWFya2VyKAogICAgICAgICAgICAgICAgWzQzLjc0NTkwNTc5OTk5OTk5NiwgLTc5LjM1MjE4OF0sCiAgICAgICAgICAgICAgICB7ImJ1YmJsaW5nTW91c2VFdmVudHMiOiB0cnVlLCAiY29sb3IiOiAiYmx1ZSIsICJkYXNoQXJyYXkiOiBudWxsLCAiZGFzaE9mZnNldCI6IG51bGwsICJmaWxsIjogdHJ1ZSwgImZpbGxDb2xvciI6ICIjMzE4NmNjIiwgImZpbGxPcGFjaXR5IjogMC43LCAiZmlsbFJ1bGUiOiAiZXZlbm9kZCIsICJsaW5lQ2FwIjogInJvdW5kIiwgImxpbmVKb2luIjogInJvdW5kIiwgIm9wYWNpdHkiOiAxLjAsICJyYWRpdXMiOiA1LCAic3Ryb2tlIjogdHJ1ZSwgIndlaWdodCI6IDN9CiAgICAgICAgICAgICkuYWRkVG8obWFwXzdiYzJhZTY4MzI3YTRjNDY5ZGJmMTZkZTRlOTUwYzI2KTsKICAgICAgICAKICAgIAogICAgICAgIHZhciBwb3B1cF9mNWVjM2E2ZjFlNTA0MjI2ODMwNDNjMzNjN2EwY2JlYSA9IEwucG9wdXAoeyJtYXhXaWR0aCI6ICIxMDAlIn0pOwoKICAgICAgICAKICAgICAgICAgICAgdmFyIGh0bWxfY2U0ZjMyMDI4N2RiNGRhOTg5ZTdiNzQ5MWMxZGNhNGEgPSAkKGA8ZGl2IGlkPSJodG1sX2NlNGYzMjAyODdkYjRkYTk4OWU3Yjc0OTFjMWRjYTRhIiBzdHlsZT0id2lkdGg6IDEwMC4wJTsgaGVpZ2h0OiAxMDAuMCU7Ij5Eb24gTWlsbHMsIE5vcnRoIFlvcms8L2Rpdj5gKVswXTsKICAgICAgICAgICAgcG9wdXBfZjVlYzNhNmYxZTUwNDIyNjgzMDQzYzMzYzdhMGNiZWEuc2V0Q29udGVudChodG1sX2NlNGYzMjAyODdkYjRkYTk4OWU3Yjc0OTFjMWRjYTRhKTsKICAgICAgICAKCiAgICAgICAgY2lyY2xlX21hcmtlcl80MTJlYzA1NjZmZDA0MzY1OWNlOTg1ZjNiNjZkNDIwNC5iaW5kUG9wdXAocG9wdXBfZjVlYzNhNmYxZTUwNDIyNjgzMDQzYzMzYzdhMGNiZWEpCiAgICAgICAgOwoKICAgICAgICAKICAgIAogICAgCiAgICAgICAgICAgIHZhciBjaXJjbGVfbWFya2VyX2Y3MzIyZjA3ZTg4MjRlYmFiNWFmN2Q0YzJkZWM4MjY1ID0gTC5jaXJjbGVNYXJrZXIoCiAgICAgICAgICAgICAgICBbNDMuNzA2Mzk3MiwgLTc5LjMwOTkzN10sCiAgICAgICAgICAgICAgICB7ImJ1YmJsaW5nTW91c2VFdmVudHMiOiB0cnVlLCAiY29sb3IiOiAiYmx1ZSIsICJkYXNoQXJyYXkiOiBudWxsLCAiZGFzaE9mZnNldCI6IG51bGwsICJmaWxsIjogdHJ1ZSwgImZpbGxDb2xvciI6ICIjMzE4NmNjIiwgImZpbGxPcGFjaXR5IjogMC43LCAiZmlsbFJ1bGUiOiAiZXZlbm9kZCIsICJsaW5lQ2FwIjogInJvdW5kIiwgImxpbmVKb2luIjogInJvdW5kIiwgIm9wYWNpdHkiOiAxLjAsICJyYWRpdXMiOiA1LCAic3Ryb2tlIjogdHJ1ZSwgIndlaWdodCI6IDN9CiAgICAgICAgICAgICkuYWRkVG8obWFwXzdiYzJhZTY4MzI3YTRjNDY5ZGJmMTZkZTRlOTUwYzI2KTsKICAgICAgICAKICAgIAogICAgICAgIHZhciBwb3B1cF8xZDhhZmI0MWI4NzI0ZWU2ODE3NTgxY2IxODY0Njg4MyA9IEwucG9wdXAoeyJtYXhXaWR0aCI6ICIxMDAlIn0pOwoKICAgICAgICAKICAgICAgICAgICAgdmFyIGh0bWxfMmEwMmI3ZGZlNGZlNGQyMWEyNDNjMDM5ZThlMjZjMjcgPSAkKGA8ZGl2IGlkPSJodG1sXzJhMDJiN2RmZTRmZTRkMjFhMjQzYzAzOWU4ZTI2YzI3IiBzdHlsZT0id2lkdGg6IDEwMC4wJTsgaGVpZ2h0OiAxMDAuMCU7Ij5QYXJrdmlldyBIaWxsLCBXb29kYmluZSBHYXJkZW5zLCBFYXN0IFlvcms8L2Rpdj5gKVswXTsKICAgICAgICAgICAgcG9wdXBfMWQ4YWZiNDFiODcyNGVlNjgxNzU4MWNiMTg2NDY4ODMuc2V0Q29udGVudChodG1sXzJhMDJiN2RmZTRmZTRkMjFhMjQzYzAzOWU4ZTI2YzI3KTsKICAgICAgICAKCiAgICAgICAgY2lyY2xlX21hcmtlcl9mNzMyMmYwN2U4ODI0ZWJhYjVhZjdkNGMyZGVjODI2NS5iaW5kUG9wdXAocG9wdXBfMWQ4YWZiNDFiODcyNGVlNjgxNzU4MWNiMTg2NDY4ODMpCiAgICAgICAgOwoKICAgICAgICAKICAgIAogICAgCiAgICAgICAgICAgIHZhciBjaXJjbGVfbWFya2VyXzU1ZTNhYTQ4YThkZDRiZjU5MWFlM2FmMTc0YzFlN2Q2ID0gTC5jaXJjbGVNYXJrZXIoCiAgICAgICAgICAgICAgICBbNDMuNjU3MTYxOCwgLTc5LjM3ODkzNzA5OTk5OTk5XSwKICAgICAgICAgICAgICAgIHsiYnViYmxpbmdNb3VzZUV2ZW50cyI6IHRydWUsICJjb2xvciI6ICJibHVlIiwgImRhc2hBcnJheSI6IG51bGwsICJkYXNoT2Zmc2V0IjogbnVsbCwgImZpbGwiOiB0cnVlLCAiZmlsbENvbG9yIjogIiMzMTg2Y2MiLCAiZmlsbE9wYWNpdHkiOiAwLjcsICJmaWxsUnVsZSI6ICJldmVub2RkIiwgImxpbmVDYXAiOiAicm91bmQiLCAibGluZUpvaW4iOiAicm91bmQiLCAib3BhY2l0eSI6IDEuMCwgInJhZGl1cyI6IDUsICJzdHJva2UiOiB0cnVlLCAid2VpZ2h0IjogM30KICAgICAgICAgICAgKS5hZGRUbyhtYXBfN2JjMmFlNjgzMjdhNGM0NjlkYmYxNmRlNGU5NTBjMjYpOwogICAgICAgIAogICAgCiAgICAgICAgdmFyIHBvcHVwXzk1NGFjMTcxNjNjZjRjNjM5ZDVjN2U0YWIyNGNhNWVkID0gTC5wb3B1cCh7Im1heFdpZHRoIjogIjEwMCUifSk7CgogICAgICAgIAogICAgICAgICAgICB2YXIgaHRtbF9jNTU3MDc5OGZmY2Q0MDJiOGQyZDk3YjE0YzQ4ZmU0ZiA9ICQoYDxkaXYgaWQ9Imh0bWxfYzU1NzA3OThmZmNkNDAyYjhkMmQ5N2IxNGM0OGZlNGYiIHN0eWxlPSJ3aWR0aDogMTAwLjAlOyBoZWlnaHQ6IDEwMC4wJTsiPkdhcmRlbiBEaXN0cmljdCwgUnllcnNvbiwgRG93bnRvd24gVG9yb250bzwvZGl2PmApWzBdOwogICAgICAgICAgICBwb3B1cF85NTRhYzE3MTYzY2Y0YzYzOWQ1YzdlNGFiMjRjYTVlZC5zZXRDb250ZW50KGh0bWxfYzU1NzA3OThmZmNkNDAyYjhkMmQ5N2IxNGM0OGZlNGYpOwogICAgICAgIAoKICAgICAgICBjaXJjbGVfbWFya2VyXzU1ZTNhYTQ4YThkZDRiZjU5MWFlM2FmMTc0YzFlN2Q2LmJpbmRQb3B1cChwb3B1cF85NTRhYzE3MTYzY2Y0YzYzOWQ1YzdlNGFiMjRjYTVlZCkKICAgICAgICA7CgogICAgICAgIAogICAgCiAgICAKICAgICAgICAgICAgdmFyIGNpcmNsZV9tYXJrZXJfNTk4OGFlMmUwZjQ5NDcxNmJiNWQ2ZDBmNDQ3ZmE1ZDUgPSBMLmNpcmNsZU1hcmtlcigKICAgICAgICAgICAgICAgIFs0My43MDk1NzcsIC03OS40NDUwNzI1OTk5OTk5OV0sCiAgICAgICAgICAgICAgICB7ImJ1YmJsaW5nTW91c2VFdmVudHMiOiB0cnVlLCAiY29sb3IiOiAiYmx1ZSIsICJkYXNoQXJyYXkiOiBudWxsLCAiZGFzaE9mZnNldCI6IG51bGwsICJmaWxsIjogdHJ1ZSwgImZpbGxDb2xvciI6ICIjMzE4NmNjIiwgImZpbGxPcGFjaXR5IjogMC43LCAiZmlsbFJ1bGUiOiAiZXZlbm9kZCIsICJsaW5lQ2FwIjogInJvdW5kIiwgImxpbmVKb2luIjogInJvdW5kIiwgIm9wYWNpdHkiOiAxLjAsICJyYWRpdXMiOiA1LCAic3Ryb2tlIjogdHJ1ZSwgIndlaWdodCI6IDN9CiAgICAgICAgICAgICkuYWRkVG8obWFwXzdiYzJhZTY4MzI3YTRjNDY5ZGJmMTZkZTRlOTUwYzI2KTsKICAgICAgICAKICAgIAogICAgICAgIHZhciBwb3B1cF9mOTJmOGNjMDEyOWM0YTkyOTBiNDUzY2M2OGVlN2MxYiA9IEwucG9wdXAoeyJtYXhXaWR0aCI6ICIxMDAlIn0pOwoKICAgICAgICAKICAgICAgICAgICAgdmFyIGh0bWxfNjg0OTg3Y2U3NWUxNDdjZGJiYjcyMDdjMWQ5ZTIzYzQgPSAkKGA8ZGl2IGlkPSJodG1sXzY4NDk4N2NlNzVlMTQ3Y2RiYmI3MjA3YzFkOWUyM2M0IiBzdHlsZT0id2lkdGg6IDEwMC4wJTsgaGVpZ2h0OiAxMDAuMCU7Ij5HbGVuY2Fpcm4sIE5vcnRoIFlvcms8L2Rpdj5gKVswXTsKICAgICAgICAgICAgcG9wdXBfZjkyZjhjYzAxMjljNGE5MjkwYjQ1M2NjNjhlZTdjMWIuc2V0Q29udGVudChodG1sXzY4NDk4N2NlNzVlMTQ3Y2RiYmI3MjA3YzFkOWUyM2M0KTsKICAgICAgICAKCiAgICAgICAgY2lyY2xlX21hcmtlcl81OTg4YWUyZTBmNDk0NzE2YmI1ZDZkMGY0NDdmYTVkNS5iaW5kUG9wdXAocG9wdXBfZjkyZjhjYzAxMjljNGE5MjkwYjQ1M2NjNjhlZTdjMWIpCiAgICAgICAgOwoKICAgICAgICAKICAgIAogICAgCiAgICAgICAgICAgIHZhciBjaXJjbGVfbWFya2VyXzFlY2QyMGY0NTNmYTRjYjZiYTA4MDhkOTE1NTg0NGJjID0gTC5jaXJjbGVNYXJrZXIoCiAgICAgICAgICAgICAgICBbNDMuNjUwOTQzMiwgLTc5LjU1NDcyNDQwMDAwMDAxXSwKICAgICAgICAgICAgICAgIHsiYnViYmxpbmdNb3VzZUV2ZW50cyI6IHRydWUsICJjb2xvciI6ICJibHVlIiwgImRhc2hBcnJheSI6IG51bGwsICJkYXNoT2Zmc2V0IjogbnVsbCwgImZpbGwiOiB0cnVlLCAiZmlsbENvbG9yIjogIiMzMTg2Y2MiLCAiZmlsbE9wYWNpdHkiOiAwLjcsICJmaWxsUnVsZSI6ICJldmVub2RkIiwgImxpbmVDYXAiOiAicm91bmQiLCAibGluZUpvaW4iOiAicm91bmQiLCAib3BhY2l0eSI6IDEuMCwgInJhZGl1cyI6IDUsICJzdHJva2UiOiB0cnVlLCAid2VpZ2h0IjogM30KICAgICAgICAgICAgKS5hZGRUbyhtYXBfN2JjMmFlNjgzMjdhNGM0NjlkYmYxNmRlNGU5NTBjMjYpOwogICAgICAgIAogICAgCiAgICAgICAgdmFyIHBvcHVwX2RjOGY5ODZhMGE1ODQ4NzA5YjBmZGFmMzVhZDNjNmQ0ID0gTC5wb3B1cCh7Im1heFdpZHRoIjogIjEwMCUifSk7CgogICAgICAgIAogICAgICAgICAgICB2YXIgaHRtbF8yYmMyZTYwZDZjOGY0YTg5OGZlNDFiOTQ3ZDI3ZjE4MiA9ICQoYDxkaXYgaWQ9Imh0bWxfMmJjMmU2MGQ2YzhmNGE4OThmZTQxYjk0N2QyN2YxODIiIHN0eWxlPSJ3aWR0aDogMTAwLjAlOyBoZWlnaHQ6IDEwMC4wJTsiPldlc3QgRGVhbmUgUGFyaywgUHJpbmNlc3MgR2FyZGVucywgTWFydGluIEdyb3ZlLCBJc2xpbmd0b24sIENsb3ZlcmRhbGUsIEV0b2JpY29rZTwvZGl2PmApWzBdOwogICAgICAgICAgICBwb3B1cF9kYzhmOTg2YTBhNTg0ODcwOWIwZmRhZjM1YWQzYzZkNC5zZXRDb250ZW50KGh0bWxfMmJjMmU2MGQ2YzhmNGE4OThmZTQxYjk0N2QyN2YxODIpOwogICAgICAgIAoKICAgICAgICBjaXJjbGVfbWFya2VyXzFlY2QyMGY0NTNmYTRjYjZiYTA4MDhkOTE1NTg0NGJjLmJpbmRQb3B1cChwb3B1cF9kYzhmOTg2YTBhNTg0ODcwOWIwZmRhZjM1YWQzYzZkNCkKICAgICAgICA7CgogICAgICAgIAogICAgCiAgICAKICAgICAgICAgICAgdmFyIGNpcmNsZV9tYXJrZXJfZTA2NDI4ZmM0ZjhkNGRmYzlkNDExZTkyMDllMDk0MWUgPSBMLmNpcmNsZU1hcmtlcigKICAgICAgICAgICAgICAgIFs0My43ODQ1MzUxLCAtNzkuMTYwNDk3MDk5OTk5OTldLAogICAgICAgICAgICAgICAgeyJidWJibGluZ01vdXNlRXZlbnRzIjogdHJ1ZSwgImNvbG9yIjogImJsdWUiLCAiZGFzaEFycmF5IjogbnVsbCwgImRhc2hPZmZzZXQiOiBudWxsLCAiZmlsbCI6IHRydWUsICJmaWxsQ29sb3IiOiAiIzMxODZjYyIsICJmaWxsT3BhY2l0eSI6IDAuNywgImZpbGxSdWxlIjogImV2ZW5vZGQiLCAibGluZUNhcCI6ICJyb3VuZCIsICJsaW5lSm9pbiI6ICJyb3VuZCIsICJvcGFjaXR5IjogMS4wLCAicmFkaXVzIjogNSwgInN0cm9rZSI6IHRydWUsICJ3ZWlnaHQiOiAzfQogICAgICAgICAgICApLmFkZFRvKG1hcF83YmMyYWU2ODMyN2E0YzQ2OWRiZjE2ZGU0ZTk1MGMyNik7CiAgICAgICAgCiAgICAKICAgICAgICB2YXIgcG9wdXBfYTM0M2UxM2YyNzgxNDBlNWI5NDIwZjAwMzJiZjYyNzkgPSBMLnBvcHVwKHsibWF4V2lkdGgiOiAiMTAwJSJ9KTsKCiAgICAgICAgCiAgICAgICAgICAgIHZhciBodG1sX2QyMzI4YzYxZDBjYTRiNDdiYTY5ZWM0OWRiNmNlNmYwID0gJChgPGRpdiBpZD0iaHRtbF9kMjMyOGM2MWQwY2E0YjQ3YmE2OWVjNDlkYjZjZTZmMCIgc3R5bGU9IndpZHRoOiAxMDAuMCU7IGhlaWdodDogMTAwLjAlOyI+Um91Z2UgSGlsbCwgUG9ydCBVbmlvbiwgSGlnaGxhbmQgQ3JlZWssIFNjYXJib3JvdWdoPC9kaXY+YClbMF07CiAgICAgICAgICAgIHBvcHVwX2EzNDNlMTNmMjc4MTQwZTViOTQyMGYwMDMyYmY2Mjc5LnNldENvbnRlbnQoaHRtbF9kMjMyOGM2MWQwY2E0YjQ3YmE2OWVjNDlkYjZjZTZmMCk7CiAgICAgICAgCgogICAgICAgIGNpcmNsZV9tYXJrZXJfZTA2NDI4ZmM0ZjhkNGRmYzlkNDExZTkyMDllMDk0MWUuYmluZFBvcHVwKHBvcHVwX2EzNDNlMTNmMjc4MTQwZTViOTQyMGYwMDMyYmY2Mjc5KQogICAgICAgIDsKCiAgICAgICAgCiAgICAKICAgIAogICAgICAgICAgICB2YXIgY2lyY2xlX21hcmtlcl9lNDRjYjg3NTRiNDA0NDI4YWM0ZTk1MzU2YjNiNGJiYSA9IEwuY2lyY2xlTWFya2VyKAogICAgICAgICAgICAgICAgWzQzLjcyNTg5OTcwMDAwMDAxLCAtNzkuMzQwOTIzXSwKICAgICAgICAgICAgICAgIHsiYnViYmxpbmdNb3VzZUV2ZW50cyI6IHRydWUsICJjb2xvciI6ICJibHVlIiwgImRhc2hBcnJheSI6IG51bGwsICJkYXNoT2Zmc2V0IjogbnVsbCwgImZpbGwiOiB0cnVlLCAiZmlsbENvbG9yIjogIiMzMTg2Y2MiLCAiZmlsbE9wYWNpdHkiOiAwLjcsICJmaWxsUnVsZSI6ICJldmVub2RkIiwgImxpbmVDYXAiOiAicm91bmQiLCAibGluZUpvaW4iOiAicm91bmQiLCAib3BhY2l0eSI6IDEuMCwgInJhZGl1cyI6IDUsICJzdHJva2UiOiB0cnVlLCAid2VpZ2h0IjogM30KICAgICAgICAgICAgKS5hZGRUbyhtYXBfN2JjMmFlNjgzMjdhNGM0NjlkYmYxNmRlNGU5NTBjMjYpOwogICAgICAgIAogICAgCiAgICAgICAgdmFyIHBvcHVwXzM3NjY4ZGY2YThhYTQyNjg5MTA5ZDNmM2ZkMzgzYjUzID0gTC5wb3B1cCh7Im1heFdpZHRoIjogIjEwMCUifSk7CgogICAgICAgIAogICAgICAgICAgICB2YXIgaHRtbF84MjFiZjY3YzBkMDM0ZDcxOTBhMzgxZDc5MjBlNDU3YiA9ICQoYDxkaXYgaWQ9Imh0bWxfODIxYmY2N2MwZDAzNGQ3MTkwYTM4MWQ3OTIwZTQ1N2IiIHN0eWxlPSJ3aWR0aDogMTAwLjAlOyBoZWlnaHQ6IDEwMC4wJTsiPkRvbiBNaWxscywgTm9ydGggWW9yazwvZGl2PmApWzBdOwogICAgICAgICAgICBwb3B1cF8zNzY2OGRmNmE4YWE0MjY4OTEwOWQzZjNmZDM4M2I1My5zZXRDb250ZW50KGh0bWxfODIxYmY2N2MwZDAzNGQ3MTkwYTM4MWQ3OTIwZTQ1N2IpOwogICAgICAgIAoKICAgICAgICBjaXJjbGVfbWFya2VyX2U0NGNiODc1NGI0MDQ0MjhhYzRlOTUzNTZiM2I0YmJhLmJpbmRQb3B1cChwb3B1cF8zNzY2OGRmNmE4YWE0MjY4OTEwOWQzZjNmZDM4M2I1MykKICAgICAgICA7CgogICAgICAgIAogICAgCiAgICAKICAgICAgICAgICAgdmFyIGNpcmNsZV9tYXJrZXJfMjIwMDg2MGM1Zjg5NGMxNTgwODY5ODdjYzE5MjNiYjEgPSBMLmNpcmNsZU1hcmtlcigKICAgICAgICAgICAgICAgIFs0My42OTUzNDM5MDAwMDAwMDUsIC03OS4zMTgzODg3XSwKICAgICAgICAgICAgICAgIHsiYnViYmxpbmdNb3VzZUV2ZW50cyI6IHRydWUsICJjb2xvciI6ICJibHVlIiwgImRhc2hBcnJheSI6IG51bGwsICJkYXNoT2Zmc2V0IjogbnVsbCwgImZpbGwiOiB0cnVlLCAiZmlsbENvbG9yIjogIiMzMTg2Y2MiLCAiZmlsbE9wYWNpdHkiOiAwLjcsICJmaWxsUnVsZSI6ICJldmVub2RkIiwgImxpbmVDYXAiOiAicm91bmQiLCAibGluZUpvaW4iOiAicm91bmQiLCAib3BhY2l0eSI6IDEuMCwgInJhZGl1cyI6IDUsICJzdHJva2UiOiB0cnVlLCAid2VpZ2h0IjogM30KICAgICAgICAgICAgKS5hZGRUbyhtYXBfN2JjMmFlNjgzMjdhNGM0NjlkYmYxNmRlNGU5NTBjMjYpOwogICAgICAgIAogICAgCiAgICAgICAgdmFyIHBvcHVwX2ExNzc4NGVjN2U3MDQyMzQ4ODAzZGU3YWUxM2M0YTJlID0gTC5wb3B1cCh7Im1heFdpZHRoIjogIjEwMCUifSk7CgogICAgICAgIAogICAgICAgICAgICB2YXIgaHRtbF9hNDFjNjU3ODEzYmE0OTNjOWEyYWY1NzE2YmMzNTc5NiA9ICQoYDxkaXYgaWQ9Imh0bWxfYTQxYzY1NzgxM2JhNDkzYzlhMmFmNTcxNmJjMzU3OTYiIHN0eWxlPSJ3aWR0aDogMTAwLjAlOyBoZWlnaHQ6IDEwMC4wJTsiPldvb2RiaW5lIEhlaWdodHMsIEVhc3QgWW9yazwvZGl2PmApWzBdOwogICAgICAgICAgICBwb3B1cF9hMTc3ODRlYzdlNzA0MjM0ODgwM2RlN2FlMTNjNGEyZS5zZXRDb250ZW50KGh0bWxfYTQxYzY1NzgxM2JhNDkzYzlhMmFmNTcxNmJjMzU3OTYpOwogICAgICAgIAoKICAgICAgICBjaXJjbGVfbWFya2VyXzIyMDA4NjBjNWY4OTRjMTU4MDg2OTg3Y2MxOTIzYmIxLmJpbmRQb3B1cChwb3B1cF9hMTc3ODRlYzdlNzA0MjM0ODgwM2RlN2FlMTNjNGEyZSkKICAgICAgICA7CgogICAgICAgIAogICAgCiAgICAKICAgICAgICAgICAgdmFyIGNpcmNsZV9tYXJrZXJfOTdmMjkxZTRlOGJkNDc1OGExMTg1NWRhYTQ5YTFiZTYgPSBMLmNpcmNsZU1hcmtlcigKICAgICAgICAgICAgICAgIFs0My42NTE0OTM5LCAtNzkuMzc1NDE3OV0sCiAgICAgICAgICAgICAgICB7ImJ1YmJsaW5nTW91c2VFdmVudHMiOiB0cnVlLCAiY29sb3IiOiAiYmx1ZSIsICJkYXNoQXJyYXkiOiBudWxsLCAiZGFzaE9mZnNldCI6IG51bGwsICJmaWxsIjogdHJ1ZSwgImZpbGxDb2xvciI6ICIjMzE4NmNjIiwgImZpbGxPcGFjaXR5IjogMC43LCAiZmlsbFJ1bGUiOiAiZXZlbm9kZCIsICJsaW5lQ2FwIjogInJvdW5kIiwgImxpbmVKb2luIjogInJvdW5kIiwgIm9wYWNpdHkiOiAxLjAsICJyYWRpdXMiOiA1LCAic3Ryb2tlIjogdHJ1ZSwgIndlaWdodCI6IDN9CiAgICAgICAgICAgICkuYWRkVG8obWFwXzdiYzJhZTY4MzI3YTRjNDY5ZGJmMTZkZTRlOTUwYzI2KTsKICAgICAgICAKICAgIAogICAgICAgIHZhciBwb3B1cF83NGNkMDVlNDczMTY0M2QxOTM0MzY4YmJjY2I2NjYyZSA9IEwucG9wdXAoeyJtYXhXaWR0aCI6ICIxMDAlIn0pOwoKICAgICAgICAKICAgICAgICAgICAgdmFyIGh0bWxfZTIxNzQxYjNhMDE0NDI3Nzg5Yzk5N2MwYTI3MDM3NGUgPSAkKGA8ZGl2IGlkPSJodG1sX2UyMTc0MWIzYTAxNDQyNzc4OWM5OTdjMGEyNzAzNzRlIiBzdHlsZT0id2lkdGg6IDEwMC4wJTsgaGVpZ2h0OiAxMDAuMCU7Ij5TdC4gSmFtZXMgVG93biwgRG93bnRvd24gVG9yb250bzwvZGl2PmApWzBdOwogICAgICAgICAgICBwb3B1cF83NGNkMDVlNDczMTY0M2QxOTM0MzY4YmJjY2I2NjYyZS5zZXRDb250ZW50KGh0bWxfZTIxNzQxYjNhMDE0NDI3Nzg5Yzk5N2MwYTI3MDM3NGUpOwogICAgICAgIAoKICAgICAgICBjaXJjbGVfbWFya2VyXzk3ZjI5MWU0ZThiZDQ3NThhMTE4NTVkYWE0OWExYmU2LmJpbmRQb3B1cChwb3B1cF83NGNkMDVlNDczMTY0M2QxOTM0MzY4YmJjY2I2NjYyZSkKICAgICAgICA7CgogICAgICAgIAogICAgCiAgICAKICAgICAgICAgICAgdmFyIGNpcmNsZV9tYXJrZXJfNWU0N2Y1ZmZjYmNiNDM2OTk0MTI5MjdkMjkxNTZhNjkgPSBMLmNpcmNsZU1hcmtlcigKICAgICAgICAgICAgICAgIFs0My42OTM3ODEzLCAtNzkuNDI4MTkxNDAwMDAwMDJdLAogICAgICAgICAgICAgICAgeyJidWJibGluZ01vdXNlRXZlbnRzIjogdHJ1ZSwgImNvbG9yIjogImJsdWUiLCAiZGFzaEFycmF5IjogbnVsbCwgImRhc2hPZmZzZXQiOiBudWxsLCAiZmlsbCI6IHRydWUsICJmaWxsQ29sb3IiOiAiIzMxODZjYyIsICJmaWxsT3BhY2l0eSI6IDAuNywgImZpbGxSdWxlIjogImV2ZW5vZGQiLCAibGluZUNhcCI6ICJyb3VuZCIsICJsaW5lSm9pbiI6ICJyb3VuZCIsICJvcGFjaXR5IjogMS4wLCAicmFkaXVzIjogNSwgInN0cm9rZSI6IHRydWUsICJ3ZWlnaHQiOiAzfQogICAgICAgICAgICApLmFkZFRvKG1hcF83YmMyYWU2ODMyN2E0YzQ2OWRiZjE2ZGU0ZTk1MGMyNik7CiAgICAgICAgCiAgICAKICAgICAgICB2YXIgcG9wdXBfZmRhMGI5MjE4NmIyNDBmNGE3MDIwNzU3ZWY1MWMzYTcgPSBMLnBvcHVwKHsibWF4V2lkdGgiOiAiMTAwJSJ9KTsKCiAgICAgICAgCiAgICAgICAgICAgIHZhciBodG1sX2U5MDNmYmFkM2Q0MjQ1M2ViODYxNmIxMzNjODA1NTFhID0gJChgPGRpdiBpZD0iaHRtbF9lOTAzZmJhZDNkNDI0NTNlYjg2MTZiMTMzYzgwNTUxYSIgc3R5bGU9IndpZHRoOiAxMDAuMCU7IGhlaWdodDogMTAwLjAlOyI+SHVtZXdvb2QtQ2VkYXJ2YWxlLCBZb3JrPC9kaXY+YClbMF07CiAgICAgICAgICAgIHBvcHVwX2ZkYTBiOTIxODZiMjQwZjRhNzAyMDc1N2VmNTFjM2E3LnNldENvbnRlbnQoaHRtbF9lOTAzZmJhZDNkNDI0NTNlYjg2MTZiMTMzYzgwNTUxYSk7CiAgICAgICAgCgogICAgICAgIGNpcmNsZV9tYXJrZXJfNWU0N2Y1ZmZjYmNiNDM2OTk0MTI5MjdkMjkxNTZhNjkuYmluZFBvcHVwKHBvcHVwX2ZkYTBiOTIxODZiMjQwZjRhNzAyMDc1N2VmNTFjM2E3KQogICAgICAgIDsKCiAgICAgICAgCiAgICAKICAgIAogICAgICAgICAgICB2YXIgY2lyY2xlX21hcmtlcl8wMmM5YWJhODM0NDk0ZjlhOTFmNTEyY2EzYTNmODgzMiA9IEwuY2lyY2xlTWFya2VyKAogICAgICAgICAgICAgICAgWzQzLjY0MzUxNTIsIC03OS41NzcyMDA3OTk5OTk5OV0sCiAgICAgICAgICAgICAgICB7ImJ1YmJsaW5nTW91c2VFdmVudHMiOiB0cnVlLCAiY29sb3IiOiAiYmx1ZSIsICJkYXNoQXJyYXkiOiBudWxsLCAiZGFzaE9mZnNldCI6IG51bGwsICJmaWxsIjogdHJ1ZSwgImZpbGxDb2xvciI6ICIjMzE4NmNjIiwgImZpbGxPcGFjaXR5IjogMC43LCAiZmlsbFJ1bGUiOiAiZXZlbm9kZCIsICJsaW5lQ2FwIjogInJvdW5kIiwgImxpbmVKb2luIjogInJvdW5kIiwgIm9wYWNpdHkiOiAxLjAsICJyYWRpdXMiOiA1LCAic3Ryb2tlIjogdHJ1ZSwgIndlaWdodCI6IDN9CiAgICAgICAgICAgICkuYWRkVG8obWFwXzdiYzJhZTY4MzI3YTRjNDY5ZGJmMTZkZTRlOTUwYzI2KTsKICAgICAgICAKICAgIAogICAgICAgIHZhciBwb3B1cF9iOTAyODk5ZmY2MjY0ZjBmYjQ4NTU4MDJlNWIxOGVlYyA9IEwucG9wdXAoeyJtYXhXaWR0aCI6ICIxMDAlIn0pOwoKICAgICAgICAKICAgICAgICAgICAgdmFyIGh0bWxfNTRjNzY2OTUxNWZmNGQ0NjlkMDI0MmIwYTBhNTAzODkgPSAkKGA8ZGl2IGlkPSJodG1sXzU0Yzc2Njk1MTVmZjRkNDY5ZDAyNDJiMGEwYTUwMzg5IiBzdHlsZT0id2lkdGg6IDEwMC4wJTsgaGVpZ2h0OiAxMDAuMCU7Ij5FcmluZ2F0ZSwgQmxvb3JkYWxlIEdhcmRlbnMsIE9sZCBCdXJuaGFtdGhvcnBlLCBNYXJrbGFuZCBXb29kLCBFdG9iaWNva2U8L2Rpdj5gKVswXTsKICAgICAgICAgICAgcG9wdXBfYjkwMjg5OWZmNjI2NGYwZmI0ODU1ODAyZTViMThlZWMuc2V0Q29udGVudChodG1sXzU0Yzc2Njk1MTVmZjRkNDY5ZDAyNDJiMGEwYTUwMzg5KTsKICAgICAgICAKCiAgICAgICAgY2lyY2xlX21hcmtlcl8wMmM5YWJhODM0NDk0ZjlhOTFmNTEyY2EzYTNmODgzMi5iaW5kUG9wdXAocG9wdXBfYjkwMjg5OWZmNjI2NGYwZmI0ODU1ODAyZTViMThlZWMpCiAgICAgICAgOwoKICAgICAgICAKICAgIAogICAgCiAgICAgICAgICAgIHZhciBjaXJjbGVfbWFya2VyX2ExNWRkOWVjNzE2YzQxOTNiNzg4MGEzMTQxMmNiMDNjID0gTC5jaXJjbGVNYXJrZXIoCiAgICAgICAgICAgICAgICBbNDMuNzYzNTcyNiwgLTc5LjE4ODcxMTVdLAogICAgICAgICAgICAgICAgeyJidWJibGluZ01vdXNlRXZlbnRzIjogdHJ1ZSwgImNvbG9yIjogImJsdWUiLCAiZGFzaEFycmF5IjogbnVsbCwgImRhc2hPZmZzZXQiOiBudWxsLCAiZmlsbCI6IHRydWUsICJmaWxsQ29sb3IiOiAiIzMxODZjYyIsICJmaWxsT3BhY2l0eSI6IDAuNywgImZpbGxSdWxlIjogImV2ZW5vZGQiLCAibGluZUNhcCI6ICJyb3VuZCIsICJsaW5lSm9pbiI6ICJyb3VuZCIsICJvcGFjaXR5IjogMS4wLCAicmFkaXVzIjogNSwgInN0cm9rZSI6IHRydWUsICJ3ZWlnaHQiOiAzfQogICAgICAgICAgICApLmFkZFRvKG1hcF83YmMyYWU2ODMyN2E0YzQ2OWRiZjE2ZGU0ZTk1MGMyNik7CiAgICAgICAgCiAgICAKICAgICAgICB2YXIgcG9wdXBfMDQwMGQ3YjBjZTMzNDQ0ZDliMDAyYWJiODY1ZjVmYWQgPSBMLnBvcHVwKHsibWF4V2lkdGgiOiAiMTAwJSJ9KTsKCiAgICAgICAgCiAgICAgICAgICAgIHZhciBodG1sX2Q4NTVkYjBlNzA2NzQxMmU4ZDg1NDk0ZGRiNjE4NGJmID0gJChgPGRpdiBpZD0iaHRtbF9kODU1ZGIwZTcwNjc0MTJlOGQ4NTQ5NGRkYjYxODRiZiIgc3R5bGU9IndpZHRoOiAxMDAuMCU7IGhlaWdodDogMTAwLjAlOyI+R3VpbGR3b29kLCBNb3JuaW5nc2lkZSwgV2VzdCBIaWxsLCBTY2FyYm9yb3VnaDwvZGl2PmApWzBdOwogICAgICAgICAgICBwb3B1cF8wNDAwZDdiMGNlMzM0NDRkOWIwMDJhYmI4NjVmNWZhZC5zZXRDb250ZW50KGh0bWxfZDg1NWRiMGU3MDY3NDEyZThkODU0OTRkZGI2MTg0YmYpOwogICAgICAgIAoKICAgICAgICBjaXJjbGVfbWFya2VyX2ExNWRkOWVjNzE2YzQxOTNiNzg4MGEzMTQxMmNiMDNjLmJpbmRQb3B1cChwb3B1cF8wNDAwZDdiMGNlMzM0NDRkOWIwMDJhYmI4NjVmNWZhZCkKICAgICAgICA7CgogICAgICAgIAogICAgCiAgICAKICAgICAgICAgICAgdmFyIGNpcmNsZV9tYXJrZXJfOWQ0MTE1ODVhNWFhNGFiM2JmNWI4MThiNjc4OTgyNTEgPSBMLmNpcmNsZU1hcmtlcigKICAgICAgICAgICAgICAgIFs0My42NzYzNTczOTk5OTk5OSwgLTc5LjI5MzAzMTJdLAogICAgICAgICAgICAgICAgeyJidWJibGluZ01vdXNlRXZlbnRzIjogdHJ1ZSwgImNvbG9yIjogImJsdWUiLCAiZGFzaEFycmF5IjogbnVsbCwgImRhc2hPZmZzZXQiOiBudWxsLCAiZmlsbCI6IHRydWUsICJmaWxsQ29sb3IiOiAiIzMxODZjYyIsICJmaWxsT3BhY2l0eSI6IDAuNywgImZpbGxSdWxlIjogImV2ZW5vZGQiLCAibGluZUNhcCI6ICJyb3VuZCIsICJsaW5lSm9pbiI6ICJyb3VuZCIsICJvcGFjaXR5IjogMS4wLCAicmFkaXVzIjogNSwgInN0cm9rZSI6IHRydWUsICJ3ZWlnaHQiOiAzfQogICAgICAgICAgICApLmFkZFRvKG1hcF83YmMyYWU2ODMyN2E0YzQ2OWRiZjE2ZGU0ZTk1MGMyNik7CiAgICAgICAgCiAgICAKICAgICAgICB2YXIgcG9wdXBfOWIyZDFiYWU3MWZjNGMwZDkyNjA1MTE5MzRjMmI5OWMgPSBMLnBvcHVwKHsibWF4V2lkdGgiOiAiMTAwJSJ9KTsKCiAgICAgICAgCiAgICAgICAgICAgIHZhciBodG1sX2M2NTlhZDk3MmI3YTQ3MmI4ZjEyZDc3NjEzNWVhYWQ0ID0gJChgPGRpdiBpZD0iaHRtbF9jNjU5YWQ5NzJiN2E0NzJiOGYxMmQ3NzYxMzVlYWFkNCIgc3R5bGU9IndpZHRoOiAxMDAuMCU7IGhlaWdodDogMTAwLjAlOyI+VGhlIEJlYWNoZXMsIEVhc3QgVG9yb250bzwvZGl2PmApWzBdOwogICAgICAgICAgICBwb3B1cF85YjJkMWJhZTcxZmM0YzBkOTI2MDUxMTkzNGMyYjk5Yy5zZXRDb250ZW50KGh0bWxfYzY1OWFkOTcyYjdhNDcyYjhmMTJkNzc2MTM1ZWFhZDQpOwogICAgICAgIAoKICAgICAgICBjaXJjbGVfbWFya2VyXzlkNDExNTg1YTVhYTRhYjNiZjViODE4YjY3ODk4MjUxLmJpbmRQb3B1cChwb3B1cF85YjJkMWJhZTcxZmM0YzBkOTI2MDUxMTkzNGMyYjk5YykKICAgICAgICA7CgogICAgICAgIAogICAgCiAgICAKICAgICAgICAgICAgdmFyIGNpcmNsZV9tYXJrZXJfMTI5OGRiMWQ1YjFlNDZkMjkxMmIzODY3MzllZDcxYzEgPSBMLmNpcmNsZU1hcmtlcigKICAgICAgICAgICAgICAgIFs0My42NDQ3NzA3OTk5OTk5OTYsIC03OS4zNzMzMDY0XSwKICAgICAgICAgICAgICAgIHsiYnViYmxpbmdNb3VzZUV2ZW50cyI6IHRydWUsICJjb2xvciI6ICJibHVlIiwgImRhc2hBcnJheSI6IG51bGwsICJkYXNoT2Zmc2V0IjogbnVsbCwgImZpbGwiOiB0cnVlLCAiZmlsbENvbG9yIjogIiMzMTg2Y2MiLCAiZmlsbE9wYWNpdHkiOiAwLjcsICJmaWxsUnVsZSI6ICJldmVub2RkIiwgImxpbmVDYXAiOiAicm91bmQiLCAibGluZUpvaW4iOiAicm91bmQiLCAib3BhY2l0eSI6IDEuMCwgInJhZGl1cyI6IDUsICJzdHJva2UiOiB0cnVlLCAid2VpZ2h0IjogM30KICAgICAgICAgICAgKS5hZGRUbyhtYXBfN2JjMmFlNjgzMjdhNGM0NjlkYmYxNmRlNGU5NTBjMjYpOwogICAgICAgIAogICAgCiAgICAgICAgdmFyIHBvcHVwX2Y3MTc5MGMzYmY4ODQ5MmE4YzQzNWE1OWQ4NTBlODliID0gTC5wb3B1cCh7Im1heFdpZHRoIjogIjEwMCUifSk7CgogICAgICAgIAogICAgICAgICAgICB2YXIgaHRtbF9mOWQ5OTZhZjZkOWI0MDYwYjk2ZjVhYWJjOWRmOWUwOSA9ICQoYDxkaXYgaWQ9Imh0bWxfZjlkOTk2YWY2ZDliNDA2MGI5NmY1YWFiYzlkZjllMDkiIHN0eWxlPSJ3aWR0aDogMTAwLjAlOyBoZWlnaHQ6IDEwMC4wJTsiPkJlcmN6eSBQYXJrLCBEb3dudG93biBUb3JvbnRvPC9kaXY+YClbMF07CiAgICAgICAgICAgIHBvcHVwX2Y3MTc5MGMzYmY4ODQ5MmE4YzQzNWE1OWQ4NTBlODliLnNldENvbnRlbnQoaHRtbF9mOWQ5OTZhZjZkOWI0MDYwYjk2ZjVhYWJjOWRmOWUwOSk7CiAgICAgICAgCgogICAgICAgIGNpcmNsZV9tYXJrZXJfMTI5OGRiMWQ1YjFlNDZkMjkxMmIzODY3MzllZDcxYzEuYmluZFBvcHVwKHBvcHVwX2Y3MTc5MGMzYmY4ODQ5MmE4YzQzNWE1OWQ4NTBlODliKQogICAgICAgIDsKCiAgICAgICAgCiAgICAKICAgIAogICAgICAgICAgICB2YXIgY2lyY2xlX21hcmtlcl8zNDU2OTMwNGEyZTY0MjExODI1MzliNTEwMDExMDBiMiA9IEwuY2lyY2xlTWFya2VyKAogICAgICAgICAgICAgICAgWzQzLjY4OTAyNTYsIC03OS40NTM1MTJdLAogICAgICAgICAgICAgICAgeyJidWJibGluZ01vdXNlRXZlbnRzIjogdHJ1ZSwgImNvbG9yIjogImJsdWUiLCAiZGFzaEFycmF5IjogbnVsbCwgImRhc2hPZmZzZXQiOiBudWxsLCAiZmlsbCI6IHRydWUsICJmaWxsQ29sb3IiOiAiIzMxODZjYyIsICJmaWxsT3BhY2l0eSI6IDAuNywgImZpbGxSdWxlIjogImV2ZW5vZGQiLCAibGluZUNhcCI6ICJyb3VuZCIsICJsaW5lSm9pbiI6ICJyb3VuZCIsICJvcGFjaXR5IjogMS4wLCAicmFkaXVzIjogNSwgInN0cm9rZSI6IHRydWUsICJ3ZWlnaHQiOiAzfQogICAgICAgICAgICApLmFkZFRvKG1hcF83YmMyYWU2ODMyN2E0YzQ2OWRiZjE2ZGU0ZTk1MGMyNik7CiAgICAgICAgCiAgICAKICAgICAgICB2YXIgcG9wdXBfZGRhNzhmNmZjNmViNDRmODkxMWY5YWI4MTk5M2Q1ZGIgPSBMLnBvcHVwKHsibWF4V2lkdGgiOiAiMTAwJSJ9KTsKCiAgICAgICAgCiAgICAgICAgICAgIHZhciBodG1sXzJhMWU1NjJhOWIzMjQ2ZmZiODU4Y2UzYmIwOTQ4YTFkID0gJChgPGRpdiBpZD0iaHRtbF8yYTFlNTYyYTliMzI0NmZmYjg1OGNlM2JiMDk0OGExZCIgc3R5bGU9IndpZHRoOiAxMDAuMCU7IGhlaWdodDogMTAwLjAlOyI+Q2FsZWRvbmlhLUZhaXJiYW5rcywgWW9yazwvZGl2PmApWzBdOwogICAgICAgICAgICBwb3B1cF9kZGE3OGY2ZmM2ZWI0NGY4OTExZjlhYjgxOTkzZDVkYi5zZXRDb250ZW50KGh0bWxfMmExZTU2MmE5YjMyNDZmZmI4NThjZTNiYjA5NDhhMWQpOwogICAgICAgIAoKICAgICAgICBjaXJjbGVfbWFya2VyXzM0NTY5MzA0YTJlNjQyMTE4MjUzOWI1MTAwMTEwMGIyLmJpbmRQb3B1cChwb3B1cF9kZGE3OGY2ZmM2ZWI0NGY4OTExZjlhYjgxOTkzZDVkYikKICAgICAgICA7CgogICAgICAgIAogICAgCiAgICAKICAgICAgICAgICAgdmFyIGNpcmNsZV9tYXJrZXJfZjJhZjgwZGIzZjNiNDYyMjgyYjFmZTQzYTlkMGI5MmYgPSBMLmNpcmNsZU1hcmtlcigKICAgICAgICAgICAgICAgIFs0My43NzA5OTIxLCAtNzkuMjE2OTE3NDAwMDAwMDFdLAogICAgICAgICAgICAgICAgeyJidWJibGluZ01vdXNlRXZlbnRzIjogdHJ1ZSwgImNvbG9yIjogImJsdWUiLCAiZGFzaEFycmF5IjogbnVsbCwgImRhc2hPZmZzZXQiOiBudWxsLCAiZmlsbCI6IHRydWUsICJmaWxsQ29sb3IiOiAiIzMxODZjYyIsICJmaWxsT3BhY2l0eSI6IDAuNywgImZpbGxSdWxlIjogImV2ZW5vZGQiLCAibGluZUNhcCI6ICJyb3VuZCIsICJsaW5lSm9pbiI6ICJyb3VuZCIsICJvcGFjaXR5IjogMS4wLCAicmFkaXVzIjogNSwgInN0cm9rZSI6IHRydWUsICJ3ZWlnaHQiOiAzfQogICAgICAgICAgICApLmFkZFRvKG1hcF83YmMyYWU2ODMyN2E0YzQ2OWRiZjE2ZGU0ZTk1MGMyNik7CiAgICAgICAgCiAgICAKICAgICAgICB2YXIgcG9wdXBfZWZlMDY5MzhjNmQzNDYyYWJjM2RlZDdmZjkxZThhYzEgPSBMLnBvcHVwKHsibWF4V2lkdGgiOiAiMTAwJSJ9KTsKCiAgICAgICAgCiAgICAgICAgICAgIHZhciBodG1sXzY1YTE3MDAyZTRlYjQyNTFhMGM2NjA5ZGE1M2VjODI1ID0gJChgPGRpdiBpZD0iaHRtbF82NWExNzAwMmU0ZWI0MjUxYTBjNjYwOWRhNTNlYzgyNSIgc3R5bGU9IndpZHRoOiAxMDAuMCU7IGhlaWdodDogMTAwLjAlOyI+V29idXJuLCBTY2FyYm9yb3VnaDwvZGl2PmApWzBdOwogICAgICAgICAgICBwb3B1cF9lZmUwNjkzOGM2ZDM0NjJhYmMzZGVkN2ZmOTFlOGFjMS5zZXRDb250ZW50KGh0bWxfNjVhMTcwMDJlNGViNDI1MWEwYzY2MDlkYTUzZWM4MjUpOwogICAgICAgIAoKICAgICAgICBjaXJjbGVfbWFya2VyX2YyYWY4MGRiM2YzYjQ2MjI4MmIxZmU0M2E5ZDBiOTJmLmJpbmRQb3B1cChwb3B1cF9lZmUwNjkzOGM2ZDM0NjJhYmMzZGVkN2ZmOTFlOGFjMSkKICAgICAgICA7CgogICAgICAgIAogICAgCiAgICAKICAgICAgICAgICAgdmFyIGNpcmNsZV9tYXJrZXJfMWExNmVkNzdhZWMyNDNjY2EyOTI1ZGE5YWE2NTkwYmYgPSBMLmNpcmNsZU1hcmtlcigKICAgICAgICAgICAgICAgIFs0My43MDkwNjA0LCAtNzkuMzYzNDUxN10sCiAgICAgICAgICAgICAgICB7ImJ1YmJsaW5nTW91c2VFdmVudHMiOiB0cnVlLCAiY29sb3IiOiAiYmx1ZSIsICJkYXNoQXJyYXkiOiBudWxsLCAiZGFzaE9mZnNldCI6IG51bGwsICJmaWxsIjogdHJ1ZSwgImZpbGxDb2xvciI6ICIjMzE4NmNjIiwgImZpbGxPcGFjaXR5IjogMC43LCAiZmlsbFJ1bGUiOiAiZXZlbm9kZCIsICJsaW5lQ2FwIjogInJvdW5kIiwgImxpbmVKb2luIjogInJvdW5kIiwgIm9wYWNpdHkiOiAxLjAsICJyYWRpdXMiOiA1LCAic3Ryb2tlIjogdHJ1ZSwgIndlaWdodCI6IDN9CiAgICAgICAgICAgICkuYWRkVG8obWFwXzdiYzJhZTY4MzI3YTRjNDY5ZGJmMTZkZTRlOTUwYzI2KTsKICAgICAgICAKICAgIAogICAgICAgIHZhciBwb3B1cF84MTI1NTk4YWQwNDg0MWI0ODNjNzY3YTY0ZDhkMjU0MSA9IEwucG9wdXAoeyJtYXhXaWR0aCI6ICIxMDAlIn0pOwoKICAgICAgICAKICAgICAgICAgICAgdmFyIGh0bWxfZGNjMjQzMDVkODJkNGZhYTg0NzJlZWIzNmUxMjRiM2YgPSAkKGA8ZGl2IGlkPSJodG1sX2RjYzI0MzA1ZDgyZDRmYWE4NDcyZWViMzZlMTI0YjNmIiBzdHlsZT0id2lkdGg6IDEwMC4wJTsgaGVpZ2h0OiAxMDAuMCU7Ij5MZWFzaWRlLCBFYXN0IFlvcms8L2Rpdj5gKVswXTsKICAgICAgICAgICAgcG9wdXBfODEyNTU5OGFkMDQ4NDFiNDgzYzc2N2E2NGQ4ZDI1NDEuc2V0Q29udGVudChodG1sX2RjYzI0MzA1ZDgyZDRmYWE4NDcyZWViMzZlMTI0YjNmKTsKICAgICAgICAKCiAgICAgICAgY2lyY2xlX21hcmtlcl8xYTE2ZWQ3N2FlYzI0M2NjYTI5MjVkYTlhYTY1OTBiZi5iaW5kUG9wdXAocG9wdXBfODEyNTU5OGFkMDQ4NDFiNDgzYzc2N2E2NGQ4ZDI1NDEpCiAgICAgICAgOwoKICAgICAgICAKICAgIAogICAgCiAgICAgICAgICAgIHZhciBjaXJjbGVfbWFya2VyX2QzM2MyNWNmNjc0NzQyMTY5OWI4OTk1N2U2M2Q2ZWQzID0gTC5jaXJjbGVNYXJrZXIoCiAgICAgICAgICAgICAgICBbNDMuNjU3OTUyNCwgLTc5LjM4NzM4MjZdLAogICAgICAgICAgICAgICAgeyJidWJibGluZ01vdXNlRXZlbnRzIjogdHJ1ZSwgImNvbG9yIjogImJsdWUiLCAiZGFzaEFycmF5IjogbnVsbCwgImRhc2hPZmZzZXQiOiBudWxsLCAiZmlsbCI6IHRydWUsICJmaWxsQ29sb3IiOiAiIzMxODZjYyIsICJmaWxsT3BhY2l0eSI6IDAuNywgImZpbGxSdWxlIjogImV2ZW5vZGQiLCAibGluZUNhcCI6ICJyb3VuZCIsICJsaW5lSm9pbiI6ICJyb3VuZCIsICJvcGFjaXR5IjogMS4wLCAicmFkaXVzIjogNSwgInN0cm9rZSI6IHRydWUsICJ3ZWlnaHQiOiAzfQogICAgICAgICAgICApLmFkZFRvKG1hcF83YmMyYWU2ODMyN2E0YzQ2OWRiZjE2ZGU0ZTk1MGMyNik7CiAgICAgICAgCiAgICAKICAgICAgICB2YXIgcG9wdXBfNjUwM2M5ZGY0YzMyNGJmYTk1ZWI1MzM0OTBkN2VmYjkgPSBMLnBvcHVwKHsibWF4V2lkdGgiOiAiMTAwJSJ9KTsKCiAgICAgICAgCiAgICAgICAgICAgIHZhciBodG1sXzVlY2MzY2VjYzIwZDRhYjFiZGUyNmUxMzc0MDZjZmE5ID0gJChgPGRpdiBpZD0iaHRtbF81ZWNjM2NlY2MyMGQ0YWIxYmRlMjZlMTM3NDA2Y2ZhOSIgc3R5bGU9IndpZHRoOiAxMDAuMCU7IGhlaWdodDogMTAwLjAlOyI+Q2VudHJhbCBCYXkgU3RyZWV0LCBEb3dudG93biBUb3JvbnRvPC9kaXY+YClbMF07CiAgICAgICAgICAgIHBvcHVwXzY1MDNjOWRmNGMzMjRiZmE5NWViNTMzNDkwZDdlZmI5LnNldENvbnRlbnQoaHRtbF81ZWNjM2NlY2MyMGQ0YWIxYmRlMjZlMTM3NDA2Y2ZhOSk7CiAgICAgICAgCgogICAgICAgIGNpcmNsZV9tYXJrZXJfZDMzYzI1Y2Y2NzQ3NDIxNjk5Yjg5OTU3ZTYzZDZlZDMuYmluZFBvcHVwKHBvcHVwXzY1MDNjOWRmNGMzMjRiZmE5NWViNTMzNDkwZDdlZmI5KQogICAgICAgIDsKCiAgICAgICAgCiAgICAKICAgIAogICAgICAgICAgICB2YXIgY2lyY2xlX21hcmtlcl80NjRlMDVkYTAwOGE0YjRlOTU0MjhlNTJhMTM3NGNlMiA9IEwuY2lyY2xlTWFya2VyKAogICAgICAgICAgICAgICAgWzQzLjY2OTU0MiwgLTc5LjQyMjU2MzddLAogICAgICAgICAgICAgICAgeyJidWJibGluZ01vdXNlRXZlbnRzIjogdHJ1ZSwgImNvbG9yIjogImJsdWUiLCAiZGFzaEFycmF5IjogbnVsbCwgImRhc2hPZmZzZXQiOiBudWxsLCAiZmlsbCI6IHRydWUsICJmaWxsQ29sb3IiOiAiIzMxODZjYyIsICJmaWxsT3BhY2l0eSI6IDAuNywgImZpbGxSdWxlIjogImV2ZW5vZGQiLCAibGluZUNhcCI6ICJyb3VuZCIsICJsaW5lSm9pbiI6ICJyb3VuZCIsICJvcGFjaXR5IjogMS4wLCAicmFkaXVzIjogNSwgInN0cm9rZSI6IHRydWUsICJ3ZWlnaHQiOiAzfQogICAgICAgICAgICApLmFkZFRvKG1hcF83YmMyYWU2ODMyN2E0YzQ2OWRiZjE2ZGU0ZTk1MGMyNik7CiAgICAgICAgCiAgICAKICAgICAgICB2YXIgcG9wdXBfODAyMWYzMTc3N2ZjNDUxYWIwMjJmNDEwMGVlMDkxMWMgPSBMLnBvcHVwKHsibWF4V2lkdGgiOiAiMTAwJSJ9KTsKCiAgICAgICAgCiAgICAgICAgICAgIHZhciBodG1sX2VjNTA3M2QyMTJiNjQwZDc4ZDAxMjY1M2Q2YTcwNDk5ID0gJChgPGRpdiBpZD0iaHRtbF9lYzUwNzNkMjEyYjY0MGQ3OGQwMTI2NTNkNmE3MDQ5OSIgc3R5bGU9IndpZHRoOiAxMDAuMCU7IGhlaWdodDogMTAwLjAlOyI+Q2hyaXN0aWUsIERvd250b3duIFRvcm9udG88L2Rpdj5gKVswXTsKICAgICAgICAgICAgcG9wdXBfODAyMWYzMTc3N2ZjNDUxYWIwMjJmNDEwMGVlMDkxMWMuc2V0Q29udGVudChodG1sX2VjNTA3M2QyMTJiNjQwZDc4ZDAxMjY1M2Q2YTcwNDk5KTsKICAgICAgICAKCiAgICAgICAgY2lyY2xlX21hcmtlcl80NjRlMDVkYTAwOGE0YjRlOTU0MjhlNTJhMTM3NGNlMi5iaW5kUG9wdXAocG9wdXBfODAyMWYzMTc3N2ZjNDUxYWIwMjJmNDEwMGVlMDkxMWMpCiAgICAgICAgOwoKICAgICAgICAKICAgIAogICAgCiAgICAgICAgICAgIHZhciBjaXJjbGVfbWFya2VyXzRjNTM3ODkwMjI0MjQ1MjE5MTRmYWI2NTIyMTYyZGEwID0gTC5jaXJjbGVNYXJrZXIoCiAgICAgICAgICAgICAgICBbNDMuNzczMTM2LCAtNzkuMjM5NDc2MDk5OTk5OTldLAogICAgICAgICAgICAgICAgeyJidWJibGluZ01vdXNlRXZlbnRzIjogdHJ1ZSwgImNvbG9yIjogImJsdWUiLCAiZGFzaEFycmF5IjogbnVsbCwgImRhc2hPZmZzZXQiOiBudWxsLCAiZmlsbCI6IHRydWUsICJmaWxsQ29sb3IiOiAiIzMxODZjYyIsICJmaWxsT3BhY2l0eSI6IDAuNywgImZpbGxSdWxlIjogImV2ZW5vZGQiLCAibGluZUNhcCI6ICJyb3VuZCIsICJsaW5lSm9pbiI6ICJyb3VuZCIsICJvcGFjaXR5IjogMS4wLCAicmFkaXVzIjogNSwgInN0cm9rZSI6IHRydWUsICJ3ZWlnaHQiOiAzfQogICAgICAgICAgICApLmFkZFRvKG1hcF83YmMyYWU2ODMyN2E0YzQ2OWRiZjE2ZGU0ZTk1MGMyNik7CiAgICAgICAgCiAgICAKICAgICAgICB2YXIgcG9wdXBfODZiMzc2YjVmMWFjNGFiZWI5NDcwZTFjZGE4ZDFiODQgPSBMLnBvcHVwKHsibWF4V2lkdGgiOiAiMTAwJSJ9KTsKCiAgICAgICAgCiAgICAgICAgICAgIHZhciBodG1sXzRiZTc4ZTI0YzM1YTQ4YTA4NGE1N2YwMDE5ZTNiZThiID0gJChgPGRpdiBpZD0iaHRtbF80YmU3OGUyNGMzNWE0OGEwODRhNTdmMDAxOWUzYmU4YiIgc3R5bGU9IndpZHRoOiAxMDAuMCU7IGhlaWdodDogMTAwLjAlOyI+Q2VkYXJicmFlLCBTY2FyYm9yb3VnaDwvZGl2PmApWzBdOwogICAgICAgICAgICBwb3B1cF84NmIzNzZiNWYxYWM0YWJlYjk0NzBlMWNkYThkMWI4NC5zZXRDb250ZW50KGh0bWxfNGJlNzhlMjRjMzVhNDhhMDg0YTU3ZjAwMTllM2JlOGIpOwogICAgICAgIAoKICAgICAgICBjaXJjbGVfbWFya2VyXzRjNTM3ODkwMjI0MjQ1MjE5MTRmYWI2NTIyMTYyZGEwLmJpbmRQb3B1cChwb3B1cF84NmIzNzZiNWYxYWM0YWJlYjk0NzBlMWNkYThkMWI4NCkKICAgICAgICA7CgogICAgICAgIAogICAgCiAgICAKICAgICAgICAgICAgdmFyIGNpcmNsZV9tYXJrZXJfZDM2YmRjNWRkOGU0NDY2YjhjZDk4Y2NhNWQ0ODMxNjggPSBMLmNpcmNsZU1hcmtlcigKICAgICAgICAgICAgICAgIFs0My44MDM3NjIyLCAtNzkuMzYzNDUxN10sCiAgICAgICAgICAgICAgICB7ImJ1YmJsaW5nTW91c2VFdmVudHMiOiB0cnVlLCAiY29sb3IiOiAiYmx1ZSIsICJkYXNoQXJyYXkiOiBudWxsLCAiZGFzaE9mZnNldCI6IG51bGwsICJmaWxsIjogdHJ1ZSwgImZpbGxDb2xvciI6ICIjMzE4NmNjIiwgImZpbGxPcGFjaXR5IjogMC43LCAiZmlsbFJ1bGUiOiAiZXZlbm9kZCIsICJsaW5lQ2FwIjogInJvdW5kIiwgImxpbmVKb2luIjogInJvdW5kIiwgIm9wYWNpdHkiOiAxLjAsICJyYWRpdXMiOiA1LCAic3Ryb2tlIjogdHJ1ZSwgIndlaWdodCI6IDN9CiAgICAgICAgICAgICkuYWRkVG8obWFwXzdiYzJhZTY4MzI3YTRjNDY5ZGJmMTZkZTRlOTUwYzI2KTsKICAgICAgICAKICAgIAogICAgICAgIHZhciBwb3B1cF82MWU5ODQ2Y2ZkNGY0MjVhYTE4OTFlZDk0NDU4YTVkNyA9IEwucG9wdXAoeyJtYXhXaWR0aCI6ICIxMDAlIn0pOwoKICAgICAgICAKICAgICAgICAgICAgdmFyIGh0bWxfM2I2Y2U4M2E0ZjliNDFmZDk1MzYyOTRhNjdlN2EzMWYgPSAkKGA8ZGl2IGlkPSJodG1sXzNiNmNlODNhNGY5YjQxZmQ5NTM2Mjk0YTY3ZTdhMzFmIiBzdHlsZT0id2lkdGg6IDEwMC4wJTsgaGVpZ2h0OiAxMDAuMCU7Ij5IaWxsY3Jlc3QgVmlsbGFnZSwgTm9ydGggWW9yazwvZGl2PmApWzBdOwogICAgICAgICAgICBwb3B1cF82MWU5ODQ2Y2ZkNGY0MjVhYTE4OTFlZDk0NDU4YTVkNy5zZXRDb250ZW50KGh0bWxfM2I2Y2U4M2E0ZjliNDFmZDk1MzYyOTRhNjdlN2EzMWYpOwogICAgICAgIAoKICAgICAgICBjaXJjbGVfbWFya2VyX2QzNmJkYzVkZDhlNDQ2NmI4Y2Q5OGNjYTVkNDgzMTY4LmJpbmRQb3B1cChwb3B1cF82MWU5ODQ2Y2ZkNGY0MjVhYTE4OTFlZDk0NDU4YTVkNykKICAgICAgICA7CgogICAgICAgIAogICAgCiAgICAKICAgICAgICAgICAgdmFyIGNpcmNsZV9tYXJrZXJfMWVmOTFkN2QzNzlhNDJiNGI4OTgzMjcxYjcyMzJlNTUgPSBMLmNpcmNsZU1hcmtlcigKICAgICAgICAgICAgICAgIFs0My43NTQzMjgzLCAtNzkuNDQyMjU5M10sCiAgICAgICAgICAgICAgICB7ImJ1YmJsaW5nTW91c2VFdmVudHMiOiB0cnVlLCAiY29sb3IiOiAiYmx1ZSIsICJkYXNoQXJyYXkiOiBudWxsLCAiZGFzaE9mZnNldCI6IG51bGwsICJmaWxsIjogdHJ1ZSwgImZpbGxDb2xvciI6ICIjMzE4NmNjIiwgImZpbGxPcGFjaXR5IjogMC43LCAiZmlsbFJ1bGUiOiAiZXZlbm9kZCIsICJsaW5lQ2FwIjogInJvdW5kIiwgImxpbmVKb2luIjogInJvdW5kIiwgIm9wYWNpdHkiOiAxLjAsICJyYWRpdXMiOiA1LCAic3Ryb2tlIjogdHJ1ZSwgIndlaWdodCI6IDN9CiAgICAgICAgICAgICkuYWRkVG8obWFwXzdiYzJhZTY4MzI3YTRjNDY5ZGJmMTZkZTRlOTUwYzI2KTsKICAgICAgICAKICAgIAogICAgICAgIHZhciBwb3B1cF8wYjRlODg4MWQxZmE0OTAzODE4YjcyODE5MmNjMDI5OSA9IEwucG9wdXAoeyJtYXhXaWR0aCI6ICIxMDAlIn0pOwoKICAgICAgICAKICAgICAgICAgICAgdmFyIGh0bWxfMzU5ZGYyZTM2NmZhNGM2Njk0ZjMxMzI1Y2E1N2YxNTMgPSAkKGA8ZGl2IGlkPSJodG1sXzM1OWRmMmUzNjZmYTRjNjY5NGYzMTMyNWNhNTdmMTUzIiBzdHlsZT0id2lkdGg6IDEwMC4wJTsgaGVpZ2h0OiAxMDAuMCU7Ij5CYXRodXJzdCBNYW5vciwgV2lsc29uIEhlaWdodHMsIERvd25zdmlldyBOb3J0aCwgTm9ydGggWW9yazwvZGl2PmApWzBdOwogICAgICAgICAgICBwb3B1cF8wYjRlODg4MWQxZmE0OTAzODE4YjcyODE5MmNjMDI5OS5zZXRDb250ZW50KGh0bWxfMzU5ZGYyZTM2NmZhNGM2Njk0ZjMxMzI1Y2E1N2YxNTMpOwogICAgICAgIAoKICAgICAgICBjaXJjbGVfbWFya2VyXzFlZjkxZDdkMzc5YTQyYjRiODk4MzI3MWI3MjMyZTU1LmJpbmRQb3B1cChwb3B1cF8wYjRlODg4MWQxZmE0OTAzODE4YjcyODE5MmNjMDI5OSkKICAgICAgICA7CgogICAgICAgIAogICAgCiAgICAKICAgICAgICAgICAgdmFyIGNpcmNsZV9tYXJrZXJfNWNlYmI2MzZkYzQzNGRhM2IxNjI3ZjYzOGFjZTMxZmIgPSBMLmNpcmNsZU1hcmtlcigKICAgICAgICAgICAgICAgIFs0My43MDUzNjg5LCAtNzkuMzQ5MzcxOTAwMDAwMDFdLAogICAgICAgICAgICAgICAgeyJidWJibGluZ01vdXNlRXZlbnRzIjogdHJ1ZSwgImNvbG9yIjogImJsdWUiLCAiZGFzaEFycmF5IjogbnVsbCwgImRhc2hPZmZzZXQiOiBudWxsLCAiZmlsbCI6IHRydWUsICJmaWxsQ29sb3IiOiAiIzMxODZjYyIsICJmaWxsT3BhY2l0eSI6IDAuNywgImZpbGxSdWxlIjogImV2ZW5vZGQiLCAibGluZUNhcCI6ICJyb3VuZCIsICJsaW5lSm9pbiI6ICJyb3VuZCIsICJvcGFjaXR5IjogMS4wLCAicmFkaXVzIjogNSwgInN0cm9rZSI6IHRydWUsICJ3ZWlnaHQiOiAzfQogICAgICAgICAgICApLmFkZFRvKG1hcF83YmMyYWU2ODMyN2E0YzQ2OWRiZjE2ZGU0ZTk1MGMyNik7CiAgICAgICAgCiAgICAKICAgICAgICB2YXIgcG9wdXBfOTlhYjc2NDE5OWI5NDM0NzkxMTk3MzRiNGQzZWRlMjkgPSBMLnBvcHVwKHsibWF4V2lkdGgiOiAiMTAwJSJ9KTsKCiAgICAgICAgCiAgICAgICAgICAgIHZhciBodG1sX2Y0NDA0MDNmMDc3ODRjMGY5ZTBiZWRkN2M1NDUwNjI5ID0gJChgPGRpdiBpZD0iaHRtbF9mNDQwNDAzZjA3Nzg0YzBmOWUwYmVkZDdjNTQ1MDYyOSIgc3R5bGU9IndpZHRoOiAxMDAuMCU7IGhlaWdodDogMTAwLjAlOyI+VGhvcm5jbGlmZmUgUGFyaywgRWFzdCBZb3JrPC9kaXY+YClbMF07CiAgICAgICAgICAgIHBvcHVwXzk5YWI3NjQxOTliOTQzNDc5MTE5NzM0YjRkM2VkZTI5LnNldENvbnRlbnQoaHRtbF9mNDQwNDAzZjA3Nzg0YzBmOWUwYmVkZDdjNTQ1MDYyOSk7CiAgICAgICAgCgogICAgICAgIGNpcmNsZV9tYXJrZXJfNWNlYmI2MzZkYzQzNGRhM2IxNjI3ZjYzOGFjZTMxZmIuYmluZFBvcHVwKHBvcHVwXzk5YWI3NjQxOTliOTQzNDc5MTE5NzM0YjRkM2VkZTI5KQogICAgICAgIDsKCiAgICAgICAgCiAgICAKICAgIAogICAgICAgICAgICB2YXIgY2lyY2xlX21hcmtlcl9kNWIxYmQ0MWIwNWM0MTVlOWRhNjY5MmIyYmMzYWYwZCA9IEwuY2lyY2xlTWFya2VyKAogICAgICAgICAgICAgICAgWzQzLjY1MDU3MTIwMDAwMDAxLCAtNzkuMzg0NTY3NV0sCiAgICAgICAgICAgICAgICB7ImJ1YmJsaW5nTW91c2VFdmVudHMiOiB0cnVlLCAiY29sb3IiOiAiYmx1ZSIsICJkYXNoQXJyYXkiOiBudWxsLCAiZGFzaE9mZnNldCI6IG51bGwsICJmaWxsIjogdHJ1ZSwgImZpbGxDb2xvciI6ICIjMzE4NmNjIiwgImZpbGxPcGFjaXR5IjogMC43LCAiZmlsbFJ1bGUiOiAiZXZlbm9kZCIsICJsaW5lQ2FwIjogInJvdW5kIiwgImxpbmVKb2luIjogInJvdW5kIiwgIm9wYWNpdHkiOiAxLjAsICJyYWRpdXMiOiA1LCAic3Ryb2tlIjogdHJ1ZSwgIndlaWdodCI6IDN9CiAgICAgICAgICAgICkuYWRkVG8obWFwXzdiYzJhZTY4MzI3YTRjNDY5ZGJmMTZkZTRlOTUwYzI2KTsKICAgICAgICAKICAgIAogICAgICAgIHZhciBwb3B1cF83ZjEwZjlmMTJiZjY0ZjZjOGFkZWNkYzhhZWJkYzc2ZCA9IEwucG9wdXAoeyJtYXhXaWR0aCI6ICIxMDAlIn0pOwoKICAgICAgICAKICAgICAgICAgICAgdmFyIGh0bWxfNzJlNDdhYWRmZjhhNDg3OWEwM2U1MWUwZWVkY2FjMTkgPSAkKGA8ZGl2IGlkPSJodG1sXzcyZTQ3YWFkZmY4YTQ4NzlhMDNlNTFlMGVlZGNhYzE5IiBzdHlsZT0id2lkdGg6IDEwMC4wJTsgaGVpZ2h0OiAxMDAuMCU7Ij5SaWNobW9uZCwgQWRlbGFpZGUsIEtpbmcsIERvd250b3duIFRvcm9udG88L2Rpdj5gKVswXTsKICAgICAgICAgICAgcG9wdXBfN2YxMGY5ZjEyYmY2NGY2YzhhZGVjZGM4YWViZGM3NmQuc2V0Q29udGVudChodG1sXzcyZTQ3YWFkZmY4YTQ4NzlhMDNlNTFlMGVlZGNhYzE5KTsKICAgICAgICAKCiAgICAgICAgY2lyY2xlX21hcmtlcl9kNWIxYmQ0MWIwNWM0MTVlOWRhNjY5MmIyYmMzYWYwZC5iaW5kUG9wdXAocG9wdXBfN2YxMGY5ZjEyYmY2NGY2YzhhZGVjZGM4YWViZGM3NmQpCiAgICAgICAgOwoKICAgICAgICAKICAgIAogICAgCiAgICAgICAgICAgIHZhciBjaXJjbGVfbWFya2VyXzIyMzVlZDA4ZDUzMDQ4NDZhOGM5OGViY2M0NTIyYjE0ID0gTC5jaXJjbGVNYXJrZXIoCiAgICAgICAgICAgICAgICBbNDMuNjY5MDA1MTAwMDAwMDEsIC03OS40NDIyNTkzXSwKICAgICAgICAgICAgICAgIHsiYnViYmxpbmdNb3VzZUV2ZW50cyI6IHRydWUsICJjb2xvciI6ICJibHVlIiwgImRhc2hBcnJheSI6IG51bGwsICJkYXNoT2Zmc2V0IjogbnVsbCwgImZpbGwiOiB0cnVlLCAiZmlsbENvbG9yIjogIiMzMTg2Y2MiLCAiZmlsbE9wYWNpdHkiOiAwLjcsICJmaWxsUnVsZSI6ICJldmVub2RkIiwgImxpbmVDYXAiOiAicm91bmQiLCAibGluZUpvaW4iOiAicm91bmQiLCAib3BhY2l0eSI6IDEuMCwgInJhZGl1cyI6IDUsICJzdHJva2UiOiB0cnVlLCAid2VpZ2h0IjogM30KICAgICAgICAgICAgKS5hZGRUbyhtYXBfN2JjMmFlNjgzMjdhNGM0NjlkYmYxNmRlNGU5NTBjMjYpOwogICAgICAgIAogICAgCiAgICAgICAgdmFyIHBvcHVwXzFmZWNhMjdkNTk4MTQ2ZGM5NmY5NjNjY2RmNTBhMjExID0gTC5wb3B1cCh7Im1heFdpZHRoIjogIjEwMCUifSk7CgogICAgICAgIAogICAgICAgICAgICB2YXIgaHRtbF8xNGJhYTQzMzIxMWM0MmRiODZjZjRlNDc3MThmNDM5OSA9ICQoYDxkaXYgaWQ9Imh0bWxfMTRiYWE0MzMyMTFjNDJkYjg2Y2Y0ZTQ3NzE4ZjQzOTkiIHN0eWxlPSJ3aWR0aDogMTAwLjAlOyBoZWlnaHQ6IDEwMC4wJTsiPkR1ZmZlcmluLCBEb3ZlcmNvdXJ0IFZpbGxhZ2UsIFdlc3QgVG9yb250bzwvZGl2PmApWzBdOwogICAgICAgICAgICBwb3B1cF8xZmVjYTI3ZDU5ODE0NmRjOTZmOTYzY2NkZjUwYTIxMS5zZXRDb250ZW50KGh0bWxfMTRiYWE0MzMyMTFjNDJkYjg2Y2Y0ZTQ3NzE4ZjQzOTkpOwogICAgICAgIAoKICAgICAgICBjaXJjbGVfbWFya2VyXzIyMzVlZDA4ZDUzMDQ4NDZhOGM5OGViY2M0NTIyYjE0LmJpbmRQb3B1cChwb3B1cF8xZmVjYTI3ZDU5ODE0NmRjOTZmOTYzY2NkZjUwYTIxMSkKICAgICAgICA7CgogICAgICAgIAogICAgCiAgICAKICAgICAgICAgICAgdmFyIGNpcmNsZV9tYXJrZXJfM2NlYzQ4NTkzNWE0NDI3MGI4ZTBiMWVjNjk5NTU3YzggPSBMLmNpcmNsZU1hcmtlcigKICAgICAgICAgICAgICAgIFs0My43NDQ3MzQyLCAtNzkuMjM5NDc2MDk5OTk5OTldLAogICAgICAgICAgICAgICAgeyJidWJibGluZ01vdXNlRXZlbnRzIjogdHJ1ZSwgImNvbG9yIjogImJsdWUiLCAiZGFzaEFycmF5IjogbnVsbCwgImRhc2hPZmZzZXQiOiBudWxsLCAiZmlsbCI6IHRydWUsICJmaWxsQ29sb3IiOiAiIzMxODZjYyIsICJmaWxsT3BhY2l0eSI6IDAuNywgImZpbGxSdWxlIjogImV2ZW5vZGQiLCAibGluZUNhcCI6ICJyb3VuZCIsICJsaW5lSm9pbiI6ICJyb3VuZCIsICJvcGFjaXR5IjogMS4wLCAicmFkaXVzIjogNSwgInN0cm9rZSI6IHRydWUsICJ3ZWlnaHQiOiAzfQogICAgICAgICAgICApLmFkZFRvKG1hcF83YmMyYWU2ODMyN2E0YzQ2OWRiZjE2ZGU0ZTk1MGMyNik7CiAgICAgICAgCiAgICAKICAgICAgICB2YXIgcG9wdXBfMTI2MTNkYjFiNzdiNDA3Mzg3ZjBhNGYwYTQwYzZlYmYgPSBMLnBvcHVwKHsibWF4V2lkdGgiOiAiMTAwJSJ9KTsKCiAgICAgICAgCiAgICAgICAgICAgIHZhciBodG1sX2Y4YmMxYzYwMWE2ZDRiNmNhZmU0NmE0NThhZjE3YmM5ID0gJChgPGRpdiBpZD0iaHRtbF9mOGJjMWM2MDFhNmQ0YjZjYWZlNDZhNDU4YWYxN2JjOSIgc3R5bGU9IndpZHRoOiAxMDAuMCU7IGhlaWdodDogMTAwLjAlOyI+U2NhcmJvcm91Z2ggVmlsbGFnZSwgU2NhcmJvcm91Z2g8L2Rpdj5gKVswXTsKICAgICAgICAgICAgcG9wdXBfMTI2MTNkYjFiNzdiNDA3Mzg3ZjBhNGYwYTQwYzZlYmYuc2V0Q29udGVudChodG1sX2Y4YmMxYzYwMWE2ZDRiNmNhZmU0NmE0NThhZjE3YmM5KTsKICAgICAgICAKCiAgICAgICAgY2lyY2xlX21hcmtlcl8zY2VjNDg1OTM1YTQ0MjcwYjhlMGIxZWM2OTk1NTdjOC5iaW5kUG9wdXAocG9wdXBfMTI2MTNkYjFiNzdiNDA3Mzg3ZjBhNGYwYTQwYzZlYmYpCiAgICAgICAgOwoKICAgICAgICAKICAgIAogICAgCiAgICAgICAgICAgIHZhciBjaXJjbGVfbWFya2VyXzAwNmJlOTU4ZDA2NDRlZDk5NmI5ZmZmZGQzMjQwZGYwID0gTC5jaXJjbGVNYXJrZXIoCiAgICAgICAgICAgICAgICBbNDMuNzc4NTE3NSwgLTc5LjM0NjU1NTddLAogICAgICAgICAgICAgICAgeyJidWJibGluZ01vdXNlRXZlbnRzIjogdHJ1ZSwgImNvbG9yIjogImJsdWUiLCAiZGFzaEFycmF5IjogbnVsbCwgImRhc2hPZmZzZXQiOiBudWxsLCAiZmlsbCI6IHRydWUsICJmaWxsQ29sb3IiOiAiIzMxODZjYyIsICJmaWxsT3BhY2l0eSI6IDAuNywgImZpbGxSdWxlIjogImV2ZW5vZGQiLCAibGluZUNhcCI6ICJyb3VuZCIsICJsaW5lSm9pbiI6ICJyb3VuZCIsICJvcGFjaXR5IjogMS4wLCAicmFkaXVzIjogNSwgInN0cm9rZSI6IHRydWUsICJ3ZWlnaHQiOiAzfQogICAgICAgICAgICApLmFkZFRvKG1hcF83YmMyYWU2ODMyN2E0YzQ2OWRiZjE2ZGU0ZTk1MGMyNik7CiAgICAgICAgCiAgICAKICAgICAgICB2YXIgcG9wdXBfYjU1OTViNTg3MjQ2NDM1NTg1MzI4NDkyNDI5MGZiZTYgPSBMLnBvcHVwKHsibWF4V2lkdGgiOiAiMTAwJSJ9KTsKCiAgICAgICAgCiAgICAgICAgICAgIHZhciBodG1sX2JjZjZiODk5NmJlZDQyNjNiNmE0YzdmZDM3MTNjZmFiID0gJChgPGRpdiBpZD0iaHRtbF9iY2Y2Yjg5OTZiZWQ0MjYzYjZhNGM3ZmQzNzEzY2ZhYiIgc3R5bGU9IndpZHRoOiAxMDAuMCU7IGhlaWdodDogMTAwLjAlOyI+RmFpcnZpZXcsIEhlbnJ5IEZhcm0sIE9yaW9sZSwgTm9ydGggWW9yazwvZGl2PmApWzBdOwogICAgICAgICAgICBwb3B1cF9iNTU5NWI1ODcyNDY0MzU1ODUzMjg0OTI0MjkwZmJlNi5zZXRDb250ZW50KGh0bWxfYmNmNmI4OTk2YmVkNDI2M2I2YTRjN2ZkMzcxM2NmYWIpOwogICAgICAgIAoKICAgICAgICBjaXJjbGVfbWFya2VyXzAwNmJlOTU4ZDA2NDRlZDk5NmI5ZmZmZGQzMjQwZGYwLmJpbmRQb3B1cChwb3B1cF9iNTU5NWI1ODcyNDY0MzU1ODUzMjg0OTI0MjkwZmJlNikKICAgICAgICA7CgogICAgICAgIAogICAgCiAgICAKICAgICAgICAgICAgdmFyIGNpcmNsZV9tYXJrZXJfODg2OTY4YTU0NTQ2NDBhNWJjNGE0ZTk3NzFjOGQ1MDQgPSBMLmNpcmNsZU1hcmtlcigKICAgICAgICAgICAgICAgIFs0My43Njc5ODAzLCAtNzkuNDg3MjYxOTAwMDAwMDFdLAogICAgICAgICAgICAgICAgeyJidWJibGluZ01vdXNlRXZlbnRzIjogdHJ1ZSwgImNvbG9yIjogImJsdWUiLCAiZGFzaEFycmF5IjogbnVsbCwgImRhc2hPZmZzZXQiOiBudWxsLCAiZmlsbCI6IHRydWUsICJmaWxsQ29sb3IiOiAiIzMxODZjYyIsICJmaWxsT3BhY2l0eSI6IDAuNywgImZpbGxSdWxlIjogImV2ZW5vZGQiLCAibGluZUNhcCI6ICJyb3VuZCIsICJsaW5lSm9pbiI6ICJyb3VuZCIsICJvcGFjaXR5IjogMS4wLCAicmFkaXVzIjogNSwgInN0cm9rZSI6IHRydWUsICJ3ZWlnaHQiOiAzfQogICAgICAgICAgICApLmFkZFRvKG1hcF83YmMyYWU2ODMyN2E0YzQ2OWRiZjE2ZGU0ZTk1MGMyNik7CiAgICAgICAgCiAgICAKICAgICAgICB2YXIgcG9wdXBfNzI5YzI5OGU0NDAxNDJlODkyOTQzMWE4Mjg3ZmQ5Y2EgPSBMLnBvcHVwKHsibWF4V2lkdGgiOiAiMTAwJSJ9KTsKCiAgICAgICAgCiAgICAgICAgICAgIHZhciBodG1sXzA1ZjNiZDJjOGYyYjQ1ZGFiNTkxZDhkOTVhMTdjNzdmID0gJChgPGRpdiBpZD0iaHRtbF8wNWYzYmQyYzhmMmI0NWRhYjU5MWQ4ZDk1YTE3Yzc3ZiIgc3R5bGU9IndpZHRoOiAxMDAuMCU7IGhlaWdodDogMTAwLjAlOyI+Tm9ydGh3b29kIFBhcmssIFlvcmsgVW5pdmVyc2l0eSwgTm9ydGggWW9yazwvZGl2PmApWzBdOwogICAgICAgICAgICBwb3B1cF83MjljMjk4ZTQ0MDE0MmU4OTI5NDMxYTgyODdmZDljYS5zZXRDb250ZW50KGh0bWxfMDVmM2JkMmM4ZjJiNDVkYWI1OTFkOGQ5NWExN2M3N2YpOwogICAgICAgIAoKICAgICAgICBjaXJjbGVfbWFya2VyXzg4Njk2OGE1NDU0NjQwYTViYzRhNGU5NzcxYzhkNTA0LmJpbmRQb3B1cChwb3B1cF83MjljMjk4ZTQ0MDE0MmU4OTI5NDMxYTgyODdmZDljYSkKICAgICAgICA7CgogICAgICAgIAogICAgCiAgICAKICAgICAgICAgICAgdmFyIGNpcmNsZV9tYXJrZXJfOGY5ZWZkMGI4MDYyNDJmYTgwMjllNzllMmY3ZjU2ZmEgPSBMLmNpcmNsZU1hcmtlcigKICAgICAgICAgICAgICAgIFs0My42ODUzNDcsIC03OS4zMzgxMDY1XSwKICAgICAgICAgICAgICAgIHsiYnViYmxpbmdNb3VzZUV2ZW50cyI6IHRydWUsICJjb2xvciI6ICJibHVlIiwgImRhc2hBcnJheSI6IG51bGwsICJkYXNoT2Zmc2V0IjogbnVsbCwgImZpbGwiOiB0cnVlLCAiZmlsbENvbG9yIjogIiMzMTg2Y2MiLCAiZmlsbE9wYWNpdHkiOiAwLjcsICJmaWxsUnVsZSI6ICJldmVub2RkIiwgImxpbmVDYXAiOiAicm91bmQiLCAibGluZUpvaW4iOiAicm91bmQiLCAib3BhY2l0eSI6IDEuMCwgInJhZGl1cyI6IDUsICJzdHJva2UiOiB0cnVlLCAid2VpZ2h0IjogM30KICAgICAgICAgICAgKS5hZGRUbyhtYXBfN2JjMmFlNjgzMjdhNGM0NjlkYmYxNmRlNGU5NTBjMjYpOwogICAgICAgIAogICAgCiAgICAgICAgdmFyIHBvcHVwXzAyZTdkZmY1OTY3NjRiZjQ5MjEzYjJiNTAzMGQyOWIzID0gTC5wb3B1cCh7Im1heFdpZHRoIjogIjEwMCUifSk7CgogICAgICAgIAogICAgICAgICAgICB2YXIgaHRtbF82YjBjN2MzZTgzZjU0NmM0YjY5ZTY3YTljMzc2YjQ4MSA9ICQoYDxkaXYgaWQ9Imh0bWxfNmIwYzdjM2U4M2Y1NDZjNGI2OWU2N2E5YzM3NmI0ODEiIHN0eWxlPSJ3aWR0aDogMTAwLjAlOyBoZWlnaHQ6IDEwMC4wJTsiPkVhc3QgVG9yb250bywgRWFzdCBZb3JrPC9kaXY+YClbMF07CiAgICAgICAgICAgIHBvcHVwXzAyZTdkZmY1OTY3NjRiZjQ5MjEzYjJiNTAzMGQyOWIzLnNldENvbnRlbnQoaHRtbF82YjBjN2MzZTgzZjU0NmM0YjY5ZTY3YTljMzc2YjQ4MSk7CiAgICAgICAgCgogICAgICAgIGNpcmNsZV9tYXJrZXJfOGY5ZWZkMGI4MDYyNDJmYTgwMjllNzllMmY3ZjU2ZmEuYmluZFBvcHVwKHBvcHVwXzAyZTdkZmY1OTY3NjRiZjQ5MjEzYjJiNTAzMGQyOWIzKQogICAgICAgIDsKCiAgICAgICAgCiAgICAKICAgIAogICAgICAgICAgICB2YXIgY2lyY2xlX21hcmtlcl9kN2I2NDQzMTQ5NzY0M2UzOTU4NmRjODNhMDMwN2I2NSA9IEwuY2lyY2xlTWFya2VyKAogICAgICAgICAgICAgICAgWzQzLjY0MDgxNTcsIC03OS4zODE3NTIyOTk5OTk5OV0sCiAgICAgICAgICAgICAgICB7ImJ1YmJsaW5nTW91c2VFdmVudHMiOiB0cnVlLCAiY29sb3IiOiAiYmx1ZSIsICJkYXNoQXJyYXkiOiBudWxsLCAiZGFzaE9mZnNldCI6IG51bGwsICJmaWxsIjogdHJ1ZSwgImZpbGxDb2xvciI6ICIjMzE4NmNjIiwgImZpbGxPcGFjaXR5IjogMC43LCAiZmlsbFJ1bGUiOiAiZXZlbm9kZCIsICJsaW5lQ2FwIjogInJvdW5kIiwgImxpbmVKb2luIjogInJvdW5kIiwgIm9wYWNpdHkiOiAxLjAsICJyYWRpdXMiOiA1LCAic3Ryb2tlIjogdHJ1ZSwgIndlaWdodCI6IDN9CiAgICAgICAgICAgICkuYWRkVG8obWFwXzdiYzJhZTY4MzI3YTRjNDY5ZGJmMTZkZTRlOTUwYzI2KTsKICAgICAgICAKICAgIAogICAgICAgIHZhciBwb3B1cF9hOTI5NjI3YjUzMjE0ZDQ2YmEzZmI3YWZhMmY2ZWRmYiA9IEwucG9wdXAoeyJtYXhXaWR0aCI6ICIxMDAlIn0pOwoKICAgICAgICAKICAgICAgICAgICAgdmFyIGh0bWxfOWFkNzZiZjZiZmQwNGE5NmJlYjM2NTgxYTM5N2I3ZDggPSAkKGA8ZGl2IGlkPSJodG1sXzlhZDc2YmY2YmZkMDRhOTZiZWIzNjU4MWEzOTdiN2Q4IiBzdHlsZT0id2lkdGg6IDEwMC4wJTsgaGVpZ2h0OiAxMDAuMCU7Ij5IYXJib3VyZnJvbnQgRWFzdCwgVW5pb24gU3RhdGlvbiwgVG9yb250byBJc2xhbmRzLCBEb3dudG93biBUb3JvbnRvPC9kaXY+YClbMF07CiAgICAgICAgICAgIHBvcHVwX2E5Mjk2MjdiNTMyMTRkNDZiYTNmYjdhZmEyZjZlZGZiLnNldENvbnRlbnQoaHRtbF85YWQ3NmJmNmJmZDA0YTk2YmViMzY1ODFhMzk3YjdkOCk7CiAgICAgICAgCgogICAgICAgIGNpcmNsZV9tYXJrZXJfZDdiNjQ0MzE0OTc2NDNlMzk1ODZkYzgzYTAzMDdiNjUuYmluZFBvcHVwKHBvcHVwX2E5Mjk2MjdiNTMyMTRkNDZiYTNmYjdhZmEyZjZlZGZiKQogICAgICAgIDsKCiAgICAgICAgCiAgICAKICAgIAogICAgICAgICAgICB2YXIgY2lyY2xlX21hcmtlcl8zOTkwNmNkN2M4Y2U0ODA5YjYxMzg4ZWZhZjRkY2M3NiA9IEwuY2lyY2xlTWFya2VyKAogICAgICAgICAgICAgICAgWzQzLjY0NzkyNjcwMDAwMDAwNiwgLTc5LjQxOTc0OTddLAogICAgICAgICAgICAgICAgeyJidWJibGluZ01vdXNlRXZlbnRzIjogdHJ1ZSwgImNvbG9yIjogImJsdWUiLCAiZGFzaEFycmF5IjogbnVsbCwgImRhc2hPZmZzZXQiOiBudWxsLCAiZmlsbCI6IHRydWUsICJmaWxsQ29sb3IiOiAiIzMxODZjYyIsICJmaWxsT3BhY2l0eSI6IDAuNywgImZpbGxSdWxlIjogImV2ZW5vZGQiLCAibGluZUNhcCI6ICJyb3VuZCIsICJsaW5lSm9pbiI6ICJyb3VuZCIsICJvcGFjaXR5IjogMS4wLCAicmFkaXVzIjogNSwgInN0cm9rZSI6IHRydWUsICJ3ZWlnaHQiOiAzfQogICAgICAgICAgICApLmFkZFRvKG1hcF83YmMyYWU2ODMyN2E0YzQ2OWRiZjE2ZGU0ZTk1MGMyNik7CiAgICAgICAgCiAgICAKICAgICAgICB2YXIgcG9wdXBfNzU5YTEzNWRjNzQwNDhjMWJkYTY5OWNmMTYwZWZiYzAgPSBMLnBvcHVwKHsibWF4V2lkdGgiOiAiMTAwJSJ9KTsKCiAgICAgICAgCiAgICAgICAgICAgIHZhciBodG1sX2I1NDQ4MTkwMTg3NDQxYzhiMmVkMGMzN2NhOTczNmJjID0gJChgPGRpdiBpZD0iaHRtbF9iNTQ0ODE5MDE4NzQ0MWM4YjJlZDBjMzdjYTk3MzZiYyIgc3R5bGU9IndpZHRoOiAxMDAuMCU7IGhlaWdodDogMTAwLjAlOyI+TGl0dGxlIFBvcnR1Z2FsLCBUcmluaXR5LCBXZXN0IFRvcm9udG88L2Rpdj5gKVswXTsKICAgICAgICAgICAgcG9wdXBfNzU5YTEzNWRjNzQwNDhjMWJkYTY5OWNmMTYwZWZiYzAuc2V0Q29udGVudChodG1sX2I1NDQ4MTkwMTg3NDQxYzhiMmVkMGMzN2NhOTczNmJjKTsKICAgICAgICAKCiAgICAgICAgY2lyY2xlX21hcmtlcl8zOTkwNmNkN2M4Y2U0ODA5YjYxMzg4ZWZhZjRkY2M3Ni5iaW5kUG9wdXAocG9wdXBfNzU5YTEzNWRjNzQwNDhjMWJkYTY5OWNmMTYwZWZiYzApCiAgICAgICAgOwoKICAgICAgICAKICAgIAogICAgCiAgICAgICAgICAgIHZhciBjaXJjbGVfbWFya2VyXzI1ZDcwOTkyZTE1YTQ1ZTg4OGRkMzJkYThmOWZhMTY3ID0gTC5jaXJjbGVNYXJrZXIoCiAgICAgICAgICAgICAgICBbNDMuNzI3OTI5MiwgLTc5LjI2MjAyOTQwMDAwMDAyXSwKICAgICAgICAgICAgICAgIHsiYnViYmxpbmdNb3VzZUV2ZW50cyI6IHRydWUsICJjb2xvciI6ICJibHVlIiwgImRhc2hBcnJheSI6IG51bGwsICJkYXNoT2Zmc2V0IjogbnVsbCwgImZpbGwiOiB0cnVlLCAiZmlsbENvbG9yIjogIiMzMTg2Y2MiLCAiZmlsbE9wYWNpdHkiOiAwLjcsICJmaWxsUnVsZSI6ICJldmVub2RkIiwgImxpbmVDYXAiOiAicm91bmQiLCAibGluZUpvaW4iOiAicm91bmQiLCAib3BhY2l0eSI6IDEuMCwgInJhZGl1cyI6IDUsICJzdHJva2UiOiB0cnVlLCAid2VpZ2h0IjogM30KICAgICAgICAgICAgKS5hZGRUbyhtYXBfN2JjMmFlNjgzMjdhNGM0NjlkYmYxNmRlNGU5NTBjMjYpOwogICAgICAgIAogICAgCiAgICAgICAgdmFyIHBvcHVwXzhkZmEyM2NhMTYzNzRhNTJhZTJlNTcxYmU4YTUxOTZlID0gTC5wb3B1cCh7Im1heFdpZHRoIjogIjEwMCUifSk7CgogICAgICAgIAogICAgICAgICAgICB2YXIgaHRtbF85ZGYzM2M0YjMyZjA0ODJlYTljZmY0ZGJmZDhlNTY2OSA9ICQoYDxkaXYgaWQ9Imh0bWxfOWRmMzNjNGIzMmYwNDgyZWE5Y2ZmNGRiZmQ4ZTU2NjkiIHN0eWxlPSJ3aWR0aDogMTAwLjAlOyBoZWlnaHQ6IDEwMC4wJTsiPktlbm5lZHkgUGFyaywgSW9udmlldywgRWFzdCBCaXJjaG1vdW50IFBhcmssIFNjYXJib3JvdWdoPC9kaXY+YClbMF07CiAgICAgICAgICAgIHBvcHVwXzhkZmEyM2NhMTYzNzRhNTJhZTJlNTcxYmU4YTUxOTZlLnNldENvbnRlbnQoaHRtbF85ZGYzM2M0YjMyZjA0ODJlYTljZmY0ZGJmZDhlNTY2OSk7CiAgICAgICAgCgogICAgICAgIGNpcmNsZV9tYXJrZXJfMjVkNzA5OTJlMTVhNDVlODg4ZGQzMmRhOGY5ZmExNjcuYmluZFBvcHVwKHBvcHVwXzhkZmEyM2NhMTYzNzRhNTJhZTJlNTcxYmU4YTUxOTZlKQogICAgICAgIDsKCiAgICAgICAgCiAgICAKICAgIAogICAgICAgICAgICB2YXIgY2lyY2xlX21hcmtlcl8wNzM4YTJmZTkyZWI0ZmVhYWQ3MmNhNTI5ZmMyMjI5YSA9IEwuY2lyY2xlTWFya2VyKAogICAgICAgICAgICAgICAgWzQzLjc4Njk0NzMsIC03OS4zODU5NzVdLAogICAgICAgICAgICAgICAgeyJidWJibGluZ01vdXNlRXZlbnRzIjogdHJ1ZSwgImNvbG9yIjogImJsdWUiLCAiZGFzaEFycmF5IjogbnVsbCwgImRhc2hPZmZzZXQiOiBudWxsLCAiZmlsbCI6IHRydWUsICJmaWxsQ29sb3IiOiAiIzMxODZjYyIsICJmaWxsT3BhY2l0eSI6IDAuNywgImZpbGxSdWxlIjogImV2ZW5vZGQiLCAibGluZUNhcCI6ICJyb3VuZCIsICJsaW5lSm9pbiI6ICJyb3VuZCIsICJvcGFjaXR5IjogMS4wLCAicmFkaXVzIjogNSwgInN0cm9rZSI6IHRydWUsICJ3ZWlnaHQiOiAzfQogICAgICAgICAgICApLmFkZFRvKG1hcF83YmMyYWU2ODMyN2E0YzQ2OWRiZjE2ZGU0ZTk1MGMyNik7CiAgICAgICAgCiAgICAKICAgICAgICB2YXIgcG9wdXBfOTczN2ZiZjczNWU0NGFlYmFkMWYzNmQzZmVlZTVjYTQgPSBMLnBvcHVwKHsibWF4V2lkdGgiOiAiMTAwJSJ9KTsKCiAgICAgICAgCiAgICAgICAgICAgIHZhciBodG1sXzU4YmFiYTAwYTViNzQ5MDU5M2MxYmVkNjM2ZDFjOGIzID0gJChgPGRpdiBpZD0iaHRtbF81OGJhYmEwMGE1Yjc0OTA1OTNjMWJlZDYzNmQxYzhiMyIgc3R5bGU9IndpZHRoOiAxMDAuMCU7IGhlaWdodDogMTAwLjAlOyI+QmF5dmlldyBWaWxsYWdlLCBOb3J0aCBZb3JrPC9kaXY+YClbMF07CiAgICAgICAgICAgIHBvcHVwXzk3MzdmYmY3MzVlNDRhZWJhZDFmMzZkM2ZlZWU1Y2E0LnNldENvbnRlbnQoaHRtbF81OGJhYmEwMGE1Yjc0OTA1OTNjMWJlZDYzNmQxYzhiMyk7CiAgICAgICAgCgogICAgICAgIGNpcmNsZV9tYXJrZXJfMDczOGEyZmU5MmViNGZlYWFkNzJjYTUyOWZjMjIyOWEuYmluZFBvcHVwKHBvcHVwXzk3MzdmYmY3MzVlNDRhZWJhZDFmMzZkM2ZlZWU1Y2E0KQogICAgICAgIDsKCiAgICAgICAgCiAgICAKICAgIAogICAgICAgICAgICB2YXIgY2lyY2xlX21hcmtlcl9lZDhmMGRhMjMxNDY0NGFlYjc0NTg2ODFhN2EzY2M0MiA9IEwuY2lyY2xlTWFya2VyKAogICAgICAgICAgICAgICAgWzQzLjczNzQ3MzIwMDAwMDAwNCwgLTc5LjQ2NDc2MzI5OTk5OTk5XSwKICAgICAgICAgICAgICAgIHsiYnViYmxpbmdNb3VzZUV2ZW50cyI6IHRydWUsICJjb2xvciI6ICJibHVlIiwgImRhc2hBcnJheSI6IG51bGwsICJkYXNoT2Zmc2V0IjogbnVsbCwgImZpbGwiOiB0cnVlLCAiZmlsbENvbG9yIjogIiMzMTg2Y2MiLCAiZmlsbE9wYWNpdHkiOiAwLjcsICJmaWxsUnVsZSI6ICJldmVub2RkIiwgImxpbmVDYXAiOiAicm91bmQiLCAibGluZUpvaW4iOiAicm91bmQiLCAib3BhY2l0eSI6IDEuMCwgInJhZGl1cyI6IDUsICJzdHJva2UiOiB0cnVlLCAid2VpZ2h0IjogM30KICAgICAgICAgICAgKS5hZGRUbyhtYXBfN2JjMmFlNjgzMjdhNGM0NjlkYmYxNmRlNGU5NTBjMjYpOwogICAgICAgIAogICAgCiAgICAgICAgdmFyIHBvcHVwXzAyZjc1Nzg1ODk5NTRmYmE5OThiNmJhOWU4YTk0MDYyID0gTC5wb3B1cCh7Im1heFdpZHRoIjogIjEwMCUifSk7CgogICAgICAgIAogICAgICAgICAgICB2YXIgaHRtbF9hZTQ0YmM2MDcxMDM0ZGY5OWU3MDZmOWIwZDVjOWFhZCA9ICQoYDxkaXYgaWQ9Imh0bWxfYWU0NGJjNjA3MTAzNGRmOTllNzA2ZjliMGQ1YzlhYWQiIHN0eWxlPSJ3aWR0aDogMTAwLjAlOyBoZWlnaHQ6IDEwMC4wJTsiPkRvd25zdmlldywgTm9ydGggWW9yazwvZGl2PmApWzBdOwogICAgICAgICAgICBwb3B1cF8wMmY3NTc4NTg5OTU0ZmJhOTk4YjZiYTllOGE5NDA2Mi5zZXRDb250ZW50KGh0bWxfYWU0NGJjNjA3MTAzNGRmOTllNzA2ZjliMGQ1YzlhYWQpOwogICAgICAgIAoKICAgICAgICBjaXJjbGVfbWFya2VyX2VkOGYwZGEyMzE0NjQ0YWViNzQ1ODY4MWE3YTNjYzQyLmJpbmRQb3B1cChwb3B1cF8wMmY3NTc4NTg5OTU0ZmJhOTk4YjZiYTllOGE5NDA2MikKICAgICAgICA7CgogICAgICAgIAogICAgCiAgICAKICAgICAgICAgICAgdmFyIGNpcmNsZV9tYXJrZXJfYTUxMTBhYjkxMWQ3NDk2ZGE2Yjg1Y2FlYTliZGI0NTMgPSBMLmNpcmNsZU1hcmtlcigKICAgICAgICAgICAgICAgIFs0My42Nzk1NTcxLCAtNzkuMzUyMTg4XSwKICAgICAgICAgICAgICAgIHsiYnViYmxpbmdNb3VzZUV2ZW50cyI6IHRydWUsICJjb2xvciI6ICJibHVlIiwgImRhc2hBcnJheSI6IG51bGwsICJkYXNoT2Zmc2V0IjogbnVsbCwgImZpbGwiOiB0cnVlLCAiZmlsbENvbG9yIjogIiMzMTg2Y2MiLCAiZmlsbE9wYWNpdHkiOiAwLjcsICJmaWxsUnVsZSI6ICJldmVub2RkIiwgImxpbmVDYXAiOiAicm91bmQiLCAibGluZUpvaW4iOiAicm91bmQiLCAib3BhY2l0eSI6IDEuMCwgInJhZGl1cyI6IDUsICJzdHJva2UiOiB0cnVlLCAid2VpZ2h0IjogM30KICAgICAgICAgICAgKS5hZGRUbyhtYXBfN2JjMmFlNjgzMjdhNGM0NjlkYmYxNmRlNGU5NTBjMjYpOwogICAgICAgIAogICAgCiAgICAgICAgdmFyIHBvcHVwXzk4ZDVmODgxOGUyOTQ1MmE5YzVjMzNjOTYzMDM5MjcyID0gTC5wb3B1cCh7Im1heFdpZHRoIjogIjEwMCUifSk7CgogICAgICAgIAogICAgICAgICAgICB2YXIgaHRtbF84NTI4MWZmZmRkY2U0YmIxYjgxNTg3ZmNjYzQyMGQ5NCA9ICQoYDxkaXYgaWQ9Imh0bWxfODUyODFmZmZkZGNlNGJiMWI4MTU4N2ZjY2M0MjBkOTQiIHN0eWxlPSJ3aWR0aDogMTAwLjAlOyBoZWlnaHQ6IDEwMC4wJTsiPlRoZSBEYW5mb3J0aCBXZXN0LCBSaXZlcmRhbGUsIEVhc3QgVG9yb250bzwvZGl2PmApWzBdOwogICAgICAgICAgICBwb3B1cF85OGQ1Zjg4MThlMjk0NTJhOWM1YzMzYzk2MzAzOTI3Mi5zZXRDb250ZW50KGh0bWxfODUyODFmZmZkZGNlNGJiMWI4MTU4N2ZjY2M0MjBkOTQpOwogICAgICAgIAoKICAgICAgICBjaXJjbGVfbWFya2VyX2E1MTEwYWI5MTFkNzQ5NmRhNmI4NWNhZWE5YmRiNDUzLmJpbmRQb3B1cChwb3B1cF85OGQ1Zjg4MThlMjk0NTJhOWM1YzMzYzk2MzAzOTI3MikKICAgICAgICA7CgogICAgICAgIAogICAgCiAgICAKICAgICAgICAgICAgdmFyIGNpcmNsZV9tYXJrZXJfYjMyNjg0NWI2YWNjNDcxOGEzMzlhYzhiNmNkNTM2ZTcgPSBMLmNpcmNsZU1hcmtlcigKICAgICAgICAgICAgICAgIFs0My42NDcxNzY4LCAtNzkuMzgxNTc2NDAwMDAwMDFdLAogICAgICAgICAgICAgICAgeyJidWJibGluZ01vdXNlRXZlbnRzIjogdHJ1ZSwgImNvbG9yIjogImJsdWUiLCAiZGFzaEFycmF5IjogbnVsbCwgImRhc2hPZmZzZXQiOiBudWxsLCAiZmlsbCI6IHRydWUsICJmaWxsQ29sb3IiOiAiIzMxODZjYyIsICJmaWxsT3BhY2l0eSI6IDAuNywgImZpbGxSdWxlIjogImV2ZW5vZGQiLCAibGluZUNhcCI6ICJyb3VuZCIsICJsaW5lSm9pbiI6ICJyb3VuZCIsICJvcGFjaXR5IjogMS4wLCAicmFkaXVzIjogNSwgInN0cm9rZSI6IHRydWUsICJ3ZWlnaHQiOiAzfQogICAgICAgICAgICApLmFkZFRvKG1hcF83YmMyYWU2ODMyN2E0YzQ2OWRiZjE2ZGU0ZTk1MGMyNik7CiAgICAgICAgCiAgICAKICAgICAgICB2YXIgcG9wdXBfMzdkM2UxNThhZjY4NDU1OTk2NWI4OTUzMTA2ZDk3NGIgPSBMLnBvcHVwKHsibWF4V2lkdGgiOiAiMTAwJSJ9KTsKCiAgICAgICAgCiAgICAgICAgICAgIHZhciBodG1sX2VhYjYzMGVlN2M2ZjQ1MTdhMDlhZjVjNjBiN2IyYzJjID0gJChgPGRpdiBpZD0iaHRtbF9lYWI2MzBlZTdjNmY0NTE3YTA5YWY1YzYwYjdiMmMyYyIgc3R5bGU9IndpZHRoOiAxMDAuMCU7IGhlaWdodDogMTAwLjAlOyI+VG9yb250byBEb21pbmlvbiBDZW50cmUsIERlc2lnbiBFeGNoYW5nZSwgRG93bnRvd24gVG9yb250bzwvZGl2PmApWzBdOwogICAgICAgICAgICBwb3B1cF8zN2QzZTE1OGFmNjg0NTU5OTY1Yjg5NTMxMDZkOTc0Yi5zZXRDb250ZW50KGh0bWxfZWFiNjMwZWU3YzZmNDUxN2EwOWFmNWM2MGI3YjJjMmMpOwogICAgICAgIAoKICAgICAgICBjaXJjbGVfbWFya2VyX2IzMjY4NDViNmFjYzQ3MThhMzM5YWM4YjZjZDUzNmU3LmJpbmRQb3B1cChwb3B1cF8zN2QzZTE1OGFmNjg0NTU5OTY1Yjg5NTMxMDZkOTc0YikKICAgICAgICA7CgogICAgICAgIAogICAgCiAgICAKICAgICAgICAgICAgdmFyIGNpcmNsZV9tYXJrZXJfNDVmNmM1ZTg1M2Q0NDY3NThjNzFiYTY4YTE1MDZjYjQgPSBMLmNpcmNsZU1hcmtlcigKICAgICAgICAgICAgICAgIFs0My42MzY4NDcyLCAtNzkuNDI4MTkxNDAwMDAwMDJdLAogICAgICAgICAgICAgICAgeyJidWJibGluZ01vdXNlRXZlbnRzIjogdHJ1ZSwgImNvbG9yIjogImJsdWUiLCAiZGFzaEFycmF5IjogbnVsbCwgImRhc2hPZmZzZXQiOiBudWxsLCAiZmlsbCI6IHRydWUsICJmaWxsQ29sb3IiOiAiIzMxODZjYyIsICJmaWxsT3BhY2l0eSI6IDAuNywgImZpbGxSdWxlIjogImV2ZW5vZGQiLCAibGluZUNhcCI6ICJyb3VuZCIsICJsaW5lSm9pbiI6ICJyb3VuZCIsICJvcGFjaXR5IjogMS4wLCAicmFkaXVzIjogNSwgInN0cm9rZSI6IHRydWUsICJ3ZWlnaHQiOiAzfQogICAgICAgICAgICApLmFkZFRvKG1hcF83YmMyYWU2ODMyN2E0YzQ2OWRiZjE2ZGU0ZTk1MGMyNik7CiAgICAgICAgCiAgICAKICAgICAgICB2YXIgcG9wdXBfOGQxMjliMTE2MzM0NDM2YmJlMDY5YTRkMjNkNzI5ODIgPSBMLnBvcHVwKHsibWF4V2lkdGgiOiAiMTAwJSJ9KTsKCiAgICAgICAgCiAgICAgICAgICAgIHZhciBodG1sX2Q1NGFjNTUwM2JkYzRlNGM5YWZiMjg5MTg0ZjFhOWNiID0gJChgPGRpdiBpZD0iaHRtbF9kNTRhYzU1MDNiZGM0ZTRjOWFmYjI4OTE4NGYxYTljYiIgc3R5bGU9IndpZHRoOiAxMDAuMCU7IGhlaWdodDogMTAwLjAlOyI+QnJvY2t0b24sIFBhcmtkYWxlIFZpbGxhZ2UsIEV4aGliaXRpb24gUGxhY2UsIFdlc3QgVG9yb250bzwvZGl2PmApWzBdOwogICAgICAgICAgICBwb3B1cF84ZDEyOWIxMTYzMzQ0MzZiYmUwNjlhNGQyM2Q3Mjk4Mi5zZXRDb250ZW50KGh0bWxfZDU0YWM1NTAzYmRjNGU0YzlhZmIyODkxODRmMWE5Y2IpOwogICAgICAgIAoKICAgICAgICBjaXJjbGVfbWFya2VyXzQ1ZjZjNWU4NTNkNDQ2NzU4YzcxYmE2OGExNTA2Y2I0LmJpbmRQb3B1cChwb3B1cF84ZDEyOWIxMTYzMzQ0MzZiYmUwNjlhNGQyM2Q3Mjk4MikKICAgICAgICA7CgogICAgICAgIAogICAgCiAgICAKICAgICAgICAgICAgdmFyIGNpcmNsZV9tYXJrZXJfNWY4NjIwN2UxMGRmNGE2ZmJlMmU2ZDM0ZmJlNzhjZjQgPSBMLmNpcmNsZU1hcmtlcigKICAgICAgICAgICAgICAgIFs0My43MTExMTE3MDAwMDAwMDQsIC03OS4yODQ1NzcyXSwKICAgICAgICAgICAgICAgIHsiYnViYmxpbmdNb3VzZUV2ZW50cyI6IHRydWUsICJjb2xvciI6ICJibHVlIiwgImRhc2hBcnJheSI6IG51bGwsICJkYXNoT2Zmc2V0IjogbnVsbCwgImZpbGwiOiB0cnVlLCAiZmlsbENvbG9yIjogIiMzMTg2Y2MiLCAiZmlsbE9wYWNpdHkiOiAwLjcsICJmaWxsUnVsZSI6ICJldmVub2RkIiwgImxpbmVDYXAiOiAicm91bmQiLCAibGluZUpvaW4iOiAicm91bmQiLCAib3BhY2l0eSI6IDEuMCwgInJhZGl1cyI6IDUsICJzdHJva2UiOiB0cnVlLCAid2VpZ2h0IjogM30KICAgICAgICAgICAgKS5hZGRUbyhtYXBfN2JjMmFlNjgzMjdhNGM0NjlkYmYxNmRlNGU5NTBjMjYpOwogICAgICAgIAogICAgCiAgICAgICAgdmFyIHBvcHVwXzY3Njg5MjRhNjI3NDQxYThhYTE3NmJhMWNkNDg4NDQ5ID0gTC5wb3B1cCh7Im1heFdpZHRoIjogIjEwMCUifSk7CgogICAgICAgIAogICAgICAgICAgICB2YXIgaHRtbF83MWZkOGYzYjE1NTk0N2UyYmE3NTVlY2MwNTdiYjVlMCA9ICQoYDxkaXYgaWQ9Imh0bWxfNzFmZDhmM2IxNTU5NDdlMmJhNzU1ZWNjMDU3YmI1ZTAiIHN0eWxlPSJ3aWR0aDogMTAwLjAlOyBoZWlnaHQ6IDEwMC4wJTsiPkdvbGRlbiBNaWxlLCBDbGFpcmxlYSwgT2FrcmlkZ2UsIFNjYXJib3JvdWdoPC9kaXY+YClbMF07CiAgICAgICAgICAgIHBvcHVwXzY3Njg5MjRhNjI3NDQxYThhYTE3NmJhMWNkNDg4NDQ5LnNldENvbnRlbnQoaHRtbF83MWZkOGYzYjE1NTk0N2UyYmE3NTVlY2MwNTdiYjVlMCk7CiAgICAgICAgCgogICAgICAgIGNpcmNsZV9tYXJrZXJfNWY4NjIwN2UxMGRmNGE2ZmJlMmU2ZDM0ZmJlNzhjZjQuYmluZFBvcHVwKHBvcHVwXzY3Njg5MjRhNjI3NDQxYThhYTE3NmJhMWNkNDg4NDQ5KQogICAgICAgIDsKCiAgICAgICAgCiAgICAKICAgIAogICAgICAgICAgICB2YXIgY2lyY2xlX21hcmtlcl9jYmY5MjA3YzZlNmQ0MDY1YTgyZjJmOTJiZjFkM2QxMSA9IEwuY2lyY2xlTWFya2VyKAogICAgICAgICAgICAgICAgWzQzLjc1NzQ5MDIsIC03OS4zNzQ3MTQwOTk5OTk5OV0sCiAgICAgICAgICAgICAgICB7ImJ1YmJsaW5nTW91c2VFdmVudHMiOiB0cnVlLCAiY29sb3IiOiAiYmx1ZSIsICJkYXNoQXJyYXkiOiBudWxsLCAiZGFzaE9mZnNldCI6IG51bGwsICJmaWxsIjogdHJ1ZSwgImZpbGxDb2xvciI6ICIjMzE4NmNjIiwgImZpbGxPcGFjaXR5IjogMC43LCAiZmlsbFJ1bGUiOiAiZXZlbm9kZCIsICJsaW5lQ2FwIjogInJvdW5kIiwgImxpbmVKb2luIjogInJvdW5kIiwgIm9wYWNpdHkiOiAxLjAsICJyYWRpdXMiOiA1LCAic3Ryb2tlIjogdHJ1ZSwgIndlaWdodCI6IDN9CiAgICAgICAgICAgICkuYWRkVG8obWFwXzdiYzJhZTY4MzI3YTRjNDY5ZGJmMTZkZTRlOTUwYzI2KTsKICAgICAgICAKICAgIAogICAgICAgIHZhciBwb3B1cF9jODExOTQwZWVjYWI0NDNlYWFmOGQ5OWM3ZWVjZGZjMSA9IEwucG9wdXAoeyJtYXhXaWR0aCI6ICIxMDAlIn0pOwoKICAgICAgICAKICAgICAgICAgICAgdmFyIGh0bWxfZjEzM2Y1ZGM4ZWZhNGI3NTg4ZmQxNDNhYThhODhjZDIgPSAkKGA8ZGl2IGlkPSJodG1sX2YxMzNmNWRjOGVmYTRiNzU4OGZkMTQzYWE4YTg4Y2QyIiBzdHlsZT0id2lkdGg6IDEwMC4wJTsgaGVpZ2h0OiAxMDAuMCU7Ij5Zb3JrIE1pbGxzLCBTaWx2ZXIgSGlsbHMsIE5vcnRoIFlvcms8L2Rpdj5gKVswXTsKICAgICAgICAgICAgcG9wdXBfYzgxMTk0MGVlY2FiNDQzZWFhZjhkOTljN2VlY2RmYzEuc2V0Q29udGVudChodG1sX2YxMzNmNWRjOGVmYTRiNzU4OGZkMTQzYWE4YTg4Y2QyKTsKICAgICAgICAKCiAgICAgICAgY2lyY2xlX21hcmtlcl9jYmY5MjA3YzZlNmQ0MDY1YTgyZjJmOTJiZjFkM2QxMS5iaW5kUG9wdXAocG9wdXBfYzgxMTk0MGVlY2FiNDQzZWFhZjhkOTljN2VlY2RmYzEpCiAgICAgICAgOwoKICAgICAgICAKICAgIAogICAgCiAgICAgICAgICAgIHZhciBjaXJjbGVfbWFya2VyXzllNjM5NTdjZTkzMTRlZTI4NDdhOTYwOWQxMGJlN2ZhID0gTC5jaXJjbGVNYXJrZXIoCiAgICAgICAgICAgICAgICBbNDMuNzM5MDE0NiwgLTc5LjUwNjk0MzZdLAogICAgICAgICAgICAgICAgeyJidWJibGluZ01vdXNlRXZlbnRzIjogdHJ1ZSwgImNvbG9yIjogImJsdWUiLCAiZGFzaEFycmF5IjogbnVsbCwgImRhc2hPZmZzZXQiOiBudWxsLCAiZmlsbCI6IHRydWUsICJmaWxsQ29sb3IiOiAiIzMxODZjYyIsICJmaWxsT3BhY2l0eSI6IDAuNywgImZpbGxSdWxlIjogImV2ZW5vZGQiLCAibGluZUNhcCI6ICJyb3VuZCIsICJsaW5lSm9pbiI6ICJyb3VuZCIsICJvcGFjaXR5IjogMS4wLCAicmFkaXVzIjogNSwgInN0cm9rZSI6IHRydWUsICJ3ZWlnaHQiOiAzfQogICAgICAgICAgICApLmFkZFRvKG1hcF83YmMyYWU2ODMyN2E0YzQ2OWRiZjE2ZGU0ZTk1MGMyNik7CiAgICAgICAgCiAgICAKICAgICAgICB2YXIgcG9wdXBfYTZlODUzYTJiMjA1NGE5YTgxNWExZDI5MTkwYjVlOTYgPSBMLnBvcHVwKHsibWF4V2lkdGgiOiAiMTAwJSJ9KTsKCiAgICAgICAgCiAgICAgICAgICAgIHZhciBodG1sXzMwMjNkMjczMWU5YzRkZTliZTcxOTM1MDliYjgwNmJlID0gJChgPGRpdiBpZD0iaHRtbF8zMDIzZDI3MzFlOWM0ZGU5YmU3MTkzNTA5YmI4MDZiZSIgc3R5bGU9IndpZHRoOiAxMDAuMCU7IGhlaWdodDogMTAwLjAlOyI+RG93bnN2aWV3LCBOb3J0aCBZb3JrPC9kaXY+YClbMF07CiAgICAgICAgICAgIHBvcHVwX2E2ZTg1M2EyYjIwNTRhOWE4MTVhMWQyOTE5MGI1ZTk2LnNldENvbnRlbnQoaHRtbF8zMDIzZDI3MzFlOWM0ZGU5YmU3MTkzNTA5YmI4MDZiZSk7CiAgICAgICAgCgogICAgICAgIGNpcmNsZV9tYXJrZXJfOWU2Mzk1N2NlOTMxNGVlMjg0N2E5NjA5ZDEwYmU3ZmEuYmluZFBvcHVwKHBvcHVwX2E2ZTg1M2EyYjIwNTRhOWE4MTVhMWQyOTE5MGI1ZTk2KQogICAgICAgIDsKCiAgICAgICAgCiAgICAKICAgIAogICAgICAgICAgICB2YXIgY2lyY2xlX21hcmtlcl8xODAzMDFlNjg1M2Y0YTg5OGZjYzQ4ZGQ2YmIzMzhhOCA9IEwuY2lyY2xlTWFya2VyKAogICAgICAgICAgICAgICAgWzQzLjY2ODk5ODUsIC03OS4zMTU1NzE1OTk5OTk5OF0sCiAgICAgICAgICAgICAgICB7ImJ1YmJsaW5nTW91c2VFdmVudHMiOiB0cnVlLCAiY29sb3IiOiAiYmx1ZSIsICJkYXNoQXJyYXkiOiBudWxsLCAiZGFzaE9mZnNldCI6IG51bGwsICJmaWxsIjogdHJ1ZSwgImZpbGxDb2xvciI6ICIjMzE4NmNjIiwgImZpbGxPcGFjaXR5IjogMC43LCAiZmlsbFJ1bGUiOiAiZXZlbm9kZCIsICJsaW5lQ2FwIjogInJvdW5kIiwgImxpbmVKb2luIjogInJvdW5kIiwgIm9wYWNpdHkiOiAxLjAsICJyYWRpdXMiOiA1LCAic3Ryb2tlIjogdHJ1ZSwgIndlaWdodCI6IDN9CiAgICAgICAgICAgICkuYWRkVG8obWFwXzdiYzJhZTY4MzI3YTRjNDY5ZGJmMTZkZTRlOTUwYzI2KTsKICAgICAgICAKICAgIAogICAgICAgIHZhciBwb3B1cF84YjhkY2VlMWRmNzM0NTE1YWVjZDZlZTJmZDUxODA1YiA9IEwucG9wdXAoeyJtYXhXaWR0aCI6ICIxMDAlIn0pOwoKICAgICAgICAKICAgICAgICAgICAgdmFyIGh0bWxfZWYwNDUwYTZmNzZkNGI2NmE0MTAzMTJhOTgxZWIxYjggPSAkKGA8ZGl2IGlkPSJodG1sX2VmMDQ1MGE2Zjc2ZDRiNjZhNDEwMzEyYTk4MWViMWI4IiBzdHlsZT0id2lkdGg6IDEwMC4wJTsgaGVpZ2h0OiAxMDAuMCU7Ij5JbmRpYSBCYXphYXIsIFRoZSBCZWFjaGVzIFdlc3QsIEVhc3QgVG9yb250bzwvZGl2PmApWzBdOwogICAgICAgICAgICBwb3B1cF84YjhkY2VlMWRmNzM0NTE1YWVjZDZlZTJmZDUxODA1Yi5zZXRDb250ZW50KGh0bWxfZWYwNDUwYTZmNzZkNGI2NmE0MTAzMTJhOTgxZWIxYjgpOwogICAgICAgIAoKICAgICAgICBjaXJjbGVfbWFya2VyXzE4MDMwMWU2ODUzZjRhODk4ZmNjNDhkZDZiYjMzOGE4LmJpbmRQb3B1cChwb3B1cF84YjhkY2VlMWRmNzM0NTE1YWVjZDZlZTJmZDUxODA1YikKICAgICAgICA7CgogICAgICAgIAogICAgCiAgICAKICAgICAgICAgICAgdmFyIGNpcmNsZV9tYXJrZXJfMWJlNTE3Y2Q4NDEyNDE1Y2I1OTE1OTBmMTUwNGVlMjIgPSBMLmNpcmNsZU1hcmtlcigKICAgICAgICAgICAgICAgIFs0My42NDgxOTg1LCAtNzkuMzc5ODE2OTAwMDAwMDFdLAogICAgICAgICAgICAgICAgeyJidWJibGluZ01vdXNlRXZlbnRzIjogdHJ1ZSwgImNvbG9yIjogImJsdWUiLCAiZGFzaEFycmF5IjogbnVsbCwgImRhc2hPZmZzZXQiOiBudWxsLCAiZmlsbCI6IHRydWUsICJmaWxsQ29sb3IiOiAiIzMxODZjYyIsICJmaWxsT3BhY2l0eSI6IDAuNywgImZpbGxSdWxlIjogImV2ZW5vZGQiLCAibGluZUNhcCI6ICJyb3VuZCIsICJsaW5lSm9pbiI6ICJyb3VuZCIsICJvcGFjaXR5IjogMS4wLCAicmFkaXVzIjogNSwgInN0cm9rZSI6IHRydWUsICJ3ZWlnaHQiOiAzfQogICAgICAgICAgICApLmFkZFRvKG1hcF83YmMyYWU2ODMyN2E0YzQ2OWRiZjE2ZGU0ZTk1MGMyNik7CiAgICAgICAgCiAgICAKICAgICAgICB2YXIgcG9wdXBfN2I0NDlhNTY0OWRjNGZjN2E2NmUyY2E2OGI5NTdiNjggPSBMLnBvcHVwKHsibWF4V2lkdGgiOiAiMTAwJSJ9KTsKCiAgICAgICAgCiAgICAgICAgICAgIHZhciBodG1sX2MxM2E0ZmJiY2FjZDRkMWE5Y2I2NWUzMTU1ODI0ZDVjID0gJChgPGRpdiBpZD0iaHRtbF9jMTNhNGZiYmNhY2Q0ZDFhOWNiNjVlMzE1NTgyNGQ1YyIgc3R5bGU9IndpZHRoOiAxMDAuMCU7IGhlaWdodDogMTAwLjAlOyI+Q29tbWVyY2UgQ291cnQsIFZpY3RvcmlhIEhvdGVsLCBEb3dudG93biBUb3JvbnRvPC9kaXY+YClbMF07CiAgICAgICAgICAgIHBvcHVwXzdiNDQ5YTU2NDlkYzRmYzdhNjZlMmNhNjhiOTU3YjY4LnNldENvbnRlbnQoaHRtbF9jMTNhNGZiYmNhY2Q0ZDFhOWNiNjVlMzE1NTgyNGQ1Yyk7CiAgICAgICAgCgogICAgICAgIGNpcmNsZV9tYXJrZXJfMWJlNTE3Y2Q4NDEyNDE1Y2I1OTE1OTBmMTUwNGVlMjIuYmluZFBvcHVwKHBvcHVwXzdiNDQ5YTU2NDlkYzRmYzdhNjZlMmNhNjhiOTU3YjY4KQogICAgICAgIDsKCiAgICAgICAgCiAgICAKICAgIAogICAgICAgICAgICB2YXIgY2lyY2xlX21hcmtlcl81NmQ5ZGIzMjQyNmI0MmQ0YWM0MjE5MDk2YWUwMGVkNSA9IEwuY2lyY2xlTWFya2VyKAogICAgICAgICAgICAgICAgWzQzLjcxMzc1NjIwMDAwMDAwNiwgLTc5LjQ5MDA3MzhdLAogICAgICAgICAgICAgICAgeyJidWJibGluZ01vdXNlRXZlbnRzIjogdHJ1ZSwgImNvbG9yIjogImJsdWUiLCAiZGFzaEFycmF5IjogbnVsbCwgImRhc2hPZmZzZXQiOiBudWxsLCAiZmlsbCI6IHRydWUsICJmaWxsQ29sb3IiOiAiIzMxODZjYyIsICJmaWxsT3BhY2l0eSI6IDAuNywgImZpbGxSdWxlIjogImV2ZW5vZGQiLCAibGluZUNhcCI6ICJyb3VuZCIsICJsaW5lSm9pbiI6ICJyb3VuZCIsICJvcGFjaXR5IjogMS4wLCAicmFkaXVzIjogNSwgInN0cm9rZSI6IHRydWUsICJ3ZWlnaHQiOiAzfQogICAgICAgICAgICApLmFkZFRvKG1hcF83YmMyYWU2ODMyN2E0YzQ2OWRiZjE2ZGU0ZTk1MGMyNik7CiAgICAgICAgCiAgICAKICAgICAgICB2YXIgcG9wdXBfODQ3ODVjZjg1OGViNDg1ZWJkY2VlYmNiMzIzMzlhNzkgPSBMLnBvcHVwKHsibWF4V2lkdGgiOiAiMTAwJSJ9KTsKCiAgICAgICAgCiAgICAgICAgICAgIHZhciBodG1sXzExY2ZjNWNiODJkNDQ4ZThiNzUyMDdiOTFiYjY5NDM1ID0gJChgPGRpdiBpZD0iaHRtbF8xMWNmYzVjYjgyZDQ0OGU4Yjc1MjA3YjkxYmI2OTQzNSIgc3R5bGU9IndpZHRoOiAxMDAuMCU7IGhlaWdodDogMTAwLjAlOyI+Tm9ydGggUGFyaywgTWFwbGUgTGVhZiBQYXJrLCBVcHdvb2QgUGFyaywgTm9ydGggWW9yazwvZGl2PmApWzBdOwogICAgICAgICAgICBwb3B1cF84NDc4NWNmODU4ZWI0ODVlYmRjZWViY2IzMjMzOWE3OS5zZXRDb250ZW50KGh0bWxfMTFjZmM1Y2I4MmQ0NDhlOGI3NTIwN2I5MWJiNjk0MzUpOwogICAgICAgIAoKICAgICAgICBjaXJjbGVfbWFya2VyXzU2ZDlkYjMyNDI2YjQyZDRhYzQyMTkwOTZhZTAwZWQ1LmJpbmRQb3B1cChwb3B1cF84NDc4NWNmODU4ZWI0ODVlYmRjZWViY2IzMjMzOWE3OSkKICAgICAgICA7CgogICAgICAgIAogICAgCiAgICAKICAgICAgICAgICAgdmFyIGNpcmNsZV9tYXJrZXJfZDJkYTNiM2JiMzYzNGJkNDg5NmMwNjNlZjliODU5ZmMgPSBMLmNpcmNsZU1hcmtlcigKICAgICAgICAgICAgICAgIFs0My43NTYzMDMzLCAtNzkuNTY1OTYzMjk5OTk5OTldLAogICAgICAgICAgICAgICAgeyJidWJibGluZ01vdXNlRXZlbnRzIjogdHJ1ZSwgImNvbG9yIjogImJsdWUiLCAiZGFzaEFycmF5IjogbnVsbCwgImRhc2hPZmZzZXQiOiBudWxsLCAiZmlsbCI6IHRydWUsICJmaWxsQ29sb3IiOiAiIzMxODZjYyIsICJmaWxsT3BhY2l0eSI6IDAuNywgImZpbGxSdWxlIjogImV2ZW5vZGQiLCAibGluZUNhcCI6ICJyb3VuZCIsICJsaW5lSm9pbiI6ICJyb3VuZCIsICJvcGFjaXR5IjogMS4wLCAicmFkaXVzIjogNSwgInN0cm9rZSI6IHRydWUsICJ3ZWlnaHQiOiAzfQogICAgICAgICAgICApLmFkZFRvKG1hcF83YmMyYWU2ODMyN2E0YzQ2OWRiZjE2ZGU0ZTk1MGMyNik7CiAgICAgICAgCiAgICAKICAgICAgICB2YXIgcG9wdXBfNjRlNzA2ODE4MTU1NGEyNTg1YzY2NDllOTI5OGI0YmMgPSBMLnBvcHVwKHsibWF4V2lkdGgiOiAiMTAwJSJ9KTsKCiAgICAgICAgCiAgICAgICAgICAgIHZhciBodG1sXzg0YzZhZTU4ZjRjYjQ4NTJhNDY3MjQ2ZWNhMTNjNTA5ID0gJChgPGRpdiBpZD0iaHRtbF84NGM2YWU1OGY0Y2I0ODUyYTQ2NzI0NmVjYTEzYzUwOSIgc3R5bGU9IndpZHRoOiAxMDAuMCU7IGhlaWdodDogMTAwLjAlOyI+SHVtYmVyIFN1bW1pdCwgTm9ydGggWW9yazwvZGl2PmApWzBdOwogICAgICAgICAgICBwb3B1cF82NGU3MDY4MTgxNTU0YTI1ODVjNjY0OWU5Mjk4YjRiYy5zZXRDb250ZW50KGh0bWxfODRjNmFlNThmNGNiNDg1MmE0NjcyNDZlY2ExM2M1MDkpOwogICAgICAgIAoKICAgICAgICBjaXJjbGVfbWFya2VyX2QyZGEzYjNiYjM2MzRiZDQ4OTZjMDYzZWY5Yjg1OWZjLmJpbmRQb3B1cChwb3B1cF82NGU3MDY4MTgxNTU0YTI1ODVjNjY0OWU5Mjk4YjRiYykKICAgICAgICA7CgogICAgICAgIAogICAgCiAgICAKICAgICAgICAgICAgdmFyIGNpcmNsZV9tYXJrZXJfM2E0MzFlZjUyNjA3NDFiNmE2MzdlNzdkNGEwNTYwZTcgPSBMLmNpcmNsZU1hcmtlcigKICAgICAgICAgICAgICAgIFs0My43MTYzMTYsIC03OS4yMzk0NzYwOTk5OTk5OV0sCiAgICAgICAgICAgICAgICB7ImJ1YmJsaW5nTW91c2VFdmVudHMiOiB0cnVlLCAiY29sb3IiOiAiYmx1ZSIsICJkYXNoQXJyYXkiOiBudWxsLCAiZGFzaE9mZnNldCI6IG51bGwsICJmaWxsIjogdHJ1ZSwgImZpbGxDb2xvciI6ICIjMzE4NmNjIiwgImZpbGxPcGFjaXR5IjogMC43LCAiZmlsbFJ1bGUiOiAiZXZlbm9kZCIsICJsaW5lQ2FwIjogInJvdW5kIiwgImxpbmVKb2luIjogInJvdW5kIiwgIm9wYWNpdHkiOiAxLjAsICJyYWRpdXMiOiA1LCAic3Ryb2tlIjogdHJ1ZSwgIndlaWdodCI6IDN9CiAgICAgICAgICAgICkuYWRkVG8obWFwXzdiYzJhZTY4MzI3YTRjNDY5ZGJmMTZkZTRlOTUwYzI2KTsKICAgICAgICAKICAgIAogICAgICAgIHZhciBwb3B1cF9lMmNmZTgwZjk2MmM0Yjk3OTI4NDJiMjQwODhjODZmYSA9IEwucG9wdXAoeyJtYXhXaWR0aCI6ICIxMDAlIn0pOwoKICAgICAgICAKICAgICAgICAgICAgdmFyIGh0bWxfN2IzYWUwNzdkMmMyNDAxMmJlNTdkYzEyNWY4NmMyYjkgPSAkKGA8ZGl2IGlkPSJodG1sXzdiM2FlMDc3ZDJjMjQwMTJiZTU3ZGMxMjVmODZjMmI5IiBzdHlsZT0id2lkdGg6IDEwMC4wJTsgaGVpZ2h0OiAxMDAuMCU7Ij5DbGlmZnNpZGUsIENsaWZmY3Jlc3QsIFNjYXJib3JvdWdoIFZpbGxhZ2UgV2VzdCwgU2NhcmJvcm91Z2g8L2Rpdj5gKVswXTsKICAgICAgICAgICAgcG9wdXBfZTJjZmU4MGY5NjJjNGI5NzkyODQyYjI0MDg4Yzg2ZmEuc2V0Q29udGVudChodG1sXzdiM2FlMDc3ZDJjMjQwMTJiZTU3ZGMxMjVmODZjMmI5KTsKICAgICAgICAKCiAgICAgICAgY2lyY2xlX21hcmtlcl8zYTQzMWVmNTI2MDc0MWI2YTYzN2U3N2Q0YTA1NjBlNy5iaW5kUG9wdXAocG9wdXBfZTJjZmU4MGY5NjJjNGI5NzkyODQyYjI0MDg4Yzg2ZmEpCiAgICAgICAgOwoKICAgICAgICAKICAgIAogICAgCiAgICAgICAgICAgIHZhciBjaXJjbGVfbWFya2VyX2JkMmQyMjdiZGIwNzQ5MjhiMTM4MzFiMDE0YTFjNjlkID0gTC5jaXJjbGVNYXJrZXIoCiAgICAgICAgICAgICAgICBbNDMuNzg5MDUzLCAtNzkuNDA4NDkyNzk5OTk5OTldLAogICAgICAgICAgICAgICAgeyJidWJibGluZ01vdXNlRXZlbnRzIjogdHJ1ZSwgImNvbG9yIjogImJsdWUiLCAiZGFzaEFycmF5IjogbnVsbCwgImRhc2hPZmZzZXQiOiBudWxsLCAiZmlsbCI6IHRydWUsICJmaWxsQ29sb3IiOiAiIzMxODZjYyIsICJmaWxsT3BhY2l0eSI6IDAuNywgImZpbGxSdWxlIjogImV2ZW5vZGQiLCAibGluZUNhcCI6ICJyb3VuZCIsICJsaW5lSm9pbiI6ICJyb3VuZCIsICJvcGFjaXR5IjogMS4wLCAicmFkaXVzIjogNSwgInN0cm9rZSI6IHRydWUsICJ3ZWlnaHQiOiAzfQogICAgICAgICAgICApLmFkZFRvKG1hcF83YmMyYWU2ODMyN2E0YzQ2OWRiZjE2ZGU0ZTk1MGMyNik7CiAgICAgICAgCiAgICAKICAgICAgICB2YXIgcG9wdXBfOTZhMDM3ZjY3OWJjNGJiMGJkMzZkOGY3Y2NiNDZlYzEgPSBMLnBvcHVwKHsibWF4V2lkdGgiOiAiMTAwJSJ9KTsKCiAgICAgICAgCiAgICAgICAgICAgIHZhciBodG1sXzE4MTg4MTE1YWU4ODQ4ZjA5MGRlNmE2NDQ0ZTZiNTk3ID0gJChgPGRpdiBpZD0iaHRtbF8xODE4ODExNWFlODg0OGYwOTBkZTZhNjQ0NGU2YjU5NyIgc3R5bGU9IndpZHRoOiAxMDAuMCU7IGhlaWdodDogMTAwLjAlOyI+V2lsbG93ZGFsZSwgTmV3dG9uYnJvb2ssIE5vcnRoIFlvcms8L2Rpdj5gKVswXTsKICAgICAgICAgICAgcG9wdXBfOTZhMDM3ZjY3OWJjNGJiMGJkMzZkOGY3Y2NiNDZlYzEuc2V0Q29udGVudChodG1sXzE4MTg4MTE1YWU4ODQ4ZjA5MGRlNmE2NDQ0ZTZiNTk3KTsKICAgICAgICAKCiAgICAgICAgY2lyY2xlX21hcmtlcl9iZDJkMjI3YmRiMDc0OTI4YjEzODMxYjAxNGExYzY5ZC5iaW5kUG9wdXAocG9wdXBfOTZhMDM3ZjY3OWJjNGJiMGJkMzZkOGY3Y2NiNDZlYzEpCiAgICAgICAgOwoKICAgICAgICAKICAgIAogICAgCiAgICAgICAgICAgIHZhciBjaXJjbGVfbWFya2VyXzYyZDdmZGE1Yjk0OTRlNTc5NjQzOTQ1ZTY5NDAxZGU5ID0gTC5jaXJjbGVNYXJrZXIoCiAgICAgICAgICAgICAgICBbNDMuNzI4NDk2NCwgLTc5LjQ5NTY5NzQwMDAwMDAxXSwKICAgICAgICAgICAgICAgIHsiYnViYmxpbmdNb3VzZUV2ZW50cyI6IHRydWUsICJjb2xvciI6ICJibHVlIiwgImRhc2hBcnJheSI6IG51bGwsICJkYXNoT2Zmc2V0IjogbnVsbCwgImZpbGwiOiB0cnVlLCAiZmlsbENvbG9yIjogIiMzMTg2Y2MiLCAiZmlsbE9wYWNpdHkiOiAwLjcsICJmaWxsUnVsZSI6ICJldmVub2RkIiwgImxpbmVDYXAiOiAicm91bmQiLCAibGluZUpvaW4iOiAicm91bmQiLCAib3BhY2l0eSI6IDEuMCwgInJhZGl1cyI6IDUsICJzdHJva2UiOiB0cnVlLCAid2VpZ2h0IjogM30KICAgICAgICAgICAgKS5hZGRUbyhtYXBfN2JjMmFlNjgzMjdhNGM0NjlkYmYxNmRlNGU5NTBjMjYpOwogICAgICAgIAogICAgCiAgICAgICAgdmFyIHBvcHVwXzUyNmU3YjQxODA2MTRhMDc4OGJlOGU0OWFhNzFmN2YxID0gTC5wb3B1cCh7Im1heFdpZHRoIjogIjEwMCUifSk7CgogICAgICAgIAogICAgICAgICAgICB2YXIgaHRtbF9mYTc5ZWIwODRjNDE0ZmMyODMwODY1OTk3MjczMTUwNyA9ICQoYDxkaXYgaWQ9Imh0bWxfZmE3OWViMDg0YzQxNGZjMjgzMDg2NTk5NzI3MzE1MDciIHN0eWxlPSJ3aWR0aDogMTAwLjAlOyBoZWlnaHQ6IDEwMC4wJTsiPkRvd25zdmlldywgTm9ydGggWW9yazwvZGl2PmApWzBdOwogICAgICAgICAgICBwb3B1cF81MjZlN2I0MTgwNjE0YTA3ODhiZThlNDlhYTcxZjdmMS5zZXRDb250ZW50KGh0bWxfZmE3OWViMDg0YzQxNGZjMjgzMDg2NTk5NzI3MzE1MDcpOwogICAgICAgIAoKICAgICAgICBjaXJjbGVfbWFya2VyXzYyZDdmZGE1Yjk0OTRlNTc5NjQzOTQ1ZTY5NDAxZGU5LmJpbmRQb3B1cChwb3B1cF81MjZlN2I0MTgwNjE0YTA3ODhiZThlNDlhYTcxZjdmMSkKICAgICAgICA7CgogICAgICAgIAogICAgCiAgICAKICAgICAgICAgICAgdmFyIGNpcmNsZV9tYXJrZXJfZDkxN2IwYjkzZDA2NDA3N2JiYjIwMTc1M2MzZmVhZGIgPSBMLmNpcmNsZU1hcmtlcigKICAgICAgICAgICAgICAgIFs0My42NTk1MjU1LCAtNzkuMzQwOTIzXSwKICAgICAgICAgICAgICAgIHsiYnViYmxpbmdNb3VzZUV2ZW50cyI6IHRydWUsICJjb2xvciI6ICJibHVlIiwgImRhc2hBcnJheSI6IG51bGwsICJkYXNoT2Zmc2V0IjogbnVsbCwgImZpbGwiOiB0cnVlLCAiZmlsbENvbG9yIjogIiMzMTg2Y2MiLCAiZmlsbE9wYWNpdHkiOiAwLjcsICJmaWxsUnVsZSI6ICJldmVub2RkIiwgImxpbmVDYXAiOiAicm91bmQiLCAibGluZUpvaW4iOiAicm91bmQiLCAib3BhY2l0eSI6IDEuMCwgInJhZGl1cyI6IDUsICJzdHJva2UiOiB0cnVlLCAid2VpZ2h0IjogM30KICAgICAgICAgICAgKS5hZGRUbyhtYXBfN2JjMmFlNjgzMjdhNGM0NjlkYmYxNmRlNGU5NTBjMjYpOwogICAgICAgIAogICAgCiAgICAgICAgdmFyIHBvcHVwXzI2MmFkMzY1NDQwZTQyNTQ4OGIwYzNiMDc4MDI5ZGJmID0gTC5wb3B1cCh7Im1heFdpZHRoIjogIjEwMCUifSk7CgogICAgICAgIAogICAgICAgICAgICB2YXIgaHRtbF82NzIyMGNjMTI1ODc0MWEwYjQ3MjAwMDkyNzQ2NGY0NSA9ICQoYDxkaXYgaWQ9Imh0bWxfNjcyMjBjYzEyNTg3NDFhMGI0NzIwMDA5Mjc0NjRmNDUiIHN0eWxlPSJ3aWR0aDogMTAwLjAlOyBoZWlnaHQ6IDEwMC4wJTsiPlN0dWRpbyBEaXN0cmljdCwgRWFzdCBUb3JvbnRvPC9kaXY+YClbMF07CiAgICAgICAgICAgIHBvcHVwXzI2MmFkMzY1NDQwZTQyNTQ4OGIwYzNiMDc4MDI5ZGJmLnNldENvbnRlbnQoaHRtbF82NzIyMGNjMTI1ODc0MWEwYjQ3MjAwMDkyNzQ2NGY0NSk7CiAgICAgICAgCgogICAgICAgIGNpcmNsZV9tYXJrZXJfZDkxN2IwYjkzZDA2NDA3N2JiYjIwMTc1M2MzZmVhZGIuYmluZFBvcHVwKHBvcHVwXzI2MmFkMzY1NDQwZTQyNTQ4OGIwYzNiMDc4MDI5ZGJmKQogICAgICAgIDsKCiAgICAgICAgCiAgICAKICAgIAogICAgICAgICAgICB2YXIgY2lyY2xlX21hcmtlcl9mZjRhZjYwMTk5MWU0NWNiOTUwNTcyNWNkNDAzMjQxZiA9IEwuY2lyY2xlTWFya2VyKAogICAgICAgICAgICAgICAgWzQzLjczMzI4MjUsIC03OS40MTk3NDk3XSwKICAgICAgICAgICAgICAgIHsiYnViYmxpbmdNb3VzZUV2ZW50cyI6IHRydWUsICJjb2xvciI6ICJibHVlIiwgImRhc2hBcnJheSI6IG51bGwsICJkYXNoT2Zmc2V0IjogbnVsbCwgImZpbGwiOiB0cnVlLCAiZmlsbENvbG9yIjogIiMzMTg2Y2MiLCAiZmlsbE9wYWNpdHkiOiAwLjcsICJmaWxsUnVsZSI6ICJldmVub2RkIiwgImxpbmVDYXAiOiAicm91bmQiLCAibGluZUpvaW4iOiAicm91bmQiLCAib3BhY2l0eSI6IDEuMCwgInJhZGl1cyI6IDUsICJzdHJva2UiOiB0cnVlLCAid2VpZ2h0IjogM30KICAgICAgICAgICAgKS5hZGRUbyhtYXBfN2JjMmFlNjgzMjdhNGM0NjlkYmYxNmRlNGU5NTBjMjYpOwogICAgICAgIAogICAgCiAgICAgICAgdmFyIHBvcHVwXzg1ZTFjY2FiYzgzZDQzMDJiN2EwYmY1YWY4ZDdmYjMwID0gTC5wb3B1cCh7Im1heFdpZHRoIjogIjEwMCUifSk7CgogICAgICAgIAogICAgICAgICAgICB2YXIgaHRtbF82N2EyZjk0NWIyNjY0MjQ1YjQ5MjVlMzQwMWVhMWY4YSA9ICQoYDxkaXYgaWQ9Imh0bWxfNjdhMmY5NDViMjY2NDI0NWI0OTI1ZTM0MDFlYTFmOGEiIHN0eWxlPSJ3aWR0aDogMTAwLjAlOyBoZWlnaHQ6IDEwMC4wJTsiPkJlZGZvcmQgUGFyaywgTGF3cmVuY2UgTWFub3IgRWFzdCwgTm9ydGggWW9yazwvZGl2PmApWzBdOwogICAgICAgICAgICBwb3B1cF84NWUxY2NhYmM4M2Q0MzAyYjdhMGJmNWFmOGQ3ZmIzMC5zZXRDb250ZW50KGh0bWxfNjdhMmY5NDViMjY2NDI0NWI0OTI1ZTM0MDFlYTFmOGEpOwogICAgICAgIAoKICAgICAgICBjaXJjbGVfbWFya2VyX2ZmNGFmNjAxOTkxZTQ1Y2I5NTA1NzI1Y2Q0MDMyNDFmLmJpbmRQb3B1cChwb3B1cF84NWUxY2NhYmM4M2Q0MzAyYjdhMGJmNWFmOGQ3ZmIzMCkKICAgICAgICA7CgogICAgICAgIAogICAgCiAgICAKICAgICAgICAgICAgdmFyIGNpcmNsZV9tYXJrZXJfZjlkNzFhZDA4MDYyNDliZWI4Yjk2YzU3ZDE1YmVlMTQgPSBMLmNpcmNsZU1hcmtlcigKICAgICAgICAgICAgICAgIFs0My42OTExMTU4LCAtNzkuNDc2MDEzMjk5OTk5OTldLAogICAgICAgICAgICAgICAgeyJidWJibGluZ01vdXNlRXZlbnRzIjogdHJ1ZSwgImNvbG9yIjogImJsdWUiLCAiZGFzaEFycmF5IjogbnVsbCwgImRhc2hPZmZzZXQiOiBudWxsLCAiZmlsbCI6IHRydWUsICJmaWxsQ29sb3IiOiAiIzMxODZjYyIsICJmaWxsT3BhY2l0eSI6IDAuNywgImZpbGxSdWxlIjogImV2ZW5vZGQiLCAibGluZUNhcCI6ICJyb3VuZCIsICJsaW5lSm9pbiI6ICJyb3VuZCIsICJvcGFjaXR5IjogMS4wLCAicmFkaXVzIjogNSwgInN0cm9rZSI6IHRydWUsICJ3ZWlnaHQiOiAzfQogICAgICAgICAgICApLmFkZFRvKG1hcF83YmMyYWU2ODMyN2E0YzQ2OWRiZjE2ZGU0ZTk1MGMyNik7CiAgICAgICAgCiAgICAKICAgICAgICB2YXIgcG9wdXBfYmY4OTM2MTM3ODEzNGY5YjkyOTU0MGFkMDBlYzRhZDcgPSBMLnBvcHVwKHsibWF4V2lkdGgiOiAiMTAwJSJ9KTsKCiAgICAgICAgCiAgICAgICAgICAgIHZhciBodG1sX2U3ZDhjN2Q0MWU1YTQ5MDg5MWY2MTNlNmJjYmQ3NmJlID0gJChgPGRpdiBpZD0iaHRtbF9lN2Q4YzdkNDFlNWE0OTA4OTFmNjEzZTZiY2JkNzZiZSIgc3R5bGU9IndpZHRoOiAxMDAuMCU7IGhlaWdodDogMTAwLjAlOyI+RGVsIFJheSwgTW91bnQgRGVubmlzLCBLZWVsc2RhbGUgYW5kIFNpbHZlcnRob3JuLCBZb3JrPC9kaXY+YClbMF07CiAgICAgICAgICAgIHBvcHVwX2JmODkzNjEzNzgxMzRmOWI5Mjk1NDBhZDAwZWM0YWQ3LnNldENvbnRlbnQoaHRtbF9lN2Q4YzdkNDFlNWE0OTA4OTFmNjEzZTZiY2JkNzZiZSk7CiAgICAgICAgCgogICAgICAgIGNpcmNsZV9tYXJrZXJfZjlkNzFhZDA4MDYyNDliZWI4Yjk2YzU3ZDE1YmVlMTQuYmluZFBvcHVwKHBvcHVwX2JmODkzNjEzNzgxMzRmOWI5Mjk1NDBhZDAwZWM0YWQ3KQogICAgICAgIDsKCiAgICAgICAgCiAgICAKICAgIAogICAgICAgICAgICB2YXIgY2lyY2xlX21hcmtlcl82YTVkOGJiNzU0NjI0MGQ3YmNkZjQ0OGQyM2MzOTY2NyA9IEwuY2lyY2xlTWFya2VyKAogICAgICAgICAgICAgICAgWzQzLjcyNDc2NTksIC03OS41MzIyNDI0MDAwMDAwMl0sCiAgICAgICAgICAgICAgICB7ImJ1YmJsaW5nTW91c2VFdmVudHMiOiB0cnVlLCAiY29sb3IiOiAiYmx1ZSIsICJkYXNoQXJyYXkiOiBudWxsLCAiZGFzaE9mZnNldCI6IG51bGwsICJmaWxsIjogdHJ1ZSwgImZpbGxDb2xvciI6ICIjMzE4NmNjIiwgImZpbGxPcGFjaXR5IjogMC43LCAiZmlsbFJ1bGUiOiAiZXZlbm9kZCIsICJsaW5lQ2FwIjogInJvdW5kIiwgImxpbmVKb2luIjogInJvdW5kIiwgIm9wYWNpdHkiOiAxLjAsICJyYWRpdXMiOiA1LCAic3Ryb2tlIjogdHJ1ZSwgIndlaWdodCI6IDN9CiAgICAgICAgICAgICkuYWRkVG8obWFwXzdiYzJhZTY4MzI3YTRjNDY5ZGJmMTZkZTRlOTUwYzI2KTsKICAgICAgICAKICAgIAogICAgICAgIHZhciBwb3B1cF81N2FmZDA4MGM3MzQ0OTZmYmM0MGNmNTBmODJkNjVjMCA9IEwucG9wdXAoeyJtYXhXaWR0aCI6ICIxMDAlIn0pOwoKICAgICAgICAKICAgICAgICAgICAgdmFyIGh0bWxfZGMyZjZkOTI4ODhlNDk3NjgyZjVlNGIwYjQyYWQ0ZjIgPSAkKGA8ZGl2IGlkPSJodG1sX2RjMmY2ZDkyODg4ZTQ5NzY4MmY1ZTRiMGI0MmFkNGYyIiBzdHlsZT0id2lkdGg6IDEwMC4wJTsgaGVpZ2h0OiAxMDAuMCU7Ij5IdW1iZXJsZWEsIEVtZXJ5LCBOb3J0aCBZb3JrPC9kaXY+YClbMF07CiAgICAgICAgICAgIHBvcHVwXzU3YWZkMDgwYzczNDQ5NmZiYzQwY2Y1MGY4MmQ2NWMwLnNldENvbnRlbnQoaHRtbF9kYzJmNmQ5Mjg4OGU0OTc2ODJmNWU0YjBiNDJhZDRmMik7CiAgICAgICAgCgogICAgICAgIGNpcmNsZV9tYXJrZXJfNmE1ZDhiYjc1NDYyNDBkN2JjZGY0NDhkMjNjMzk2NjcuYmluZFBvcHVwKHBvcHVwXzU3YWZkMDgwYzczNDQ5NmZiYzQwY2Y1MGY4MmQ2NWMwKQogICAgICAgIDsKCiAgICAgICAgCiAgICAKICAgIAogICAgICAgICAgICB2YXIgY2lyY2xlX21hcmtlcl8wNDlhZmJiMDEzMWY0MjJiODc4YjE3ZmFmYjg3MWVlNyA9IEwuY2lyY2xlTWFya2VyKAogICAgICAgICAgICAgICAgWzQzLjY5MjY1NzAwMDAwMDAwNCwgLTc5LjI2NDg0ODFdLAogICAgICAgICAgICAgICAgeyJidWJibGluZ01vdXNlRXZlbnRzIjogdHJ1ZSwgImNvbG9yIjogImJsdWUiLCAiZGFzaEFycmF5IjogbnVsbCwgImRhc2hPZmZzZXQiOiBudWxsLCAiZmlsbCI6IHRydWUsICJmaWxsQ29sb3IiOiAiIzMxODZjYyIsICJmaWxsT3BhY2l0eSI6IDAuNywgImZpbGxSdWxlIjogImV2ZW5vZGQiLCAibGluZUNhcCI6ICJyb3VuZCIsICJsaW5lSm9pbiI6ICJyb3VuZCIsICJvcGFjaXR5IjogMS4wLCAicmFkaXVzIjogNSwgInN0cm9rZSI6IHRydWUsICJ3ZWlnaHQiOiAzfQogICAgICAgICAgICApLmFkZFRvKG1hcF83YmMyYWU2ODMyN2E0YzQ2OWRiZjE2ZGU0ZTk1MGMyNik7CiAgICAgICAgCiAgICAKICAgICAgICB2YXIgcG9wdXBfZGUwYzRiZTEzZmI3NGYyOGFhNjQ1Y2UwMTcwYjI1M2YgPSBMLnBvcHVwKHsibWF4V2lkdGgiOiAiMTAwJSJ9KTsKCiAgICAgICAgCiAgICAgICAgICAgIHZhciBodG1sXzZmMjk0YWY1YTI3ZDQxYWI5ZmNhZTIxZDkwZDQzMGRhID0gJChgPGRpdiBpZD0iaHRtbF82ZjI5NGFmNWEyN2Q0MWFiOWZjYWUyMWQ5MGQ0MzBkYSIgc3R5bGU9IndpZHRoOiAxMDAuMCU7IGhlaWdodDogMTAwLjAlOyI+QmlyY2ggQ2xpZmYsIENsaWZmc2lkZSBXZXN0LCBTY2FyYm9yb3VnaDwvZGl2PmApWzBdOwogICAgICAgICAgICBwb3B1cF9kZTBjNGJlMTNmYjc0ZjI4YWE2NDVjZTAxNzBiMjUzZi5zZXRDb250ZW50KGh0bWxfNmYyOTRhZjVhMjdkNDFhYjlmY2FlMjFkOTBkNDMwZGEpOwogICAgICAgIAoKICAgICAgICBjaXJjbGVfbWFya2VyXzA0OWFmYmIwMTMxZjQyMmI4NzhiMTdmYWZiODcxZWU3LmJpbmRQb3B1cChwb3B1cF9kZTBjNGJlMTNmYjc0ZjI4YWE2NDVjZTAxNzBiMjUzZikKICAgICAgICA7CgogICAgICAgIAogICAgCiAgICAKICAgICAgICAgICAgdmFyIGNpcmNsZV9tYXJrZXJfMzc2ZDk5NDVjZTUwNGQ3NmJhYzdjYzFmNjI0NGM4MjcgPSBMLmNpcmNsZU1hcmtlcigKICAgICAgICAgICAgICAgIFs0My43NzAxMTk5LCAtNzkuNDA4NDkyNzk5OTk5OTldLAogICAgICAgICAgICAgICAgeyJidWJibGluZ01vdXNlRXZlbnRzIjogdHJ1ZSwgImNvbG9yIjogImJsdWUiLCAiZGFzaEFycmF5IjogbnVsbCwgImRhc2hPZmZzZXQiOiBudWxsLCAiZmlsbCI6IHRydWUsICJmaWxsQ29sb3IiOiAiIzMxODZjYyIsICJmaWxsT3BhY2l0eSI6IDAuNywgImZpbGxSdWxlIjogImV2ZW5vZGQiLCAibGluZUNhcCI6ICJyb3VuZCIsICJsaW5lSm9pbiI6ICJyb3VuZCIsICJvcGFjaXR5IjogMS4wLCAicmFkaXVzIjogNSwgInN0cm9rZSI6IHRydWUsICJ3ZWlnaHQiOiAzfQogICAgICAgICAgICApLmFkZFRvKG1hcF83YmMyYWU2ODMyN2E0YzQ2OWRiZjE2ZGU0ZTk1MGMyNik7CiAgICAgICAgCiAgICAKICAgICAgICB2YXIgcG9wdXBfM2MxZWE0MTYwMTcwNGY5MjhlODk0ZTE4OGFlMjVhYzYgPSBMLnBvcHVwKHsibWF4V2lkdGgiOiAiMTAwJSJ9KTsKCiAgICAgICAgCiAgICAgICAgICAgIHZhciBodG1sXzk0NDg0YjE0YjQ1YTQxN2ZhYWNiOWU1OTQ5MmU3Y2UxID0gJChgPGRpdiBpZD0iaHRtbF85NDQ4NGIxNGI0NWE0MTdmYWFjYjllNTk0OTJlN2NlMSIgc3R5bGU9IndpZHRoOiAxMDAuMCU7IGhlaWdodDogMTAwLjAlOyI+V2lsbG93ZGFsZSwgTm9ydGggWW9yazwvZGl2PmApWzBdOwogICAgICAgICAgICBwb3B1cF8zYzFlYTQxNjAxNzA0ZjkyOGU4OTRlMTg4YWUyNWFjNi5zZXRDb250ZW50KGh0bWxfOTQ0ODRiMTRiNDVhNDE3ZmFhY2I5ZTU5NDkyZTdjZTEpOwogICAgICAgIAoKICAgICAgICBjaXJjbGVfbWFya2VyXzM3NmQ5OTQ1Y2U1MDRkNzZiYWM3Y2MxZjYyNDRjODI3LmJpbmRQb3B1cChwb3B1cF8zYzFlYTQxNjAxNzA0ZjkyOGU4OTRlMTg4YWUyNWFjNikKICAgICAgICA7CgogICAgICAgIAogICAgCiAgICAKICAgICAgICAgICAgdmFyIGNpcmNsZV9tYXJrZXJfNjA2ZWVmODkxODVjNGFjMGEyNTU0ZGI0MzRlMzY4YmIgPSBMLmNpcmNsZU1hcmtlcigKICAgICAgICAgICAgICAgIFs0My43NjE2MzEzLCAtNzkuNTIwOTk5NDAwMDAwMDFdLAogICAgICAgICAgICAgICAgeyJidWJibGluZ01vdXNlRXZlbnRzIjogdHJ1ZSwgImNvbG9yIjogImJsdWUiLCAiZGFzaEFycmF5IjogbnVsbCwgImRhc2hPZmZzZXQiOiBudWxsLCAiZmlsbCI6IHRydWUsICJmaWxsQ29sb3IiOiAiIzMxODZjYyIsICJmaWxsT3BhY2l0eSI6IDAuNywgImZpbGxSdWxlIjogImV2ZW5vZGQiLCAibGluZUNhcCI6ICJyb3VuZCIsICJsaW5lSm9pbiI6ICJyb3VuZCIsICJvcGFjaXR5IjogMS4wLCAicmFkaXVzIjogNSwgInN0cm9rZSI6IHRydWUsICJ3ZWlnaHQiOiAzfQogICAgICAgICAgICApLmFkZFRvKG1hcF83YmMyYWU2ODMyN2E0YzQ2OWRiZjE2ZGU0ZTk1MGMyNik7CiAgICAgICAgCiAgICAKICAgICAgICB2YXIgcG9wdXBfYjUxMTY2OTRhZmIxNDFlZDg5YzYxMjI0MTY2NWIxMGEgPSBMLnBvcHVwKHsibWF4V2lkdGgiOiAiMTAwJSJ9KTsKCiAgICAgICAgCiAgICAgICAgICAgIHZhciBodG1sXzA4ZmE2ZDZlYjM0YzQwMWFiN2VkMjZlZTZkODg1MDFhID0gJChgPGRpdiBpZD0iaHRtbF8wOGZhNmQ2ZWIzNGM0MDFhYjdlZDI2ZWU2ZDg4NTAxYSIgc3R5bGU9IndpZHRoOiAxMDAuMCU7IGhlaWdodDogMTAwLjAlOyI+RG93bnN2aWV3LCBOb3J0aCBZb3JrPC9kaXY+YClbMF07CiAgICAgICAgICAgIHBvcHVwX2I1MTE2Njk0YWZiMTQxZWQ4OWM2MTIyNDE2NjViMTBhLnNldENvbnRlbnQoaHRtbF8wOGZhNmQ2ZWIzNGM0MDFhYjdlZDI2ZWU2ZDg4NTAxYSk7CiAgICAgICAgCgogICAgICAgIGNpcmNsZV9tYXJrZXJfNjA2ZWVmODkxODVjNGFjMGEyNTU0ZGI0MzRlMzY4YmIuYmluZFBvcHVwKHBvcHVwX2I1MTE2Njk0YWZiMTQxZWQ4OWM2MTIyNDE2NjViMTBhKQogICAgICAgIDsKCiAgICAgICAgCiAgICAKICAgIAogICAgICAgICAgICB2YXIgY2lyY2xlX21hcmtlcl82M2NiMTc5MmI2NDA0MWU5YjUzMmJkM2JiZmMzNWQ1MiA9IEwuY2lyY2xlTWFya2VyKAogICAgICAgICAgICAgICAgWzQzLjcyODAyMDUsIC03OS4zODg3OTAxXSwKICAgICAgICAgICAgICAgIHsiYnViYmxpbmdNb3VzZUV2ZW50cyI6IHRydWUsICJjb2xvciI6ICJibHVlIiwgImRhc2hBcnJheSI6IG51bGwsICJkYXNoT2Zmc2V0IjogbnVsbCwgImZpbGwiOiB0cnVlLCAiZmlsbENvbG9yIjogIiMzMTg2Y2MiLCAiZmlsbE9wYWNpdHkiOiAwLjcsICJmaWxsUnVsZSI6ICJldmVub2RkIiwgImxpbmVDYXAiOiAicm91bmQiLCAibGluZUpvaW4iOiAicm91bmQiLCAib3BhY2l0eSI6IDEuMCwgInJhZGl1cyI6IDUsICJzdHJva2UiOiB0cnVlLCAid2VpZ2h0IjogM30KICAgICAgICAgICAgKS5hZGRUbyhtYXBfN2JjMmFlNjgzMjdhNGM0NjlkYmYxNmRlNGU5NTBjMjYpOwogICAgICAgIAogICAgCiAgICAgICAgdmFyIHBvcHVwXzczMDU2NzliNWVhYzQ1OWVhZTkyYzE0ZmZjNmRiZDUyID0gTC5wb3B1cCh7Im1heFdpZHRoIjogIjEwMCUifSk7CgogICAgICAgIAogICAgICAgICAgICB2YXIgaHRtbF82Y2Y5OTgxZDdlNGM0YTdmODY4Y2I1Mzk5OWIxNWFhOCA9ICQoYDxkaXYgaWQ9Imh0bWxfNmNmOTk4MWQ3ZTRjNGE3Zjg2OGNiNTM5OTliMTVhYTgiIHN0eWxlPSJ3aWR0aDogMTAwLjAlOyBoZWlnaHQ6IDEwMC4wJTsiPkxhd3JlbmNlIFBhcmssIENlbnRyYWwgVG9yb250bzwvZGl2PmApWzBdOwogICAgICAgICAgICBwb3B1cF83MzA1Njc5YjVlYWM0NTllYWU5MmMxNGZmYzZkYmQ1Mi5zZXRDb250ZW50KGh0bWxfNmNmOTk4MWQ3ZTRjNGE3Zjg2OGNiNTM5OTliMTVhYTgpOwogICAgICAgIAoKICAgICAgICBjaXJjbGVfbWFya2VyXzYzY2IxNzkyYjY0MDQxZTliNTMyYmQzYmJmYzM1ZDUyLmJpbmRQb3B1cChwb3B1cF83MzA1Njc5YjVlYWM0NTllYWU5MmMxNGZmYzZkYmQ1MikKICAgICAgICA7CgogICAgICAgIAogICAgCiAgICAKICAgICAgICAgICAgdmFyIGNpcmNsZV9tYXJrZXJfMWMzYzliZjQ0Nzk5NDc2Yjg0ZTMzMzJjM2I0ZTc1YmQgPSBMLmNpcmNsZU1hcmtlcigKICAgICAgICAgICAgICAgIFs0My43MTE2OTQ4LCAtNzkuNDE2OTM1NTk5OTk5OTldLAogICAgICAgICAgICAgICAgeyJidWJibGluZ01vdXNlRXZlbnRzIjogdHJ1ZSwgImNvbG9yIjogImJsdWUiLCAiZGFzaEFycmF5IjogbnVsbCwgImRhc2hPZmZzZXQiOiBudWxsLCAiZmlsbCI6IHRydWUsICJmaWxsQ29sb3IiOiAiIzMxODZjYyIsICJmaWxsT3BhY2l0eSI6IDAuNywgImZpbGxSdWxlIjogImV2ZW5vZGQiLCAibGluZUNhcCI6ICJyb3VuZCIsICJsaW5lSm9pbiI6ICJyb3VuZCIsICJvcGFjaXR5IjogMS4wLCAicmFkaXVzIjogNSwgInN0cm9rZSI6IHRydWUsICJ3ZWlnaHQiOiAzfQogICAgICAgICAgICApLmFkZFRvKG1hcF83YmMyYWU2ODMyN2E0YzQ2OWRiZjE2ZGU0ZTk1MGMyNik7CiAgICAgICAgCiAgICAKICAgICAgICB2YXIgcG9wdXBfMGRkZmZjMTI0OWYyNDljMmI3ZDJiZWMxNzgyYjFjOTMgPSBMLnBvcHVwKHsibWF4V2lkdGgiOiAiMTAwJSJ9KTsKCiAgICAgICAgCiAgICAgICAgICAgIHZhciBodG1sXzJlNmUyNzZmOTQwYzQ0YWJiNjc0Y2VhNzE3NDQyNDFlID0gJChgPGRpdiBpZD0iaHRtbF8yZTZlMjc2Zjk0MGM0NGFiYjY3NGNlYTcxNzQ0MjQxZSIgc3R5bGU9IndpZHRoOiAxMDAuMCU7IGhlaWdodDogMTAwLjAlOyI+Um9zZWxhd24sIENlbnRyYWwgVG9yb250bzwvZGl2PmApWzBdOwogICAgICAgICAgICBwb3B1cF8wZGRmZmMxMjQ5ZjI0OWMyYjdkMmJlYzE3ODJiMWM5My5zZXRDb250ZW50KGh0bWxfMmU2ZTI3NmY5NDBjNDRhYmI2NzRjZWE3MTc0NDI0MWUpOwogICAgICAgIAoKICAgICAgICBjaXJjbGVfbWFya2VyXzFjM2M5YmY0NDc5OTQ3NmI4NGUzMzMyYzNiNGU3NWJkLmJpbmRQb3B1cChwb3B1cF8wZGRmZmMxMjQ5ZjI0OWMyYjdkMmJlYzE3ODJiMWM5MykKICAgICAgICA7CgogICAgICAgIAogICAgCiAgICAKICAgICAgICAgICAgdmFyIGNpcmNsZV9tYXJrZXJfYjA2OWNjYWFlN2VhNGQ2ZTkzM2JkMDRhZDc1MGNhZmIgPSBMLmNpcmNsZU1hcmtlcigKICAgICAgICAgICAgICAgIFs0My42NzMxODUyOTk5OTk5OSwgLTc5LjQ4NzI2MTkwMDAwMDAxXSwKICAgICAgICAgICAgICAgIHsiYnViYmxpbmdNb3VzZUV2ZW50cyI6IHRydWUsICJjb2xvciI6ICJibHVlIiwgImRhc2hBcnJheSI6IG51bGwsICJkYXNoT2Zmc2V0IjogbnVsbCwgImZpbGwiOiB0cnVlLCAiZmlsbENvbG9yIjogIiMzMTg2Y2MiLCAiZmlsbE9wYWNpdHkiOiAwLjcsICJmaWxsUnVsZSI6ICJldmVub2RkIiwgImxpbmVDYXAiOiAicm91bmQiLCAibGluZUpvaW4iOiAicm91bmQiLCAib3BhY2l0eSI6IDEuMCwgInJhZGl1cyI6IDUsICJzdHJva2UiOiB0cnVlLCAid2VpZ2h0IjogM30KICAgICAgICAgICAgKS5hZGRUbyhtYXBfN2JjMmFlNjgzMjdhNGM0NjlkYmYxNmRlNGU5NTBjMjYpOwogICAgICAgIAogICAgCiAgICAgICAgdmFyIHBvcHVwX2RmNTIyODM4OTlhNDQ1NWY5M2JlNWQ3ZTZiMGRmOTA3ID0gTC5wb3B1cCh7Im1heFdpZHRoIjogIjEwMCUifSk7CgogICAgICAgIAogICAgICAgICAgICB2YXIgaHRtbF85NTZkYzUzYTczM2I0ODZiYTMzYTM2YWVlN2U1Yzc4ZiA9ICQoYDxkaXYgaWQ9Imh0bWxfOTU2ZGM1M2E3MzNiNDg2YmEzM2EzNmFlZTdlNWM3OGYiIHN0eWxlPSJ3aWR0aDogMTAwLjAlOyBoZWlnaHQ6IDEwMC4wJTsiPlJ1bm55bWVkZSwgVGhlIEp1bmN0aW9uIE5vcnRoLCBZb3JrPC9kaXY+YClbMF07CiAgICAgICAgICAgIHBvcHVwX2RmNTIyODM4OTlhNDQ1NWY5M2JlNWQ3ZTZiMGRmOTA3LnNldENvbnRlbnQoaHRtbF85NTZkYzUzYTczM2I0ODZiYTMzYTM2YWVlN2U1Yzc4Zik7CiAgICAgICAgCgogICAgICAgIGNpcmNsZV9tYXJrZXJfYjA2OWNjYWFlN2VhNGQ2ZTkzM2JkMDRhZDc1MGNhZmIuYmluZFBvcHVwKHBvcHVwX2RmNTIyODM4OTlhNDQ1NWY5M2JlNWQ3ZTZiMGRmOTA3KQogICAgICAgIDsKCiAgICAgICAgCiAgICAKICAgIAogICAgICAgICAgICB2YXIgY2lyY2xlX21hcmtlcl82OTFhZDliMTliYWY0M2NlYTdiN2UxYzliNmIxZmFmZSA9IEwuY2lyY2xlTWFya2VyKAogICAgICAgICAgICAgICAgWzQzLjcwNjg3NiwgLTc5LjUxODE4ODQwMDAwMDAxXSwKICAgICAgICAgICAgICAgIHsiYnViYmxpbmdNb3VzZUV2ZW50cyI6IHRydWUsICJjb2xvciI6ICJibHVlIiwgImRhc2hBcnJheSI6IG51bGwsICJkYXNoT2Zmc2V0IjogbnVsbCwgImZpbGwiOiB0cnVlLCAiZmlsbENvbG9yIjogIiMzMTg2Y2MiLCAiZmlsbE9wYWNpdHkiOiAwLjcsICJmaWxsUnVsZSI6ICJldmVub2RkIiwgImxpbmVDYXAiOiAicm91bmQiLCAibGluZUpvaW4iOiAicm91bmQiLCAib3BhY2l0eSI6IDEuMCwgInJhZGl1cyI6IDUsICJzdHJva2UiOiB0cnVlLCAid2VpZ2h0IjogM30KICAgICAgICAgICAgKS5hZGRUbyhtYXBfN2JjMmFlNjgzMjdhNGM0NjlkYmYxNmRlNGU5NTBjMjYpOwogICAgICAgIAogICAgCiAgICAgICAgdmFyIHBvcHVwX2UyMWRmNWVjYTBiYTQxYTQ5ZTk3MzhhYmNhZjI2ZTBmID0gTC5wb3B1cCh7Im1heFdpZHRoIjogIjEwMCUifSk7CgogICAgICAgIAogICAgICAgICAgICB2YXIgaHRtbF82YzVkNzFjMzVlNWQ0ZjdkOTg0MTQzNDhlYTMwZGRkNCA9ICQoYDxkaXYgaWQ9Imh0bWxfNmM1ZDcxYzM1ZTVkNGY3ZDk4NDE0MzQ4ZWEzMGRkZDQiIHN0eWxlPSJ3aWR0aDogMTAwLjAlOyBoZWlnaHQ6IDEwMC4wJTsiPldlc3RvbiwgWW9yazwvZGl2PmApWzBdOwogICAgICAgICAgICBwb3B1cF9lMjFkZjVlY2EwYmE0MWE0OWU5NzM4YWJjYWYyNmUwZi5zZXRDb250ZW50KGh0bWxfNmM1ZDcxYzM1ZTVkNGY3ZDk4NDE0MzQ4ZWEzMGRkZDQpOwogICAgICAgIAoKICAgICAgICBjaXJjbGVfbWFya2VyXzY5MWFkOWIxOWJhZjQzY2VhN2I3ZTFjOWI2YjFmYWZlLmJpbmRQb3B1cChwb3B1cF9lMjFkZjVlY2EwYmE0MWE0OWU5NzM4YWJjYWYyNmUwZikKICAgICAgICA7CgogICAgICAgIAogICAgCiAgICAKICAgICAgICAgICAgdmFyIGNpcmNsZV9tYXJrZXJfMzJiMDI1ZTRkYzFmNGY4ZTkzOTZiMWU3NDE2OTYzNmYgPSBMLmNpcmNsZU1hcmtlcigKICAgICAgICAgICAgICAgIFs0My43NTc0MDk2LCAtNzkuMjczMzA0MDAwMDAwMDFdLAogICAgICAgICAgICAgICAgeyJidWJibGluZ01vdXNlRXZlbnRzIjogdHJ1ZSwgImNvbG9yIjogImJsdWUiLCAiZGFzaEFycmF5IjogbnVsbCwgImRhc2hPZmZzZXQiOiBudWxsLCAiZmlsbCI6IHRydWUsICJmaWxsQ29sb3IiOiAiIzMxODZjYyIsICJmaWxsT3BhY2l0eSI6IDAuNywgImZpbGxSdWxlIjogImV2ZW5vZGQiLCAibGluZUNhcCI6ICJyb3VuZCIsICJsaW5lSm9pbiI6ICJyb3VuZCIsICJvcGFjaXR5IjogMS4wLCAicmFkaXVzIjogNSwgInN0cm9rZSI6IHRydWUsICJ3ZWlnaHQiOiAzfQogICAgICAgICAgICApLmFkZFRvKG1hcF83YmMyYWU2ODMyN2E0YzQ2OWRiZjE2ZGU0ZTk1MGMyNik7CiAgICAgICAgCiAgICAKICAgICAgICB2YXIgcG9wdXBfNjM2NGVkMjY5MDIzNGUwMThkNjk2NjE4ZTM1NmUyYWMgPSBMLnBvcHVwKHsibWF4V2lkdGgiOiAiMTAwJSJ9KTsKCiAgICAgICAgCiAgICAgICAgICAgIHZhciBodG1sXzU5MGI3NmRmMzlhNTQ4MjI4YzcwMzZkYWViNmU1ZDM2ID0gJChgPGRpdiBpZD0iaHRtbF81OTBiNzZkZjM5YTU0ODIyOGM3MDM2ZGFlYjZlNWQzNiIgc3R5bGU9IndpZHRoOiAxMDAuMCU7IGhlaWdodDogMTAwLjAlOyI+RG9yc2V0IFBhcmssIFdleGZvcmQgSGVpZ2h0cywgU2NhcmJvcm91Z2ggVG93biBDZW50cmUsIFNjYXJib3JvdWdoPC9kaXY+YClbMF07CiAgICAgICAgICAgIHBvcHVwXzYzNjRlZDI2OTAyMzRlMDE4ZDY5NjYxOGUzNTZlMmFjLnNldENvbnRlbnQoaHRtbF81OTBiNzZkZjM5YTU0ODIyOGM3MDM2ZGFlYjZlNWQzNik7CiAgICAgICAgCgogICAgICAgIGNpcmNsZV9tYXJrZXJfMzJiMDI1ZTRkYzFmNGY4ZTkzOTZiMWU3NDE2OTYzNmYuYmluZFBvcHVwKHBvcHVwXzYzNjRlZDI2OTAyMzRlMDE4ZDY5NjYxOGUzNTZlMmFjKQogICAgICAgIDsKCiAgICAgICAgCiAgICAKICAgIAogICAgICAgICAgICB2YXIgY2lyY2xlX21hcmtlcl9hNGJhNjcxZjFmNmE0ZWExOTQ4NTk3MjZmMmEzMGZiYiA9IEwuY2lyY2xlTWFya2VyKAogICAgICAgICAgICAgICAgWzQzLjc1Mjc1ODI5OTk5OTk5NiwgLTc5LjQwMDA0OTNdLAogICAgICAgICAgICAgICAgeyJidWJibGluZ01vdXNlRXZlbnRzIjogdHJ1ZSwgImNvbG9yIjogImJsdWUiLCAiZGFzaEFycmF5IjogbnVsbCwgImRhc2hPZmZzZXQiOiBudWxsLCAiZmlsbCI6IHRydWUsICJmaWxsQ29sb3IiOiAiIzMxODZjYyIsICJmaWxsT3BhY2l0eSI6IDAuNywgImZpbGxSdWxlIjogImV2ZW5vZGQiLCAibGluZUNhcCI6ICJyb3VuZCIsICJsaW5lSm9pbiI6ICJyb3VuZCIsICJvcGFjaXR5IjogMS4wLCAicmFkaXVzIjogNSwgInN0cm9rZSI6IHRydWUsICJ3ZWlnaHQiOiAzfQogICAgICAgICAgICApLmFkZFRvKG1hcF83YmMyYWU2ODMyN2E0YzQ2OWRiZjE2ZGU0ZTk1MGMyNik7CiAgICAgICAgCiAgICAKICAgICAgICB2YXIgcG9wdXBfY2I0YjdmZDRjYzBiNDA0NWE3ZjViZTFlMTY2OTAxYTAgPSBMLnBvcHVwKHsibWF4V2lkdGgiOiAiMTAwJSJ9KTsKCiAgICAgICAgCiAgICAgICAgICAgIHZhciBodG1sX2UwYmViZTgwNzY3MjQ4Zjc5MGRlYjY5ZDE0YjNhYTNkID0gJChgPGRpdiBpZD0iaHRtbF9lMGJlYmU4MDc2NzI0OGY3OTBkZWI2OWQxNGIzYWEzZCIgc3R5bGU9IndpZHRoOiAxMDAuMCU7IGhlaWdodDogMTAwLjAlOyI+WW9yayBNaWxscyBXZXN0LCBOb3J0aCBZb3JrPC9kaXY+YClbMF07CiAgICAgICAgICAgIHBvcHVwX2NiNGI3ZmQ0Y2MwYjQwNDVhN2Y1YmUxZTE2NjkwMWEwLnNldENvbnRlbnQoaHRtbF9lMGJlYmU4MDc2NzI0OGY3OTBkZWI2OWQxNGIzYWEzZCk7CiAgICAgICAgCgogICAgICAgIGNpcmNsZV9tYXJrZXJfYTRiYTY3MWYxZjZhNGVhMTk0ODU5NzI2ZjJhMzBmYmIuYmluZFBvcHVwKHBvcHVwX2NiNGI3ZmQ0Y2MwYjQwNDVhN2Y1YmUxZTE2NjkwMWEwKQogICAgICAgIDsKCiAgICAgICAgCiAgICAKICAgIAogICAgICAgICAgICB2YXIgY2lyY2xlX21hcmtlcl9lNjkyNWY2NzRjYWE0NGM3YjVlNjVkZTVlZDE1YWRkYyA9IEwuY2lyY2xlTWFya2VyKAogICAgICAgICAgICAgICAgWzQzLjcxMjc1MTEsIC03OS4zOTAxOTc1XSwKICAgICAgICAgICAgICAgIHsiYnViYmxpbmdNb3VzZUV2ZW50cyI6IHRydWUsICJjb2xvciI6ICJibHVlIiwgImRhc2hBcnJheSI6IG51bGwsICJkYXNoT2Zmc2V0IjogbnVsbCwgImZpbGwiOiB0cnVlLCAiZmlsbENvbG9yIjogIiMzMTg2Y2MiLCAiZmlsbE9wYWNpdHkiOiAwLjcsICJmaWxsUnVsZSI6ICJldmVub2RkIiwgImxpbmVDYXAiOiAicm91bmQiLCAibGluZUpvaW4iOiAicm91bmQiLCAib3BhY2l0eSI6IDEuMCwgInJhZGl1cyI6IDUsICJzdHJva2UiOiB0cnVlLCAid2VpZ2h0IjogM30KICAgICAgICAgICAgKS5hZGRUbyhtYXBfN2JjMmFlNjgzMjdhNGM0NjlkYmYxNmRlNGU5NTBjMjYpOwogICAgICAgIAogICAgCiAgICAgICAgdmFyIHBvcHVwXzI3OTFmNWYzYmRhZjRmZGU5NzY0NmNjMzk2MWM3Yjk5ID0gTC5wb3B1cCh7Im1heFdpZHRoIjogIjEwMCUifSk7CgogICAgICAgIAogICAgICAgICAgICB2YXIgaHRtbF8xYTQwNDJkMWZiN2U0OTIzOTJkMzk3ODEwYjc1YzhmMSA9ICQoYDxkaXYgaWQ9Imh0bWxfMWE0MDQyZDFmYjdlNDkyMzkyZDM5NzgxMGI3NWM4ZjEiIHN0eWxlPSJ3aWR0aDogMTAwLjAlOyBoZWlnaHQ6IDEwMC4wJTsiPkRhdmlzdmlsbGUgTm9ydGgsIENlbnRyYWwgVG9yb250bzwvZGl2PmApWzBdOwogICAgICAgICAgICBwb3B1cF8yNzkxZjVmM2JkYWY0ZmRlOTc2NDZjYzM5NjFjN2I5OS5zZXRDb250ZW50KGh0bWxfMWE0MDQyZDFmYjdlNDkyMzkyZDM5NzgxMGI3NWM4ZjEpOwogICAgICAgIAoKICAgICAgICBjaXJjbGVfbWFya2VyX2U2OTI1ZjY3NGNhYTQ0YzdiNWU2NWRlNWVkMTVhZGRjLmJpbmRQb3B1cChwb3B1cF8yNzkxZjVmM2JkYWY0ZmRlOTc2NDZjYzM5NjFjN2I5OSkKICAgICAgICA7CgogICAgICAgIAogICAgCiAgICAKICAgICAgICAgICAgdmFyIGNpcmNsZV9tYXJrZXJfOGYxZjI0YTkxYzZmNDhkYmJlMzczMjEzMTg5MGZkYmMgPSBMLmNpcmNsZU1hcmtlcigKICAgICAgICAgICAgICAgIFs0My42OTY5NDc2LCAtNzkuNDExMzA3MjAwMDAwMDFdLAogICAgICAgICAgICAgICAgeyJidWJibGluZ01vdXNlRXZlbnRzIjogdHJ1ZSwgImNvbG9yIjogImJsdWUiLCAiZGFzaEFycmF5IjogbnVsbCwgImRhc2hPZmZzZXQiOiBudWxsLCAiZmlsbCI6IHRydWUsICJmaWxsQ29sb3IiOiAiIzMxODZjYyIsICJmaWxsT3BhY2l0eSI6IDAuNywgImZpbGxSdWxlIjogImV2ZW5vZGQiLCAibGluZUNhcCI6ICJyb3VuZCIsICJsaW5lSm9pbiI6ICJyb3VuZCIsICJvcGFjaXR5IjogMS4wLCAicmFkaXVzIjogNSwgInN0cm9rZSI6IHRydWUsICJ3ZWlnaHQiOiAzfQogICAgICAgICAgICApLmFkZFRvKG1hcF83YmMyYWU2ODMyN2E0YzQ2OWRiZjE2ZGU0ZTk1MGMyNik7CiAgICAgICAgCiAgICAKICAgICAgICB2YXIgcG9wdXBfZjQzNWM2MDgzYTM4NDhjMDkwMjQzZjViYzFiNzJmZDQgPSBMLnBvcHVwKHsibWF4V2lkdGgiOiAiMTAwJSJ9KTsKCiAgICAgICAgCiAgICAgICAgICAgIHZhciBodG1sXzFlOGI1ODc4OGU2NjQ0YzY5YTM5OTljNDQwZjIxNjc2ID0gJChgPGRpdiBpZD0iaHRtbF8xZThiNTg3ODhlNjY0NGM2OWEzOTk5YzQ0MGYyMTY3NiIgc3R5bGU9IndpZHRoOiAxMDAuMCU7IGhlaWdodDogMTAwLjAlOyI+Rm9yZXN0IEhpbGwgTm9ydGggJmFtcDsgV2VzdCwgQ2VudHJhbCBUb3JvbnRvPC9kaXY+YClbMF07CiAgICAgICAgICAgIHBvcHVwX2Y0MzVjNjA4M2EzODQ4YzA5MDI0M2Y1YmMxYjcyZmQ0LnNldENvbnRlbnQoaHRtbF8xZThiNTg3ODhlNjY0NGM2OWEzOTk5YzQ0MGYyMTY3Nik7CiAgICAgICAgCgogICAgICAgIGNpcmNsZV9tYXJrZXJfOGYxZjI0YTkxYzZmNDhkYmJlMzczMjEzMTg5MGZkYmMuYmluZFBvcHVwKHBvcHVwX2Y0MzVjNjA4M2EzODQ4YzA5MDI0M2Y1YmMxYjcyZmQ0KQogICAgICAgIDsKCiAgICAgICAgCiAgICAKICAgIAogICAgICAgICAgICB2YXIgY2lyY2xlX21hcmtlcl8wMDdhZDFhNjU3MWI0MjcxYTM5ODQxZDM4NGIxYWNkNiA9IEwuY2lyY2xlTWFya2VyKAogICAgICAgICAgICAgICAgWzQzLjY2MTYwODMsIC03OS40NjQ3NjMyOTk5OTk5OV0sCiAgICAgICAgICAgICAgICB7ImJ1YmJsaW5nTW91c2VFdmVudHMiOiB0cnVlLCAiY29sb3IiOiAiYmx1ZSIsICJkYXNoQXJyYXkiOiBudWxsLCAiZGFzaE9mZnNldCI6IG51bGwsICJmaWxsIjogdHJ1ZSwgImZpbGxDb2xvciI6ICIjMzE4NmNjIiwgImZpbGxPcGFjaXR5IjogMC43LCAiZmlsbFJ1bGUiOiAiZXZlbm9kZCIsICJsaW5lQ2FwIjogInJvdW5kIiwgImxpbmVKb2luIjogInJvdW5kIiwgIm9wYWNpdHkiOiAxLjAsICJyYWRpdXMiOiA1LCAic3Ryb2tlIjogdHJ1ZSwgIndlaWdodCI6IDN9CiAgICAgICAgICAgICkuYWRkVG8obWFwXzdiYzJhZTY4MzI3YTRjNDY5ZGJmMTZkZTRlOTUwYzI2KTsKICAgICAgICAKICAgIAogICAgICAgIHZhciBwb3B1cF8wNjNhMDcwYWY4MWY0ODg1YWE1MTFjODExZmUwMjZhMCA9IEwucG9wdXAoeyJtYXhXaWR0aCI6ICIxMDAlIn0pOwoKICAgICAgICAKICAgICAgICAgICAgdmFyIGh0bWxfOGYzMDE0MGQ0MzcyNDcwZGE4YjNhYjJhZDBkODNhNjAgPSAkKGA8ZGl2IGlkPSJodG1sXzhmMzAxNDBkNDM3MjQ3MGRhOGIzYWIyYWQwZDgzYTYwIiBzdHlsZT0id2lkdGg6IDEwMC4wJTsgaGVpZ2h0OiAxMDAuMCU7Ij5IaWdoIFBhcmssIFRoZSBKdW5jdGlvbiBTb3V0aCwgV2VzdCBUb3JvbnRvPC9kaXY+YClbMF07CiAgICAgICAgICAgIHBvcHVwXzA2M2EwNzBhZjgxZjQ4ODVhYTUxMWM4MTFmZTAyNmEwLnNldENvbnRlbnQoaHRtbF84ZjMwMTQwZDQzNzI0NzBkYThiM2FiMmFkMGQ4M2E2MCk7CiAgICAgICAgCgogICAgICAgIGNpcmNsZV9tYXJrZXJfMDA3YWQxYTY1NzFiNDI3MWEzOTg0MWQzODRiMWFjZDYuYmluZFBvcHVwKHBvcHVwXzA2M2EwNzBhZjgxZjQ4ODVhYTUxMWM4MTFmZTAyNmEwKQogICAgICAgIDsKCiAgICAgICAgCiAgICAKICAgIAogICAgICAgICAgICB2YXIgY2lyY2xlX21hcmtlcl9kNDYxYTM3N2E1ZjM0MTIyOWE2OTlhYTk3MWVjN2E1ZSA9IEwuY2lyY2xlTWFya2VyKAogICAgICAgICAgICAgICAgWzQzLjY5NjMxOSwgLTc5LjUzMjI0MjQwMDAwMDAyXSwKICAgICAgICAgICAgICAgIHsiYnViYmxpbmdNb3VzZUV2ZW50cyI6IHRydWUsICJjb2xvciI6ICJibHVlIiwgImRhc2hBcnJheSI6IG51bGwsICJkYXNoT2Zmc2V0IjogbnVsbCwgImZpbGwiOiB0cnVlLCAiZmlsbENvbG9yIjogIiMzMTg2Y2MiLCAiZmlsbE9wYWNpdHkiOiAwLjcsICJmaWxsUnVsZSI6ICJldmVub2RkIiwgImxpbmVDYXAiOiAicm91bmQiLCAibGluZUpvaW4iOiAicm91bmQiLCAib3BhY2l0eSI6IDEuMCwgInJhZGl1cyI6IDUsICJzdHJva2UiOiB0cnVlLCAid2VpZ2h0IjogM30KICAgICAgICAgICAgKS5hZGRUbyhtYXBfN2JjMmFlNjgzMjdhNGM0NjlkYmYxNmRlNGU5NTBjMjYpOwogICAgICAgIAogICAgCiAgICAgICAgdmFyIHBvcHVwX2ZhODM0MTBhOWY5NTQyNGZiMTQxOGU4M2M1YmE1NWZmID0gTC5wb3B1cCh7Im1heFdpZHRoIjogIjEwMCUifSk7CgogICAgICAgIAogICAgICAgICAgICB2YXIgaHRtbF85NjNlZTA0YWUyMjE0ZmViODU2MjU2YjA2NWI3ZmQ2MSA9ICQoYDxkaXYgaWQ9Imh0bWxfOTYzZWUwNGFlMjIxNGZlYjg1NjI1NmIwNjViN2ZkNjEiIHN0eWxlPSJ3aWR0aDogMTAwLjAlOyBoZWlnaHQ6IDEwMC4wJTsiPldlc3Rtb3VudCwgRXRvYmljb2tlPC9kaXY+YClbMF07CiAgICAgICAgICAgIHBvcHVwX2ZhODM0MTBhOWY5NTQyNGZiMTQxOGU4M2M1YmE1NWZmLnNldENvbnRlbnQoaHRtbF85NjNlZTA0YWUyMjE0ZmViODU2MjU2YjA2NWI3ZmQ2MSk7CiAgICAgICAgCgogICAgICAgIGNpcmNsZV9tYXJrZXJfZDQ2MWEzNzdhNWYzNDEyMjlhNjk5YWE5NzFlYzdhNWUuYmluZFBvcHVwKHBvcHVwX2ZhODM0MTBhOWY5NTQyNGZiMTQxOGU4M2M1YmE1NWZmKQogICAgICAgIDsKCiAgICAgICAgCiAgICAKICAgIAogICAgICAgICAgICB2YXIgY2lyY2xlX21hcmtlcl82MDZmY2IxMzI2NmI0NWFmYTUzNWVmMjIxMzc5ZWUzMiA9IEwuY2lyY2xlTWFya2VyKAogICAgICAgICAgICAgICAgWzQzLjc1MDA3MTUwMDAwMDAwNCwgLTc5LjI5NTg0OTFdLAogICAgICAgICAgICAgICAgeyJidWJibGluZ01vdXNlRXZlbnRzIjogdHJ1ZSwgImNvbG9yIjogImJsdWUiLCAiZGFzaEFycmF5IjogbnVsbCwgImRhc2hPZmZzZXQiOiBudWxsLCAiZmlsbCI6IHRydWUsICJmaWxsQ29sb3IiOiAiIzMxODZjYyIsICJmaWxsT3BhY2l0eSI6IDAuNywgImZpbGxSdWxlIjogImV2ZW5vZGQiLCAibGluZUNhcCI6ICJyb3VuZCIsICJsaW5lSm9pbiI6ICJyb3VuZCIsICJvcGFjaXR5IjogMS4wLCAicmFkaXVzIjogNSwgInN0cm9rZSI6IHRydWUsICJ3ZWlnaHQiOiAzfQogICAgICAgICAgICApLmFkZFRvKG1hcF83YmMyYWU2ODMyN2E0YzQ2OWRiZjE2ZGU0ZTk1MGMyNik7CiAgICAgICAgCiAgICAKICAgICAgICB2YXIgcG9wdXBfOGIzNTllYzFjYWNhNDRlNTkyZjA3MTQzY2Y4ZTc2NmUgPSBMLnBvcHVwKHsibWF4V2lkdGgiOiAiMTAwJSJ9KTsKCiAgICAgICAgCiAgICAgICAgICAgIHZhciBodG1sXzkwMWQ2OGI5YTMwMTQwNmE4M2YyNjJlZmY1OWJiMTllID0gJChgPGRpdiBpZD0iaHRtbF85MDFkNjhiOWEzMDE0MDZhODNmMjYyZWZmNTliYjE5ZSIgc3R5bGU9IndpZHRoOiAxMDAuMCU7IGhlaWdodDogMTAwLjAlOyI+V2V4Zm9yZCwgTWFyeXZhbGUsIFNjYXJib3JvdWdoPC9kaXY+YClbMF07CiAgICAgICAgICAgIHBvcHVwXzhiMzU5ZWMxY2FjYTQ0ZTU5MmYwNzE0M2NmOGU3NjZlLnNldENvbnRlbnQoaHRtbF85MDFkNjhiOWEzMDE0MDZhODNmMjYyZWZmNTliYjE5ZSk7CiAgICAgICAgCgogICAgICAgIGNpcmNsZV9tYXJrZXJfNjA2ZmNiMTMyNjZiNDVhZmE1MzVlZjIyMTM3OWVlMzIuYmluZFBvcHVwKHBvcHVwXzhiMzU5ZWMxY2FjYTQ0ZTU5MmYwNzE0M2NmOGU3NjZlKQogICAgICAgIDsKCiAgICAgICAgCiAgICAKICAgIAogICAgICAgICAgICB2YXIgY2lyY2xlX21hcmtlcl9jNDEyZThmOTM5ZGQ0YzlmYTRmNmI1YjA1MTA3ZjgwYyA9IEwuY2lyY2xlTWFya2VyKAogICAgICAgICAgICAgICAgWzQzLjc4MjczNjQsIC03OS40NDIyNTkzXSwKICAgICAgICAgICAgICAgIHsiYnViYmxpbmdNb3VzZUV2ZW50cyI6IHRydWUsICJjb2xvciI6ICJibHVlIiwgImRhc2hBcnJheSI6IG51bGwsICJkYXNoT2Zmc2V0IjogbnVsbCwgImZpbGwiOiB0cnVlLCAiZmlsbENvbG9yIjogIiMzMTg2Y2MiLCAiZmlsbE9wYWNpdHkiOiAwLjcsICJmaWxsUnVsZSI6ICJldmVub2RkIiwgImxpbmVDYXAiOiAicm91bmQiLCAibGluZUpvaW4iOiAicm91bmQiLCAib3BhY2l0eSI6IDEuMCwgInJhZGl1cyI6IDUsICJzdHJva2UiOiB0cnVlLCAid2VpZ2h0IjogM30KICAgICAgICAgICAgKS5hZGRUbyhtYXBfN2JjMmFlNjgzMjdhNGM0NjlkYmYxNmRlNGU5NTBjMjYpOwogICAgICAgIAogICAgCiAgICAgICAgdmFyIHBvcHVwXzk3NTdjNGEzMzUzODQwNTFhNTEzMDdhYWYzYzY1ZWQ4ID0gTC5wb3B1cCh7Im1heFdpZHRoIjogIjEwMCUifSk7CgogICAgICAgIAogICAgICAgICAgICB2YXIgaHRtbF82ZWJhZjFjMWU1ODU0MzdkOTUwNmJlZjBiNTE1ZDg3YyA9ICQoYDxkaXYgaWQ9Imh0bWxfNmViYWYxYzFlNTg1NDM3ZDk1MDZiZWYwYjUxNWQ4N2MiIHN0eWxlPSJ3aWR0aDogMTAwLjAlOyBoZWlnaHQ6IDEwMC4wJTsiPldpbGxvd2RhbGUsIE5vcnRoIFlvcms8L2Rpdj5gKVswXTsKICAgICAgICAgICAgcG9wdXBfOTc1N2M0YTMzNTM4NDA1MWE1MTMwN2FhZjNjNjVlZDguc2V0Q29udGVudChodG1sXzZlYmFmMWMxZTU4NTQzN2Q5NTA2YmVmMGI1MTVkODdjKTsKICAgICAgICAKCiAgICAgICAgY2lyY2xlX21hcmtlcl9jNDEyZThmOTM5ZGQ0YzlmYTRmNmI1YjA1MTA3ZjgwYy5iaW5kUG9wdXAocG9wdXBfOTc1N2M0YTMzNTM4NDA1MWE1MTMwN2FhZjNjNjVlZDgpCiAgICAgICAgOwoKICAgICAgICAKICAgIAogICAgCiAgICAgICAgICAgIHZhciBjaXJjbGVfbWFya2VyXzIzMWMwNmJjNzNkZDRhMzliYzJjOTAwNWZiNzk3MzkyID0gTC5jaXJjbGVNYXJrZXIoCiAgICAgICAgICAgICAgICBbNDMuNzE1MzgzNCwgLTc5LjQwNTY3ODQwMDAwMDAxXSwKICAgICAgICAgICAgICAgIHsiYnViYmxpbmdNb3VzZUV2ZW50cyI6IHRydWUsICJjb2xvciI6ICJibHVlIiwgImRhc2hBcnJheSI6IG51bGwsICJkYXNoT2Zmc2V0IjogbnVsbCwgImZpbGwiOiB0cnVlLCAiZmlsbENvbG9yIjogIiMzMTg2Y2MiLCAiZmlsbE9wYWNpdHkiOiAwLjcsICJmaWxsUnVsZSI6ICJldmVub2RkIiwgImxpbmVDYXAiOiAicm91bmQiLCAibGluZUpvaW4iOiAicm91bmQiLCAib3BhY2l0eSI6IDEuMCwgInJhZGl1cyI6IDUsICJzdHJva2UiOiB0cnVlLCAid2VpZ2h0IjogM30KICAgICAgICAgICAgKS5hZGRUbyhtYXBfN2JjMmFlNjgzMjdhNGM0NjlkYmYxNmRlNGU5NTBjMjYpOwogICAgICAgIAogICAgCiAgICAgICAgdmFyIHBvcHVwXzNhNTNkZjE5MjBmYjQyOGRhMGIwODYyOTUyNzAwZjIwID0gTC5wb3B1cCh7Im1heFdpZHRoIjogIjEwMCUifSk7CgogICAgICAgIAogICAgICAgICAgICB2YXIgaHRtbF8zM2ZjNDRkYzE5OTg0M2QxOGU5N2Y0NzYyNzExNmE0ZCA9ICQoYDxkaXYgaWQ9Imh0bWxfMzNmYzQ0ZGMxOTk4NDNkMThlOTdmNDc2MjcxMTZhNGQiIHN0eWxlPSJ3aWR0aDogMTAwLjAlOyBoZWlnaHQ6IDEwMC4wJTsiPk5vcnRoIFRvcm9udG8gV2VzdCwgQ2VudHJhbCBUb3JvbnRvPC9kaXY+YClbMF07CiAgICAgICAgICAgIHBvcHVwXzNhNTNkZjE5MjBmYjQyOGRhMGIwODYyOTUyNzAwZjIwLnNldENvbnRlbnQoaHRtbF8zM2ZjNDRkYzE5OTg0M2QxOGU5N2Y0NzYyNzExNmE0ZCk7CiAgICAgICAgCgogICAgICAgIGNpcmNsZV9tYXJrZXJfMjMxYzA2YmM3M2RkNGEzOWJjMmM5MDA1ZmI3OTczOTIuYmluZFBvcHVwKHBvcHVwXzNhNTNkZjE5MjBmYjQyOGRhMGIwODYyOTUyNzAwZjIwKQogICAgICAgIDsKCiAgICAgICAgCiAgICAKICAgIAogICAgICAgICAgICB2YXIgY2lyY2xlX21hcmtlcl9hNTUxMTAyMGI4ZDE0ODNlODNjMmI0ZmE1NjA4ZjY3YSA9IEwuY2lyY2xlTWFya2VyKAogICAgICAgICAgICAgICAgWzQzLjY3MjcwOTcsIC03OS40MDU2Nzg0MDAwMDAwMV0sCiAgICAgICAgICAgICAgICB7ImJ1YmJsaW5nTW91c2VFdmVudHMiOiB0cnVlLCAiY29sb3IiOiAiYmx1ZSIsICJkYXNoQXJyYXkiOiBudWxsLCAiZGFzaE9mZnNldCI6IG51bGwsICJmaWxsIjogdHJ1ZSwgImZpbGxDb2xvciI6ICIjMzE4NmNjIiwgImZpbGxPcGFjaXR5IjogMC43LCAiZmlsbFJ1bGUiOiAiZXZlbm9kZCIsICJsaW5lQ2FwIjogInJvdW5kIiwgImxpbmVKb2luIjogInJvdW5kIiwgIm9wYWNpdHkiOiAxLjAsICJyYWRpdXMiOiA1LCAic3Ryb2tlIjogdHJ1ZSwgIndlaWdodCI6IDN9CiAgICAgICAgICAgICkuYWRkVG8obWFwXzdiYzJhZTY4MzI3YTRjNDY5ZGJmMTZkZTRlOTUwYzI2KTsKICAgICAgICAKICAgIAogICAgICAgIHZhciBwb3B1cF83Y2UxMTVmMmZiNzU0NjlhYTQ1OGEwMzRhOTU0OTRkNCA9IEwucG9wdXAoeyJtYXhXaWR0aCI6ICIxMDAlIn0pOwoKICAgICAgICAKICAgICAgICAgICAgdmFyIGh0bWxfOWMxZDRkZmE2MTNiNDc1Mjk2NWExYjUwODUyNTFiYzggPSAkKGA8ZGl2IGlkPSJodG1sXzljMWQ0ZGZhNjEzYjQ3NTI5NjVhMWI1MDg1MjUxYmM4IiBzdHlsZT0id2lkdGg6IDEwMC4wJTsgaGVpZ2h0OiAxMDAuMCU7Ij5UaGUgQW5uZXgsIE5vcnRoIE1pZHRvd24sIFlvcmt2aWxsZSwgQ2VudHJhbCBUb3JvbnRvPC9kaXY+YClbMF07CiAgICAgICAgICAgIHBvcHVwXzdjZTExNWYyZmI3NTQ2OWFhNDU4YTAzNGE5NTQ5NGQ0LnNldENvbnRlbnQoaHRtbF85YzFkNGRmYTYxM2I0NzUyOTY1YTFiNTA4NTI1MWJjOCk7CiAgICAgICAgCgogICAgICAgIGNpcmNsZV9tYXJrZXJfYTU1MTEwMjBiOGQxNDgzZTgzYzJiNGZhNTYwOGY2N2EuYmluZFBvcHVwKHBvcHVwXzdjZTExNWYyZmI3NTQ2OWFhNDU4YTAzNGE5NTQ5NGQ0KQogICAgICAgIDsKCiAgICAgICAgCiAgICAKICAgIAogICAgICAgICAgICB2YXIgY2lyY2xlX21hcmtlcl9jM2E4ZmYyY2RlNTQ0OTBlYTY4YWQ3OTAyNWQ1MWE2NyA9IEwuY2lyY2xlTWFya2VyKAogICAgICAgICAgICAgICAgWzQzLjY0ODk1OTcsIC03OS40NTYzMjVdLAogICAgICAgICAgICAgICAgeyJidWJibGluZ01vdXNlRXZlbnRzIjogdHJ1ZSwgImNvbG9yIjogImJsdWUiLCAiZGFzaEFycmF5IjogbnVsbCwgImRhc2hPZmZzZXQiOiBudWxsLCAiZmlsbCI6IHRydWUsICJmaWxsQ29sb3IiOiAiIzMxODZjYyIsICJmaWxsT3BhY2l0eSI6IDAuNywgImZpbGxSdWxlIjogImV2ZW5vZGQiLCAibGluZUNhcCI6ICJyb3VuZCIsICJsaW5lSm9pbiI6ICJyb3VuZCIsICJvcGFjaXR5IjogMS4wLCAicmFkaXVzIjogNSwgInN0cm9rZSI6IHRydWUsICJ3ZWlnaHQiOiAzfQogICAgICAgICAgICApLmFkZFRvKG1hcF83YmMyYWU2ODMyN2E0YzQ2OWRiZjE2ZGU0ZTk1MGMyNik7CiAgICAgICAgCiAgICAKICAgICAgICB2YXIgcG9wdXBfZGIxNTJlYWJhZTk1NDUwYzliNGU0YjEzYjhhODQ3OTQgPSBMLnBvcHVwKHsibWF4V2lkdGgiOiAiMTAwJSJ9KTsKCiAgICAgICAgCiAgICAgICAgICAgIHZhciBodG1sXzFlOTg1MmUzZDk2OTQ1MWFhMzc2ZDU0ZjBlOWUwMmFkID0gJChgPGRpdiBpZD0iaHRtbF8xZTk4NTJlM2Q5Njk0NTFhYTM3NmQ1NGYwZTllMDJhZCIgc3R5bGU9IndpZHRoOiAxMDAuMCU7IGhlaWdodDogMTAwLjAlOyI+UGFya2RhbGUsIFJvbmNlc3ZhbGxlcywgV2VzdCBUb3JvbnRvPC9kaXY+YClbMF07CiAgICAgICAgICAgIHBvcHVwX2RiMTUyZWFiYWU5NTQ1MGM5YjRlNGIxM2I4YTg0Nzk0LnNldENvbnRlbnQoaHRtbF8xZTk4NTJlM2Q5Njk0NTFhYTM3NmQ1NGYwZTllMDJhZCk7CiAgICAgICAgCgogICAgICAgIGNpcmNsZV9tYXJrZXJfYzNhOGZmMmNkZTU0NDkwZWE2OGFkNzkwMjVkNTFhNjcuYmluZFBvcHVwKHBvcHVwX2RiMTUyZWFiYWU5NTQ1MGM5YjRlNGIxM2I4YTg0Nzk0KQogICAgICAgIDsKCiAgICAgICAgCiAgICAKICAgIAogICAgICAgICAgICB2YXIgY2lyY2xlX21hcmtlcl9iYTMzNTBlOTU5YmE0MTI4Yjg2YTMyYmJlYWIzMzczNCA9IEwuY2lyY2xlTWFya2VyKAogICAgICAgICAgICAgICAgWzQzLjYzNjk2NTYsIC03OS42MTU4MTg5OTk5OTk5OV0sCiAgICAgICAgICAgICAgICB7ImJ1YmJsaW5nTW91c2VFdmVudHMiOiB0cnVlLCAiY29sb3IiOiAiYmx1ZSIsICJkYXNoQXJyYXkiOiBudWxsLCAiZGFzaE9mZnNldCI6IG51bGwsICJmaWxsIjogdHJ1ZSwgImZpbGxDb2xvciI6ICIjMzE4NmNjIiwgImZpbGxPcGFjaXR5IjogMC43LCAiZmlsbFJ1bGUiOiAiZXZlbm9kZCIsICJsaW5lQ2FwIjogInJvdW5kIiwgImxpbmVKb2luIjogInJvdW5kIiwgIm9wYWNpdHkiOiAxLjAsICJyYWRpdXMiOiA1LCAic3Ryb2tlIjogdHJ1ZSwgIndlaWdodCI6IDN9CiAgICAgICAgICAgICkuYWRkVG8obWFwXzdiYzJhZTY4MzI3YTRjNDY5ZGJmMTZkZTRlOTUwYzI2KTsKICAgICAgICAKICAgIAogICAgICAgIHZhciBwb3B1cF9mMThiMjY3YTZiNjk0OWNlYTNlNzJlMzMyNjYxYTFiZCA9IEwucG9wdXAoeyJtYXhXaWR0aCI6ICIxMDAlIn0pOwoKICAgICAgICAKICAgICAgICAgICAgdmFyIGh0bWxfNTYyM2IzOTc3ZjM3NDVjODk3YzI1YWY1ZDYwMjJkYjQgPSAkKGA8ZGl2IGlkPSJodG1sXzU2MjNiMzk3N2YzNzQ1Yzg5N2MyNWFmNWQ2MDIyZGI0IiBzdHlsZT0id2lkdGg6IDEwMC4wJTsgaGVpZ2h0OiAxMDAuMCU7Ij5DYW5hZGEgUG9zdCBHYXRld2F5IFByb2Nlc3NpbmcgQ2VudHJlLCBNaXNzaXNzYXVnYTwvZGl2PmApWzBdOwogICAgICAgICAgICBwb3B1cF9mMThiMjY3YTZiNjk0OWNlYTNlNzJlMzMyNjYxYTFiZC5zZXRDb250ZW50KGh0bWxfNTYyM2IzOTc3ZjM3NDVjODk3YzI1YWY1ZDYwMjJkYjQpOwogICAgICAgIAoKICAgICAgICBjaXJjbGVfbWFya2VyX2JhMzM1MGU5NTliYTQxMjhiODZhMzJiYmVhYjMzNzM0LmJpbmRQb3B1cChwb3B1cF9mMThiMjY3YTZiNjk0OWNlYTNlNzJlMzMyNjYxYTFiZCkKICAgICAgICA7CgogICAgICAgIAogICAgCiAgICAKICAgICAgICAgICAgdmFyIGNpcmNsZV9tYXJrZXJfNTljZjg0ZmRlMDdlNGQ2Yzg4YWVmYjIwZjFmNTJhOTggPSBMLmNpcmNsZU1hcmtlcigKICAgICAgICAgICAgICAgIFs0My42ODg5MDU0LCAtNzkuNTU0NzI0NDAwMDAwMDFdLAogICAgICAgICAgICAgICAgeyJidWJibGluZ01vdXNlRXZlbnRzIjogdHJ1ZSwgImNvbG9yIjogImJsdWUiLCAiZGFzaEFycmF5IjogbnVsbCwgImRhc2hPZmZzZXQiOiBudWxsLCAiZmlsbCI6IHRydWUsICJmaWxsQ29sb3IiOiAiIzMxODZjYyIsICJmaWxsT3BhY2l0eSI6IDAuNywgImZpbGxSdWxlIjogImV2ZW5vZGQiLCAibGluZUNhcCI6ICJyb3VuZCIsICJsaW5lSm9pbiI6ICJyb3VuZCIsICJvcGFjaXR5IjogMS4wLCAicmFkaXVzIjogNSwgInN0cm9rZSI6IHRydWUsICJ3ZWlnaHQiOiAzfQogICAgICAgICAgICApLmFkZFRvKG1hcF83YmMyYWU2ODMyN2E0YzQ2OWRiZjE2ZGU0ZTk1MGMyNik7CiAgICAgICAgCiAgICAKICAgICAgICB2YXIgcG9wdXBfMmMzODMwOTI4NDY4NDYyMDgzNGVmZWIwZjM3YWE1ZGQgPSBMLnBvcHVwKHsibWF4V2lkdGgiOiAiMTAwJSJ9KTsKCiAgICAgICAgCiAgICAgICAgICAgIHZhciBodG1sX2RkMDUxZWJlMjM5NjRiODRiMjI5NDViMjkyOTc0OTZlID0gJChgPGRpdiBpZD0iaHRtbF9kZDA1MWViZTIzOTY0Yjg0YjIyOTQ1YjI5Mjk3NDk2ZSIgc3R5bGU9IndpZHRoOiAxMDAuMCU7IGhlaWdodDogMTAwLjAlOyI+S2luZ3N2aWV3IFZpbGxhZ2UsIFN0LiBQaGlsbGlwcywgTWFydGluIEdyb3ZlIEdhcmRlbnMsIFJpY2h2aWV3IEdhcmRlbnMsIEV0b2JpY29rZTwvZGl2PmApWzBdOwogICAgICAgICAgICBwb3B1cF8yYzM4MzA5Mjg0Njg0NjIwODM0ZWZlYjBmMzdhYTVkZC5zZXRDb250ZW50KGh0bWxfZGQwNTFlYmUyMzk2NGI4NGIyMjk0NWIyOTI5NzQ5NmUpOwogICAgICAgIAoKICAgICAgICBjaXJjbGVfbWFya2VyXzU5Y2Y4NGZkZTA3ZTRkNmM4OGFlZmIyMGYxZjUyYTk4LmJpbmRQb3B1cChwb3B1cF8yYzM4MzA5Mjg0Njg0NjIwODM0ZWZlYjBmMzdhYTVkZCkKICAgICAgICA7CgogICAgICAgIAogICAgCiAgICAKICAgICAgICAgICAgdmFyIGNpcmNsZV9tYXJrZXJfZWEzYzQ4NWU2ODAzNDA5ZjlkMzU3NWQ4MjQ4YTNjNDcgPSBMLmNpcmNsZU1hcmtlcigKICAgICAgICAgICAgICAgIFs0My43OTQyMDAzLCAtNzkuMjYyMDI5NDAwMDAwMDJdLAogICAgICAgICAgICAgICAgeyJidWJibGluZ01vdXNlRXZlbnRzIjogdHJ1ZSwgImNvbG9yIjogImJsdWUiLCAiZGFzaEFycmF5IjogbnVsbCwgImRhc2hPZmZzZXQiOiBudWxsLCAiZmlsbCI6IHRydWUsICJmaWxsQ29sb3IiOiAiIzMxODZjYyIsICJmaWxsT3BhY2l0eSI6IDAuNywgImZpbGxSdWxlIjogImV2ZW5vZGQiLCAibGluZUNhcCI6ICJyb3VuZCIsICJsaW5lSm9pbiI6ICJyb3VuZCIsICJvcGFjaXR5IjogMS4wLCAicmFkaXVzIjogNSwgInN0cm9rZSI6IHRydWUsICJ3ZWlnaHQiOiAzfQogICAgICAgICAgICApLmFkZFRvKG1hcF83YmMyYWU2ODMyN2E0YzQ2OWRiZjE2ZGU0ZTk1MGMyNik7CiAgICAgICAgCiAgICAKICAgICAgICB2YXIgcG9wdXBfOTVkNjAwNzI0NmRjNDVmNDg0YTQ2OTU5NjVjNDRkOGUgPSBMLnBvcHVwKHsibWF4V2lkdGgiOiAiMTAwJSJ9KTsKCiAgICAgICAgCiAgICAgICAgICAgIHZhciBodG1sX2Q1ODZhNDkxMjQ3NzRiNWJhYTE1NTI3ODUzOTYxZjQxID0gJChgPGRpdiBpZD0iaHRtbF9kNTg2YTQ5MTI0Nzc0YjViYWExNTUyNzg1Mzk2MWY0MSIgc3R5bGU9IndpZHRoOiAxMDAuMCU7IGhlaWdodDogMTAwLjAlOyI+QWdpbmNvdXJ0LCBTY2FyYm9yb3VnaDwvZGl2PmApWzBdOwogICAgICAgICAgICBwb3B1cF85NWQ2MDA3MjQ2ZGM0NWY0ODRhNDY5NTk2NWM0NGQ4ZS5zZXRDb250ZW50KGh0bWxfZDU4NmE0OTEyNDc3NGI1YmFhMTU1Mjc4NTM5NjFmNDEpOwogICAgICAgIAoKICAgICAgICBjaXJjbGVfbWFya2VyX2VhM2M0ODVlNjgwMzQwOWY5ZDM1NzVkODI0OGEzYzQ3LmJpbmRQb3B1cChwb3B1cF85NWQ2MDA3MjQ2ZGM0NWY0ODRhNDY5NTk2NWM0NGQ4ZSkKICAgICAgICA7CgogICAgICAgIAogICAgCiAgICAKICAgICAgICAgICAgdmFyIGNpcmNsZV9tYXJrZXJfNzA1ZTA5MzBlZWZiNDE1NGI2ZmQwYjdhYzg3NWMwMjcgPSBMLmNpcmNsZU1hcmtlcigKICAgICAgICAgICAgICAgIFs0My43MDQzMjQ0LCAtNzkuMzg4NzkwMV0sCiAgICAgICAgICAgICAgICB7ImJ1YmJsaW5nTW91c2VFdmVudHMiOiB0cnVlLCAiY29sb3IiOiAiYmx1ZSIsICJkYXNoQXJyYXkiOiBudWxsLCAiZGFzaE9mZnNldCI6IG51bGwsICJmaWxsIjogdHJ1ZSwgImZpbGxDb2xvciI6ICIjMzE4NmNjIiwgImZpbGxPcGFjaXR5IjogMC43LCAiZmlsbFJ1bGUiOiAiZXZlbm9kZCIsICJsaW5lQ2FwIjogInJvdW5kIiwgImxpbmVKb2luIjogInJvdW5kIiwgIm9wYWNpdHkiOiAxLjAsICJyYWRpdXMiOiA1LCAic3Ryb2tlIjogdHJ1ZSwgIndlaWdodCI6IDN9CiAgICAgICAgICAgICkuYWRkVG8obWFwXzdiYzJhZTY4MzI3YTRjNDY5ZGJmMTZkZTRlOTUwYzI2KTsKICAgICAgICAKICAgIAogICAgICAgIHZhciBwb3B1cF83NGYzZDNiODFlOWM0MGU2OTg0Y2NhOTdmNmE2NzU4OCA9IEwucG9wdXAoeyJtYXhXaWR0aCI6ICIxMDAlIn0pOwoKICAgICAgICAKICAgICAgICAgICAgdmFyIGh0bWxfZGJlZmViNTdlMjk5NDY2M2IwYTM2MDJmZjBlOTA1MDggPSAkKGA8ZGl2IGlkPSJodG1sX2RiZWZlYjU3ZTI5OTQ2NjNiMGEzNjAyZmYwZTkwNTA4IiBzdHlsZT0id2lkdGg6IDEwMC4wJTsgaGVpZ2h0OiAxMDAuMCU7Ij5EYXZpc3ZpbGxlLCBDZW50cmFsIFRvcm9udG88L2Rpdj5gKVswXTsKICAgICAgICAgICAgcG9wdXBfNzRmM2QzYjgxZTljNDBlNjk4NGNjYTk3ZjZhNjc1ODguc2V0Q29udGVudChodG1sX2RiZWZlYjU3ZTI5OTQ2NjNiMGEzNjAyZmYwZTkwNTA4KTsKICAgICAgICAKCiAgICAgICAgY2lyY2xlX21hcmtlcl83MDVlMDkzMGVlZmI0MTU0YjZmZDBiN2FjODc1YzAyNy5iaW5kUG9wdXAocG9wdXBfNzRmM2QzYjgxZTljNDBlNjk4NGNjYTk3ZjZhNjc1ODgpCiAgICAgICAgOwoKICAgICAgICAKICAgIAogICAgCiAgICAgICAgICAgIHZhciBjaXJjbGVfbWFya2VyXzQyMDU1NDRjMjdlODQ1YTdhZjlkMGFhNDM5MjBjNTQ1ID0gTC5jaXJjbGVNYXJrZXIoCiAgICAgICAgICAgICAgICBbNDMuNjYyNjk1NiwgLTc5LjQwMDA0OTNdLAogICAgICAgICAgICAgICAgeyJidWJibGluZ01vdXNlRXZlbnRzIjogdHJ1ZSwgImNvbG9yIjogImJsdWUiLCAiZGFzaEFycmF5IjogbnVsbCwgImRhc2hPZmZzZXQiOiBudWxsLCAiZmlsbCI6IHRydWUsICJmaWxsQ29sb3IiOiAiIzMxODZjYyIsICJmaWxsT3BhY2l0eSI6IDAuNywgImZpbGxSdWxlIjogImV2ZW5vZGQiLCAibGluZUNhcCI6ICJyb3VuZCIsICJsaW5lSm9pbiI6ICJyb3VuZCIsICJvcGFjaXR5IjogMS4wLCAicmFkaXVzIjogNSwgInN0cm9rZSI6IHRydWUsICJ3ZWlnaHQiOiAzfQogICAgICAgICAgICApLmFkZFRvKG1hcF83YmMyYWU2ODMyN2E0YzQ2OWRiZjE2ZGU0ZTk1MGMyNik7CiAgICAgICAgCiAgICAKICAgICAgICB2YXIgcG9wdXBfOGIzODFiNDNjY2FlNGNkYmEyZjVhMWQ3NDJiMmQ2NTkgPSBMLnBvcHVwKHsibWF4V2lkdGgiOiAiMTAwJSJ9KTsKCiAgICAgICAgCiAgICAgICAgICAgIHZhciBodG1sX2UxMjg3ZmY1YzM2MjRlMzI4ZjA4NjBlNzczYWFiNDZkID0gJChgPGRpdiBpZD0iaHRtbF9lMTI4N2ZmNWMzNjI0ZTMyOGYwODYwZTc3M2FhYjQ2ZCIgc3R5bGU9IndpZHRoOiAxMDAuMCU7IGhlaWdodDogMTAwLjAlOyI+VW5pdmVyc2l0eSBvZiBUb3JvbnRvLCBIYXJib3JkLCBEb3dudG93biBUb3JvbnRvPC9kaXY+YClbMF07CiAgICAgICAgICAgIHBvcHVwXzhiMzgxYjQzY2NhZTRjZGJhMmY1YTFkNzQyYjJkNjU5LnNldENvbnRlbnQoaHRtbF9lMTI4N2ZmNWMzNjI0ZTMyOGYwODYwZTc3M2FhYjQ2ZCk7CiAgICAgICAgCgogICAgICAgIGNpcmNsZV9tYXJrZXJfNDIwNTU0NGMyN2U4NDVhN2FmOWQwYWE0MzkyMGM1NDUuYmluZFBvcHVwKHBvcHVwXzhiMzgxYjQzY2NhZTRjZGJhMmY1YTFkNzQyYjJkNjU5KQogICAgICAgIDsKCiAgICAgICAgCiAgICAKICAgIAogICAgICAgICAgICB2YXIgY2lyY2xlX21hcmtlcl9iODg1ZDdlY2UyNDE0YmMxYjNjNDY4ZmFhOTU5MjliMSA9IEwuY2lyY2xlTWFya2VyKAogICAgICAgICAgICAgICAgWzQzLjY1MTU3MDYsIC03OS40ODQ0NDk5XSwKICAgICAgICAgICAgICAgIHsiYnViYmxpbmdNb3VzZUV2ZW50cyI6IHRydWUsICJjb2xvciI6ICJibHVlIiwgImRhc2hBcnJheSI6IG51bGwsICJkYXNoT2Zmc2V0IjogbnVsbCwgImZpbGwiOiB0cnVlLCAiZmlsbENvbG9yIjogIiMzMTg2Y2MiLCAiZmlsbE9wYWNpdHkiOiAwLjcsICJmaWxsUnVsZSI6ICJldmVub2RkIiwgImxpbmVDYXAiOiAicm91bmQiLCAibGluZUpvaW4iOiAicm91bmQiLCAib3BhY2l0eSI6IDEuMCwgInJhZGl1cyI6IDUsICJzdHJva2UiOiB0cnVlLCAid2VpZ2h0IjogM30KICAgICAgICAgICAgKS5hZGRUbyhtYXBfN2JjMmFlNjgzMjdhNGM0NjlkYmYxNmRlNGU5NTBjMjYpOwogICAgICAgIAogICAgCiAgICAgICAgdmFyIHBvcHVwXzhhZTA4OGM4MWQ1MTRkNDI4OWY1YTcwNWUwZDQxYWZhID0gTC5wb3B1cCh7Im1heFdpZHRoIjogIjEwMCUifSk7CgogICAgICAgIAogICAgICAgICAgICB2YXIgaHRtbF8zM2ZiYjZhYmU0YTE0YjJlOGQwNGU4YTcxYTI4ZTMxNiA9ICQoYDxkaXYgaWQ9Imh0bWxfMzNmYmI2YWJlNGExNGIyZThkMDRlOGE3MWEyOGUzMTYiIHN0eWxlPSJ3aWR0aDogMTAwLjAlOyBoZWlnaHQ6IDEwMC4wJTsiPlJ1bm55bWVkZSwgU3dhbnNlYSwgV2VzdCBUb3JvbnRvPC9kaXY+YClbMF07CiAgICAgICAgICAgIHBvcHVwXzhhZTA4OGM4MWQ1MTRkNDI4OWY1YTcwNWUwZDQxYWZhLnNldENvbnRlbnQoaHRtbF8zM2ZiYjZhYmU0YTE0YjJlOGQwNGU4YTcxYTI4ZTMxNik7CiAgICAgICAgCgogICAgICAgIGNpcmNsZV9tYXJrZXJfYjg4NWQ3ZWNlMjQxNGJjMWIzYzQ2OGZhYTk1OTI5YjEuYmluZFBvcHVwKHBvcHVwXzhhZTA4OGM4MWQ1MTRkNDI4OWY1YTcwNWUwZDQxYWZhKQogICAgICAgIDsKCiAgICAgICAgCiAgICAKICAgIAogICAgICAgICAgICB2YXIgY2lyY2xlX21hcmtlcl9iMGVlMTJlMzI2NzM0ZDUyYjNmN2EyMzI5MjY0ZTM0MyA9IEwuY2lyY2xlTWFya2VyKAogICAgICAgICAgICAgICAgWzQzLjc4MTYzNzUsIC03OS4zMDQzMDIxXSwKICAgICAgICAgICAgICAgIHsiYnViYmxpbmdNb3VzZUV2ZW50cyI6IHRydWUsICJjb2xvciI6ICJibHVlIiwgImRhc2hBcnJheSI6IG51bGwsICJkYXNoT2Zmc2V0IjogbnVsbCwgImZpbGwiOiB0cnVlLCAiZmlsbENvbG9yIjogIiMzMTg2Y2MiLCAiZmlsbE9wYWNpdHkiOiAwLjcsICJmaWxsUnVsZSI6ICJldmVub2RkIiwgImxpbmVDYXAiOiAicm91bmQiLCAibGluZUpvaW4iOiAicm91bmQiLCAib3BhY2l0eSI6IDEuMCwgInJhZGl1cyI6IDUsICJzdHJva2UiOiB0cnVlLCAid2VpZ2h0IjogM30KICAgICAgICAgICAgKS5hZGRUbyhtYXBfN2JjMmFlNjgzMjdhNGM0NjlkYmYxNmRlNGU5NTBjMjYpOwogICAgICAgIAogICAgCiAgICAgICAgdmFyIHBvcHVwXzMxZWE0ODI0ZmJhYzQ2NjRiMzE3YTAxYTJhNGY5ZjBjID0gTC5wb3B1cCh7Im1heFdpZHRoIjogIjEwMCUifSk7CgogICAgICAgIAogICAgICAgICAgICB2YXIgaHRtbF80MTg5YjFlNmI3YTk0ZWJhYThmMGRkNzg4OTk1OGZjYyA9ICQoYDxkaXYgaWQ9Imh0bWxfNDE4OWIxZTZiN2E5NGViYWE4ZjBkZDc4ODk5NThmY2MiIHN0eWxlPSJ3aWR0aDogMTAwLjAlOyBoZWlnaHQ6IDEwMC4wJTsiPkNsYXJrcyBDb3JuZXJzLCBUYW0gTyYjMzk7U2hhbnRlciwgU3VsbGl2YW4sIFNjYXJib3JvdWdoPC9kaXY+YClbMF07CiAgICAgICAgICAgIHBvcHVwXzMxZWE0ODI0ZmJhYzQ2NjRiMzE3YTAxYTJhNGY5ZjBjLnNldENvbnRlbnQoaHRtbF80MTg5YjFlNmI3YTk0ZWJhYThmMGRkNzg4OTk1OGZjYyk7CiAgICAgICAgCgogICAgICAgIGNpcmNsZV9tYXJrZXJfYjBlZTEyZTMyNjczNGQ1MmIzZjdhMjMyOTI2NGUzNDMuYmluZFBvcHVwKHBvcHVwXzMxZWE0ODI0ZmJhYzQ2NjRiMzE3YTAxYTJhNGY5ZjBjKQogICAgICAgIDsKCiAgICAgICAgCiAgICAKICAgIAogICAgICAgICAgICB2YXIgY2lyY2xlX21hcmtlcl80NTg2OWI5ODNlYjA0YWIzODVmMDhmZTYxZTI0NzRjMCA9IEwuY2lyY2xlTWFya2VyKAogICAgICAgICAgICAgICAgWzQzLjY4OTU3NDMsIC03OS4zODMxNTk5MDAwMDAwMV0sCiAgICAgICAgICAgICAgICB7ImJ1YmJsaW5nTW91c2VFdmVudHMiOiB0cnVlLCAiY29sb3IiOiAiYmx1ZSIsICJkYXNoQXJyYXkiOiBudWxsLCAiZGFzaE9mZnNldCI6IG51bGwsICJmaWxsIjogdHJ1ZSwgImZpbGxDb2xvciI6ICIjMzE4NmNjIiwgImZpbGxPcGFjaXR5IjogMC43LCAiZmlsbFJ1bGUiOiAiZXZlbm9kZCIsICJsaW5lQ2FwIjogInJvdW5kIiwgImxpbmVKb2luIjogInJvdW5kIiwgIm9wYWNpdHkiOiAxLjAsICJyYWRpdXMiOiA1LCAic3Ryb2tlIjogdHJ1ZSwgIndlaWdodCI6IDN9CiAgICAgICAgICAgICkuYWRkVG8obWFwXzdiYzJhZTY4MzI3YTRjNDY5ZGJmMTZkZTRlOTUwYzI2KTsKICAgICAgICAKICAgIAogICAgICAgIHZhciBwb3B1cF8yMzU4MzE5ZThiNWI0MjdmOGUxZTA2OGI0Y2QzNzdkZiA9IEwucG9wdXAoeyJtYXhXaWR0aCI6ICIxMDAlIn0pOwoKICAgICAgICAKICAgICAgICAgICAgdmFyIGh0bWxfMDY5NjYzYjQxNjkxNDU3YWI3ZWJjM2Y4YmQ3MjgzOTkgPSAkKGA8ZGl2IGlkPSJodG1sXzA2OTY2M2I0MTY5MTQ1N2FiN2ViYzNmOGJkNzI4Mzk5IiBzdHlsZT0id2lkdGg6IDEwMC4wJTsgaGVpZ2h0OiAxMDAuMCU7Ij5Nb29yZSBQYXJrLCBTdW1tZXJoaWxsIEVhc3QsIENlbnRyYWwgVG9yb250bzwvZGl2PmApWzBdOwogICAgICAgICAgICBwb3B1cF8yMzU4MzE5ZThiNWI0MjdmOGUxZTA2OGI0Y2QzNzdkZi5zZXRDb250ZW50KGh0bWxfMDY5NjYzYjQxNjkxNDU3YWI3ZWJjM2Y4YmQ3MjgzOTkpOwogICAgICAgIAoKICAgICAgICBjaXJjbGVfbWFya2VyXzQ1ODY5Yjk4M2ViMDRhYjM4NWYwOGZlNjFlMjQ3NGMwLmJpbmRQb3B1cChwb3B1cF8yMzU4MzE5ZThiNWI0MjdmOGUxZTA2OGI0Y2QzNzdkZikKICAgICAgICA7CgogICAgICAgIAogICAgCiAgICAKICAgICAgICAgICAgdmFyIGNpcmNsZV9tYXJrZXJfMWEwMDExNDQ2NjQxNDY4MThiYzc1NzRhMTE0Mjk2MGUgPSBMLmNpcmNsZU1hcmtlcigKICAgICAgICAgICAgICAgIFs0My42NTMyMDU3LCAtNzkuNDAwMDQ5M10sCiAgICAgICAgICAgICAgICB7ImJ1YmJsaW5nTW91c2VFdmVudHMiOiB0cnVlLCAiY29sb3IiOiAiYmx1ZSIsICJkYXNoQXJyYXkiOiBudWxsLCAiZGFzaE9mZnNldCI6IG51bGwsICJmaWxsIjogdHJ1ZSwgImZpbGxDb2xvciI6ICIjMzE4NmNjIiwgImZpbGxPcGFjaXR5IjogMC43LCAiZmlsbFJ1bGUiOiAiZXZlbm9kZCIsICJsaW5lQ2FwIjogInJvdW5kIiwgImxpbmVKb2luIjogInJvdW5kIiwgIm9wYWNpdHkiOiAxLjAsICJyYWRpdXMiOiA1LCAic3Ryb2tlIjogdHJ1ZSwgIndlaWdodCI6IDN9CiAgICAgICAgICAgICkuYWRkVG8obWFwXzdiYzJhZTY4MzI3YTRjNDY5ZGJmMTZkZTRlOTUwYzI2KTsKICAgICAgICAKICAgIAogICAgICAgIHZhciBwb3B1cF8xNTRmNjNjMWQxNzA0YzZlOTgzZjZjNmExNTc4NjRjYSA9IEwucG9wdXAoeyJtYXhXaWR0aCI6ICIxMDAlIn0pOwoKICAgICAgICAKICAgICAgICAgICAgdmFyIGh0bWxfODdkYTg0ODczMDRkNGIwNDg0NTdiOTI3NzhmNjYzZmQgPSAkKGA8ZGl2IGlkPSJodG1sXzg3ZGE4NDg3MzA0ZDRiMDQ4NDU3YjkyNzc4ZjY2M2ZkIiBzdHlsZT0id2lkdGg6IDEwMC4wJTsgaGVpZ2h0OiAxMDAuMCU7Ij5LZW5zaW5ndG9uIE1hcmtldCwgQ2hpbmF0b3duLCBHcmFuZ2UgUGFyaywgRG93bnRvd24gVG9yb250bzwvZGl2PmApWzBdOwogICAgICAgICAgICBwb3B1cF8xNTRmNjNjMWQxNzA0YzZlOTgzZjZjNmExNTc4NjRjYS5zZXRDb250ZW50KGh0bWxfODdkYTg0ODczMDRkNGIwNDg0NTdiOTI3NzhmNjYzZmQpOwogICAgICAgIAoKICAgICAgICBjaXJjbGVfbWFya2VyXzFhMDAxMTQ0NjY0MTQ2ODE4YmM3NTc0YTExNDI5NjBlLmJpbmRQb3B1cChwb3B1cF8xNTRmNjNjMWQxNzA0YzZlOTgzZjZjNmExNTc4NjRjYSkKICAgICAgICA7CgogICAgICAgIAogICAgCiAgICAKICAgICAgICAgICAgdmFyIGNpcmNsZV9tYXJrZXJfMTM3MmYzZjgzNTE2NDdiZDk3NzRjMTE0ODIyYjA3ZmYgPSBMLmNpcmNsZU1hcmtlcigKICAgICAgICAgICAgICAgIFs0My44MTUyNTIyLCAtNzkuMjg0NTc3Ml0sCiAgICAgICAgICAgICAgICB7ImJ1YmJsaW5nTW91c2VFdmVudHMiOiB0cnVlLCAiY29sb3IiOiAiYmx1ZSIsICJkYXNoQXJyYXkiOiBudWxsLCAiZGFzaE9mZnNldCI6IG51bGwsICJmaWxsIjogdHJ1ZSwgImZpbGxDb2xvciI6ICIjMzE4NmNjIiwgImZpbGxPcGFjaXR5IjogMC43LCAiZmlsbFJ1bGUiOiAiZXZlbm9kZCIsICJsaW5lQ2FwIjogInJvdW5kIiwgImxpbmVKb2luIjogInJvdW5kIiwgIm9wYWNpdHkiOiAxLjAsICJyYWRpdXMiOiA1LCAic3Ryb2tlIjogdHJ1ZSwgIndlaWdodCI6IDN9CiAgICAgICAgICAgICkuYWRkVG8obWFwXzdiYzJhZTY4MzI3YTRjNDY5ZGJmMTZkZTRlOTUwYzI2KTsKICAgICAgICAKICAgIAogICAgICAgIHZhciBwb3B1cF82M2JhNjliMjY2YmI0Y2NiOWY4M2M1ZWE4YTVkNjU1YiA9IEwucG9wdXAoeyJtYXhXaWR0aCI6ICIxMDAlIn0pOwoKICAgICAgICAKICAgICAgICAgICAgdmFyIGh0bWxfODdlM2U1MmQ1NTU0NDY5YTg0NzJjNDQ2MzIwZjJiMDMgPSAkKGA8ZGl2IGlkPSJodG1sXzg3ZTNlNTJkNTU1NDQ2OWE4NDcyYzQ0NjMyMGYyYjAzIiBzdHlsZT0id2lkdGg6IDEwMC4wJTsgaGVpZ2h0OiAxMDAuMCU7Ij5NaWxsaWtlbiwgQWdpbmNvdXJ0IE5vcnRoLCBTdGVlbGVzIEVhc3QsIEwmIzM5O0Ftb3JlYXV4IEVhc3QsIFNjYXJib3JvdWdoPC9kaXY+YClbMF07CiAgICAgICAgICAgIHBvcHVwXzYzYmE2OWIyNjZiYjRjY2I5ZjgzYzVlYThhNWQ2NTViLnNldENvbnRlbnQoaHRtbF84N2UzZTUyZDU1NTQ0NjlhODQ3MmM0NDYzMjBmMmIwMyk7CiAgICAgICAgCgogICAgICAgIGNpcmNsZV9tYXJrZXJfMTM3MmYzZjgzNTE2NDdiZDk3NzRjMTE0ODIyYjA3ZmYuYmluZFBvcHVwKHBvcHVwXzYzYmE2OWIyNjZiYjRjY2I5ZjgzYzVlYThhNWQ2NTViKQogICAgICAgIDsKCiAgICAgICAgCiAgICAKICAgIAogICAgICAgICAgICB2YXIgY2lyY2xlX21hcmtlcl80M2JmN2ZjNjY3YmY0NzVmOTUzNjU5MTgwY2E1MTQ2NSA9IEwuY2lyY2xlTWFya2VyKAogICAgICAgICAgICAgICAgWzQzLjY4NjQxMjI5OTk5OTk5LCAtNzkuNDAwMDQ5M10sCiAgICAgICAgICAgICAgICB7ImJ1YmJsaW5nTW91c2VFdmVudHMiOiB0cnVlLCAiY29sb3IiOiAiYmx1ZSIsICJkYXNoQXJyYXkiOiBudWxsLCAiZGFzaE9mZnNldCI6IG51bGwsICJmaWxsIjogdHJ1ZSwgImZpbGxDb2xvciI6ICIjMzE4NmNjIiwgImZpbGxPcGFjaXR5IjogMC43LCAiZmlsbFJ1bGUiOiAiZXZlbm9kZCIsICJsaW5lQ2FwIjogInJvdW5kIiwgImxpbmVKb2luIjogInJvdW5kIiwgIm9wYWNpdHkiOiAxLjAsICJyYWRpdXMiOiA1LCAic3Ryb2tlIjogdHJ1ZSwgIndlaWdodCI6IDN9CiAgICAgICAgICAgICkuYWRkVG8obWFwXzdiYzJhZTY4MzI3YTRjNDY5ZGJmMTZkZTRlOTUwYzI2KTsKICAgICAgICAKICAgIAogICAgICAgIHZhciBwb3B1cF9iY2NlMjVkYjE4OTM0MzBjYTYwMDhmYmEzY2ZmNWU4MyA9IEwucG9wdXAoeyJtYXhXaWR0aCI6ICIxMDAlIn0pOwoKICAgICAgICAKICAgICAgICAgICAgdmFyIGh0bWxfN2U4NGU2YjAzYzA2NDdiNWJhYTBiZDk0MGE1MGEwZWYgPSAkKGA8ZGl2IGlkPSJodG1sXzdlODRlNmIwM2MwNjQ3YjViYWEwYmQ5NDBhNTBhMGVmIiBzdHlsZT0id2lkdGg6IDEwMC4wJTsgaGVpZ2h0OiAxMDAuMCU7Ij5TdW1tZXJoaWxsIFdlc3QsIFJhdGhuZWxseSwgU291dGggSGlsbCwgRm9yZXN0IEhpbGwgU0UsIERlZXIgUGFyaywgQ2VudHJhbCBUb3JvbnRvPC9kaXY+YClbMF07CiAgICAgICAgICAgIHBvcHVwX2JjY2UyNWRiMTg5MzQzMGNhNjAwOGZiYTNjZmY1ZTgzLnNldENvbnRlbnQoaHRtbF83ZTg0ZTZiMDNjMDY0N2I1YmFhMGJkOTQwYTUwYTBlZik7CiAgICAgICAgCgogICAgICAgIGNpcmNsZV9tYXJrZXJfNDNiZjdmYzY2N2JmNDc1Zjk1MzY1OTE4MGNhNTE0NjUuYmluZFBvcHVwKHBvcHVwX2JjY2UyNWRiMTg5MzQzMGNhNjAwOGZiYTNjZmY1ZTgzKQogICAgICAgIDsKCiAgICAgICAgCiAgICAKICAgIAogICAgICAgICAgICB2YXIgY2lyY2xlX21hcmtlcl8wZjI1ODY5NjVjMzk0MWVhYmRhYmNmMzI4OGRjODUwOCA9IEwuY2lyY2xlTWFya2VyKAogICAgICAgICAgICAgICAgWzQzLjYyODk0NjcsIC03OS4zOTQ0MTk5XSwKICAgICAgICAgICAgICAgIHsiYnViYmxpbmdNb3VzZUV2ZW50cyI6IHRydWUsICJjb2xvciI6ICJibHVlIiwgImRhc2hBcnJheSI6IG51bGwsICJkYXNoT2Zmc2V0IjogbnVsbCwgImZpbGwiOiB0cnVlLCAiZmlsbENvbG9yIjogIiMzMTg2Y2MiLCAiZmlsbE9wYWNpdHkiOiAwLjcsICJmaWxsUnVsZSI6ICJldmVub2RkIiwgImxpbmVDYXAiOiAicm91bmQiLCAibGluZUpvaW4iOiAicm91bmQiLCAib3BhY2l0eSI6IDEuMCwgInJhZGl1cyI6IDUsICJzdHJva2UiOiB0cnVlLCAid2VpZ2h0IjogM30KICAgICAgICAgICAgKS5hZGRUbyhtYXBfN2JjMmFlNjgzMjdhNGM0NjlkYmYxNmRlNGU5NTBjMjYpOwogICAgICAgIAogICAgCiAgICAgICAgdmFyIHBvcHVwXzE0MTFmMjAzOTZkMjQwZGQ4MTRmNmQzNWYzMjQ3NTk0ID0gTC5wb3B1cCh7Im1heFdpZHRoIjogIjEwMCUifSk7CgogICAgICAgIAogICAgICAgICAgICB2YXIgaHRtbF80MTE0ZjEzZmFmYjE0M2VkOGQ1YmExNTAxOTg3MTRhYyA9ICQoYDxkaXYgaWQ9Imh0bWxfNDExNGYxM2ZhZmIxNDNlZDhkNWJhMTUwMTk4NzE0YWMiIHN0eWxlPSJ3aWR0aDogMTAwLjAlOyBoZWlnaHQ6IDEwMC4wJTsiPkNOIFRvd2VyLCBLaW5nIGFuZCBTcGFkaW5hLCBSYWlsd2F5IExhbmRzLCBIYXJib3VyZnJvbnQgV2VzdCwgQmF0aHVyc3QgUXVheSwgU291dGggTmlhZ2FyYSwgSXNsYW5kIGFpcnBvcnQsIERvd250b3duIFRvcm9udG88L2Rpdj5gKVswXTsKICAgICAgICAgICAgcG9wdXBfMTQxMWYyMDM5NmQyNDBkZDgxNGY2ZDM1ZjMyNDc1OTQuc2V0Q29udGVudChodG1sXzQxMTRmMTNmYWZiMTQzZWQ4ZDViYTE1MDE5ODcxNGFjKTsKICAgICAgICAKCiAgICAgICAgY2lyY2xlX21hcmtlcl8wZjI1ODY5NjVjMzk0MWVhYmRhYmNmMzI4OGRjODUwOC5iaW5kUG9wdXAocG9wdXBfMTQxMWYyMDM5NmQyNDBkZDgxNGY2ZDM1ZjMyNDc1OTQpCiAgICAgICAgOwoKICAgICAgICAKICAgIAogICAgCiAgICAgICAgICAgIHZhciBjaXJjbGVfbWFya2VyX2I1MWQ4ZjY3ZmU1OTQ1MzI5YzlkZjNiMTRhYWIzODgxID0gTC5jaXJjbGVNYXJrZXIoCiAgICAgICAgICAgICAgICBbNDMuNjA1NjQ2NiwgLTc5LjUwMTMyMDcwMDAwMDAxXSwKICAgICAgICAgICAgICAgIHsiYnViYmxpbmdNb3VzZUV2ZW50cyI6IHRydWUsICJjb2xvciI6ICJibHVlIiwgImRhc2hBcnJheSI6IG51bGwsICJkYXNoT2Zmc2V0IjogbnVsbCwgImZpbGwiOiB0cnVlLCAiZmlsbENvbG9yIjogIiMzMTg2Y2MiLCAiZmlsbE9wYWNpdHkiOiAwLjcsICJmaWxsUnVsZSI6ICJldmVub2RkIiwgImxpbmVDYXAiOiAicm91bmQiLCAibGluZUpvaW4iOiAicm91bmQiLCAib3BhY2l0eSI6IDEuMCwgInJhZGl1cyI6IDUsICJzdHJva2UiOiB0cnVlLCAid2VpZ2h0IjogM30KICAgICAgICAgICAgKS5hZGRUbyhtYXBfN2JjMmFlNjgzMjdhNGM0NjlkYmYxNmRlNGU5NTBjMjYpOwogICAgICAgIAogICAgCiAgICAgICAgdmFyIHBvcHVwXzA4N2E1NmY1MDNiNDQ5NzY5ODM0MWIwYjEwNmFkOGE5ID0gTC5wb3B1cCh7Im1heFdpZHRoIjogIjEwMCUifSk7CgogICAgICAgIAogICAgICAgICAgICB2YXIgaHRtbF8zYjMzZDQ4ZTI4YWI0MDg2OTYzZTRhYjdhYjc0OWY4ZSA9ICQoYDxkaXYgaWQ9Imh0bWxfM2IzM2Q0OGUyOGFiNDA4Njk2M2U0YWI3YWI3NDlmOGUiIHN0eWxlPSJ3aWR0aDogMTAwLjAlOyBoZWlnaHQ6IDEwMC4wJTsiPk5ldyBUb3JvbnRvLCBNaW1pY28gU291dGgsIEh1bWJlciBCYXkgU2hvcmVzLCBFdG9iaWNva2U8L2Rpdj5gKVswXTsKICAgICAgICAgICAgcG9wdXBfMDg3YTU2ZjUwM2I0NDk3Njk4MzQxYjBiMTA2YWQ4YTkuc2V0Q29udGVudChodG1sXzNiMzNkNDhlMjhhYjQwODY5NjNlNGFiN2FiNzQ5ZjhlKTsKICAgICAgICAKCiAgICAgICAgY2lyY2xlX21hcmtlcl9iNTFkOGY2N2ZlNTk0NTMyOWM5ZGYzYjE0YWFiMzg4MS5iaW5kUG9wdXAocG9wdXBfMDg3YTU2ZjUwM2I0NDk3Njk4MzQxYjBiMTA2YWQ4YTkpCiAgICAgICAgOwoKICAgICAgICAKICAgIAogICAgCiAgICAgICAgICAgIHZhciBjaXJjbGVfbWFya2VyX2YyZGI2ZDlhNTZmYzRiZWU4Y2M3ZWY4OTQxZmRkN2UzID0gTC5jaXJjbGVNYXJrZXIoCiAgICAgICAgICAgICAgICBbNDMuNzM5NDE2Mzk5OTk5OTk2LCAtNzkuNTg4NDM2OV0sCiAgICAgICAgICAgICAgICB7ImJ1YmJsaW5nTW91c2VFdmVudHMiOiB0cnVlLCAiY29sb3IiOiAiYmx1ZSIsICJkYXNoQXJyYXkiOiBudWxsLCAiZGFzaE9mZnNldCI6IG51bGwsICJmaWxsIjogdHJ1ZSwgImZpbGxDb2xvciI6ICIjMzE4NmNjIiwgImZpbGxPcGFjaXR5IjogMC43LCAiZmlsbFJ1bGUiOiAiZXZlbm9kZCIsICJsaW5lQ2FwIjogInJvdW5kIiwgImxpbmVKb2luIjogInJvdW5kIiwgIm9wYWNpdHkiOiAxLjAsICJyYWRpdXMiOiA1LCAic3Ryb2tlIjogdHJ1ZSwgIndlaWdodCI6IDN9CiAgICAgICAgICAgICkuYWRkVG8obWFwXzdiYzJhZTY4MzI3YTRjNDY5ZGJmMTZkZTRlOTUwYzI2KTsKICAgICAgICAKICAgIAogICAgICAgIHZhciBwb3B1cF9hMzRhYThiZGIyZmI0MmFmYTY2YWU4NWVkMjA4YTMxYSA9IEwucG9wdXAoeyJtYXhXaWR0aCI6ICIxMDAlIn0pOwoKICAgICAgICAKICAgICAgICAgICAgdmFyIGh0bWxfYzg1ZTE0ZWUwODQ2NGFhMGE5NDQ2ZDgzMTBlYTM5ZTkgPSAkKGA8ZGl2IGlkPSJodG1sX2M4NWUxNGVlMDg0NjRhYTBhOTQ0NmQ4MzEwZWEzOWU5IiBzdHlsZT0id2lkdGg6IDEwMC4wJTsgaGVpZ2h0OiAxMDAuMCU7Ij5Tb3V0aCBTdGVlbGVzLCBTaWx2ZXJzdG9uZSwgSHVtYmVyZ2F0ZSwgSmFtZXN0b3duLCBNb3VudCBPbGl2ZSwgQmVhdW1vbmQgSGVpZ2h0cywgVGhpc3RsZXRvd24sIEFsYmlvbiBHYXJkZW5zLCBFdG9iaWNva2U8L2Rpdj5gKVswXTsKICAgICAgICAgICAgcG9wdXBfYTM0YWE4YmRiMmZiNDJhZmE2NmFlODVlZDIwOGEzMWEuc2V0Q29udGVudChodG1sX2M4NWUxNGVlMDg0NjRhYTBhOTQ0NmQ4MzEwZWEzOWU5KTsKICAgICAgICAKCiAgICAgICAgY2lyY2xlX21hcmtlcl9mMmRiNmQ5YTU2ZmM0YmVlOGNjN2VmODk0MWZkZDdlMy5iaW5kUG9wdXAocG9wdXBfYTM0YWE4YmRiMmZiNDJhZmE2NmFlODVlZDIwOGEzMWEpCiAgICAgICAgOwoKICAgICAgICAKICAgIAogICAgCiAgICAgICAgICAgIHZhciBjaXJjbGVfbWFya2VyXzAxOGFjN2FlNjZkYTQ0NmNhZjczZDg0OTA3M2UzMWU3ID0gTC5jaXJjbGVNYXJrZXIoCiAgICAgICAgICAgICAgICBbNDMuNzk5NTI1MjAwMDAwMDA1LCAtNzkuMzE4Mzg4N10sCiAgICAgICAgICAgICAgICB7ImJ1YmJsaW5nTW91c2VFdmVudHMiOiB0cnVlLCAiY29sb3IiOiAiYmx1ZSIsICJkYXNoQXJyYXkiOiBudWxsLCAiZGFzaE9mZnNldCI6IG51bGwsICJmaWxsIjogdHJ1ZSwgImZpbGxDb2xvciI6ICIjMzE4NmNjIiwgImZpbGxPcGFjaXR5IjogMC43LCAiZmlsbFJ1bGUiOiAiZXZlbm9kZCIsICJsaW5lQ2FwIjogInJvdW5kIiwgImxpbmVKb2luIjogInJvdW5kIiwgIm9wYWNpdHkiOiAxLjAsICJyYWRpdXMiOiA1LCAic3Ryb2tlIjogdHJ1ZSwgIndlaWdodCI6IDN9CiAgICAgICAgICAgICkuYWRkVG8obWFwXzdiYzJhZTY4MzI3YTRjNDY5ZGJmMTZkZTRlOTUwYzI2KTsKICAgICAgICAKICAgIAogICAgICAgIHZhciBwb3B1cF9lZjIwMDBhMmViYWE0MTdkODQyYjJhYjE2ZmRhMTE4MCA9IEwucG9wdXAoeyJtYXhXaWR0aCI6ICIxMDAlIn0pOwoKICAgICAgICAKICAgICAgICAgICAgdmFyIGh0bWxfOGFlZTA4MDkzMWM5NGFiOWI5YzdhNTg4MTA0NTYzNzcgPSAkKGA8ZGl2IGlkPSJodG1sXzhhZWUwODA5MzFjOTRhYjliOWM3YTU4ODEwNDU2Mzc3IiBzdHlsZT0id2lkdGg6IDEwMC4wJTsgaGVpZ2h0OiAxMDAuMCU7Ij5TdGVlbGVzIFdlc3QsIEwmIzM5O0Ftb3JlYXV4IFdlc3QsIFNjYXJib3JvdWdoPC9kaXY+YClbMF07CiAgICAgICAgICAgIHBvcHVwX2VmMjAwMGEyZWJhYTQxN2Q4NDJiMmFiMTZmZGExMTgwLnNldENvbnRlbnQoaHRtbF84YWVlMDgwOTMxYzk0YWI5YjljN2E1ODgxMDQ1NjM3Nyk7CiAgICAgICAgCgogICAgICAgIGNpcmNsZV9tYXJrZXJfMDE4YWM3YWU2NmRhNDQ2Y2FmNzNkODQ5MDczZTMxZTcuYmluZFBvcHVwKHBvcHVwX2VmMjAwMGEyZWJhYTQxN2Q4NDJiMmFiMTZmZGExMTgwKQogICAgICAgIDsKCiAgICAgICAgCiAgICAKICAgIAogICAgICAgICAgICB2YXIgY2lyY2xlX21hcmtlcl9iMWFjNjljOGQ1YzU0ZDI1YjFiNzFiNDg3NTAwNjNmZSA9IEwuY2lyY2xlTWFya2VyKAogICAgICAgICAgICAgICAgWzQzLjY3OTU2MjYsIC03OS4zNzc1Mjk0MDAwMDAwMV0sCiAgICAgICAgICAgICAgICB7ImJ1YmJsaW5nTW91c2VFdmVudHMiOiB0cnVlLCAiY29sb3IiOiAiYmx1ZSIsICJkYXNoQXJyYXkiOiBudWxsLCAiZGFzaE9mZnNldCI6IG51bGwsICJmaWxsIjogdHJ1ZSwgImZpbGxDb2xvciI6ICIjMzE4NmNjIiwgImZpbGxPcGFjaXR5IjogMC43LCAiZmlsbFJ1bGUiOiAiZXZlbm9kZCIsICJsaW5lQ2FwIjogInJvdW5kIiwgImxpbmVKb2luIjogInJvdW5kIiwgIm9wYWNpdHkiOiAxLjAsICJyYWRpdXMiOiA1LCAic3Ryb2tlIjogdHJ1ZSwgIndlaWdodCI6IDN9CiAgICAgICAgICAgICkuYWRkVG8obWFwXzdiYzJhZTY4MzI3YTRjNDY5ZGJmMTZkZTRlOTUwYzI2KTsKICAgICAgICAKICAgIAogICAgICAgIHZhciBwb3B1cF9jYzgzYjlhYTQ0OGQ0OGViOTE3YmQwODQyMWI1NTcyYSA9IEwucG9wdXAoeyJtYXhXaWR0aCI6ICIxMDAlIn0pOwoKICAgICAgICAKICAgICAgICAgICAgdmFyIGh0bWxfOWMxODk2MmRkMDc3NGNkMTg1MzRiYzNiNjA1NTk3NjggPSAkKGA8ZGl2IGlkPSJodG1sXzljMTg5NjJkZDA3NzRjZDE4NTM0YmMzYjYwNTU5NzY4IiBzdHlsZT0id2lkdGg6IDEwMC4wJTsgaGVpZ2h0OiAxMDAuMCU7Ij5Sb3NlZGFsZSwgRG93bnRvd24gVG9yb250bzwvZGl2PmApWzBdOwogICAgICAgICAgICBwb3B1cF9jYzgzYjlhYTQ0OGQ0OGViOTE3YmQwODQyMWI1NTcyYS5zZXRDb250ZW50KGh0bWxfOWMxODk2MmRkMDc3NGNkMTg1MzRiYzNiNjA1NTk3NjgpOwogICAgICAgIAoKICAgICAgICBjaXJjbGVfbWFya2VyX2IxYWM2OWM4ZDVjNTRkMjViMWI3MWI0ODc1MDA2M2ZlLmJpbmRQb3B1cChwb3B1cF9jYzgzYjlhYTQ0OGQ0OGViOTE3YmQwODQyMWI1NTcyYSkKICAgICAgICA7CgogICAgICAgIAogICAgCiAgICAKICAgICAgICAgICAgdmFyIGNpcmNsZV9tYXJrZXJfZTVjMDdmMjM4YmI4NDNkNjljNzQyNjYwZjMxMTNiZDcgPSBMLmNpcmNsZU1hcmtlcigKICAgICAgICAgICAgICAgIFs0My42NDY0MzUyLCAtNzkuMzc0ODQ1OTk5OTk5OTldLAogICAgICAgICAgICAgICAgeyJidWJibGluZ01vdXNlRXZlbnRzIjogdHJ1ZSwgImNvbG9yIjogImJsdWUiLCAiZGFzaEFycmF5IjogbnVsbCwgImRhc2hPZmZzZXQiOiBudWxsLCAiZmlsbCI6IHRydWUsICJmaWxsQ29sb3IiOiAiIzMxODZjYyIsICJmaWxsT3BhY2l0eSI6IDAuNywgImZpbGxSdWxlIjogImV2ZW5vZGQiLCAibGluZUNhcCI6ICJyb3VuZCIsICJsaW5lSm9pbiI6ICJyb3VuZCIsICJvcGFjaXR5IjogMS4wLCAicmFkaXVzIjogNSwgInN0cm9rZSI6IHRydWUsICJ3ZWlnaHQiOiAzfQogICAgICAgICAgICApLmFkZFRvKG1hcF83YmMyYWU2ODMyN2E0YzQ2OWRiZjE2ZGU0ZTk1MGMyNik7CiAgICAgICAgCiAgICAKICAgICAgICB2YXIgcG9wdXBfMWU4MDYzNzZjZDlhNDI1Y2I5MDg3ZTFkNGIwYWZjYWIgPSBMLnBvcHVwKHsibWF4V2lkdGgiOiAiMTAwJSJ9KTsKCiAgICAgICAgCiAgICAgICAgICAgIHZhciBodG1sXzkyMTUxZGE0NmQ2MTRkNjY5MzRiNjBmOTc3MjI0ZTE4ID0gJChgPGRpdiBpZD0iaHRtbF85MjE1MWRhNDZkNjE0ZDY2OTM0YjYwZjk3NzIyNGUxOCIgc3R5bGU9IndpZHRoOiAxMDAuMCU7IGhlaWdodDogMTAwLjAlOyI+U3RuIEEgUE8gQm94ZXMsIERvd250b3duIFRvcm9udG88L2Rpdj5gKVswXTsKICAgICAgICAgICAgcG9wdXBfMWU4MDYzNzZjZDlhNDI1Y2I5MDg3ZTFkNGIwYWZjYWIuc2V0Q29udGVudChodG1sXzkyMTUxZGE0NmQ2MTRkNjY5MzRiNjBmOTc3MjI0ZTE4KTsKICAgICAgICAKCiAgICAgICAgY2lyY2xlX21hcmtlcl9lNWMwN2YyMzhiYjg0M2Q2OWM3NDI2NjBmMzExM2JkNy5iaW5kUG9wdXAocG9wdXBfMWU4MDYzNzZjZDlhNDI1Y2I5MDg3ZTFkNGIwYWZjYWIpCiAgICAgICAgOwoKICAgICAgICAKICAgIAogICAgCiAgICAgICAgICAgIHZhciBjaXJjbGVfbWFya2VyX2QxNDBiMDZiN2UxNTQzOTM5ZjllNjdhYjQ0OTAzODU2ID0gTC5jaXJjbGVNYXJrZXIoCiAgICAgICAgICAgICAgICBbNDMuNjAyNDEzNzAwMDAwMDEsIC03OS41NDM0ODQwOTk5OTk5OV0sCiAgICAgICAgICAgICAgICB7ImJ1YmJsaW5nTW91c2VFdmVudHMiOiB0cnVlLCAiY29sb3IiOiAiYmx1ZSIsICJkYXNoQXJyYXkiOiBudWxsLCAiZGFzaE9mZnNldCI6IG51bGwsICJmaWxsIjogdHJ1ZSwgImZpbGxDb2xvciI6ICIjMzE4NmNjIiwgImZpbGxPcGFjaXR5IjogMC43LCAiZmlsbFJ1bGUiOiAiZXZlbm9kZCIsICJsaW5lQ2FwIjogInJvdW5kIiwgImxpbmVKb2luIjogInJvdW5kIiwgIm9wYWNpdHkiOiAxLjAsICJyYWRpdXMiOiA1LCAic3Ryb2tlIjogdHJ1ZSwgIndlaWdodCI6IDN9CiAgICAgICAgICAgICkuYWRkVG8obWFwXzdiYzJhZTY4MzI3YTRjNDY5ZGJmMTZkZTRlOTUwYzI2KTsKICAgICAgICAKICAgIAogICAgICAgIHZhciBwb3B1cF9hNTljZDM0MDgzMjE0OGE4OTNkZDc3Y2E4ZjExZGI5NyA9IEwucG9wdXAoeyJtYXhXaWR0aCI6ICIxMDAlIn0pOwoKICAgICAgICAKICAgICAgICAgICAgdmFyIGh0bWxfYjEwZWVlZmI0ODNhNGEyMjkwMWIwNjAyMjUyNTU1ODIgPSAkKGA8ZGl2IGlkPSJodG1sX2IxMGVlZWZiNDgzYTRhMjI5MDFiMDYwMjI1MjU1NTgyIiBzdHlsZT0id2lkdGg6IDEwMC4wJTsgaGVpZ2h0OiAxMDAuMCU7Ij5BbGRlcndvb2QsIExvbmcgQnJhbmNoLCBFdG9iaWNva2U8L2Rpdj5gKVswXTsKICAgICAgICAgICAgcG9wdXBfYTU5Y2QzNDA4MzIxNDhhODkzZGQ3N2NhOGYxMWRiOTcuc2V0Q29udGVudChodG1sX2IxMGVlZWZiNDgzYTRhMjI5MDFiMDYwMjI1MjU1NTgyKTsKICAgICAgICAKCiAgICAgICAgY2lyY2xlX21hcmtlcl9kMTQwYjA2YjdlMTU0MzkzOWY5ZTY3YWI0NDkwMzg1Ni5iaW5kUG9wdXAocG9wdXBfYTU5Y2QzNDA4MzIxNDhhODkzZGQ3N2NhOGYxMWRiOTcpCiAgICAgICAgOwoKICAgICAgICAKICAgIAogICAgCiAgICAgICAgICAgIHZhciBjaXJjbGVfbWFya2VyXzQ4ZTAxOWYwZTk2MDRjNTg4OWIxNmQ5ZTEwZWM5OWNiID0gTC5jaXJjbGVNYXJrZXIoCiAgICAgICAgICAgICAgICBbNDMuNzA2NzQ4Mjk5OTk5OTk0LCAtNzkuNTk0MDU0NF0sCiAgICAgICAgICAgICAgICB7ImJ1YmJsaW5nTW91c2VFdmVudHMiOiB0cnVlLCAiY29sb3IiOiAiYmx1ZSIsICJkYXNoQXJyYXkiOiBudWxsLCAiZGFzaE9mZnNldCI6IG51bGwsICJmaWxsIjogdHJ1ZSwgImZpbGxDb2xvciI6ICIjMzE4NmNjIiwgImZpbGxPcGFjaXR5IjogMC43LCAiZmlsbFJ1bGUiOiAiZXZlbm9kZCIsICJsaW5lQ2FwIjogInJvdW5kIiwgImxpbmVKb2luIjogInJvdW5kIiwgIm9wYWNpdHkiOiAxLjAsICJyYWRpdXMiOiA1LCAic3Ryb2tlIjogdHJ1ZSwgIndlaWdodCI6IDN9CiAgICAgICAgICAgICkuYWRkVG8obWFwXzdiYzJhZTY4MzI3YTRjNDY5ZGJmMTZkZTRlOTUwYzI2KTsKICAgICAgICAKICAgIAogICAgICAgIHZhciBwb3B1cF9hZjJmYjdjNjk2MjA0NTQ4YjA0ZDQwYzU3NmRiYjU0NyA9IEwucG9wdXAoeyJtYXhXaWR0aCI6ICIxMDAlIn0pOwoKICAgICAgICAKICAgICAgICAgICAgdmFyIGh0bWxfMDBjMjcwMWEzOTE2NDY4Y2I5Y2E2NDY5MGM0NjU1NWYgPSAkKGA8ZGl2IGlkPSJodG1sXzAwYzI3MDFhMzkxNjQ2OGNiOWNhNjQ2OTBjNDY1NTVmIiBzdHlsZT0id2lkdGg6IDEwMC4wJTsgaGVpZ2h0OiAxMDAuMCU7Ij5Ob3J0aHdlc3QsIEV0b2JpY29rZTwvZGl2PmApWzBdOwogICAgICAgICAgICBwb3B1cF9hZjJmYjdjNjk2MjA0NTQ4YjA0ZDQwYzU3NmRiYjU0Ny5zZXRDb250ZW50KGh0bWxfMDBjMjcwMWEzOTE2NDY4Y2I5Y2E2NDY5MGM0NjU1NWYpOwogICAgICAgIAoKICAgICAgICBjaXJjbGVfbWFya2VyXzQ4ZTAxOWYwZTk2MDRjNTg4OWIxNmQ5ZTEwZWM5OWNiLmJpbmRQb3B1cChwb3B1cF9hZjJmYjdjNjk2MjA0NTQ4YjA0ZDQwYzU3NmRiYjU0NykKICAgICAgICA7CgogICAgICAgIAogICAgCiAgICAKICAgICAgICAgICAgdmFyIGNpcmNsZV9tYXJrZXJfN2RlN2UwNjY0MzVlNDNmNDhhNWY4N2I3YjQ0YTE0NzEgPSBMLmNpcmNsZU1hcmtlcigKICAgICAgICAgICAgICAgIFs0My44MzYxMjQ3MDAwMDAwMDYsIC03OS4yMDU2MzYwOTk5OTk5OV0sCiAgICAgICAgICAgICAgICB7ImJ1YmJsaW5nTW91c2VFdmVudHMiOiB0cnVlLCAiY29sb3IiOiAiYmx1ZSIsICJkYXNoQXJyYXkiOiBudWxsLCAiZGFzaE9mZnNldCI6IG51bGwsICJmaWxsIjogdHJ1ZSwgImZpbGxDb2xvciI6ICIjMzE4NmNjIiwgImZpbGxPcGFjaXR5IjogMC43LCAiZmlsbFJ1bGUiOiAiZXZlbm9kZCIsICJsaW5lQ2FwIjogInJvdW5kIiwgImxpbmVKb2luIjogInJvdW5kIiwgIm9wYWNpdHkiOiAxLjAsICJyYWRpdXMiOiA1LCAic3Ryb2tlIjogdHJ1ZSwgIndlaWdodCI6IDN9CiAgICAgICAgICAgICkuYWRkVG8obWFwXzdiYzJhZTY4MzI3YTRjNDY5ZGJmMTZkZTRlOTUwYzI2KTsKICAgICAgICAKICAgIAogICAgICAgIHZhciBwb3B1cF9lZjI5NmM2NWNiYTM0Njk4YjM4YjFkYjFiMTcwNWE4ZCA9IEwucG9wdXAoeyJtYXhXaWR0aCI6ICIxMDAlIn0pOwoKICAgICAgICAKICAgICAgICAgICAgdmFyIGh0bWxfZDA5MTU2ZTM5ODRlNDllYThkYTRiNGZiNTBhNjc5NWUgPSAkKGA8ZGl2IGlkPSJodG1sX2QwOTE1NmUzOTg0ZTQ5ZWE4ZGE0YjRmYjUwYTY3OTVlIiBzdHlsZT0id2lkdGg6IDEwMC4wJTsgaGVpZ2h0OiAxMDAuMCU7Ij5VcHBlciBSb3VnZSwgU2NhcmJvcm91Z2g8L2Rpdj5gKVswXTsKICAgICAgICAgICAgcG9wdXBfZWYyOTZjNjVjYmEzNDY5OGIzOGIxZGIxYjE3MDVhOGQuc2V0Q29udGVudChodG1sX2QwOTE1NmUzOTg0ZTQ5ZWE4ZGE0YjRmYjUwYTY3OTVlKTsKICAgICAgICAKCiAgICAgICAgY2lyY2xlX21hcmtlcl83ZGU3ZTA2NjQzNWU0M2Y0OGE1Zjg3YjdiNDRhMTQ3MS5iaW5kUG9wdXAocG9wdXBfZWYyOTZjNjVjYmEzNDY5OGIzOGIxZGIxYjE3MDVhOGQpCiAgICAgICAgOwoKICAgICAgICAKICAgIAogICAgCiAgICAgICAgICAgIHZhciBjaXJjbGVfbWFya2VyXzEwYmRmNDhmYzQzMDQyN2FhYzI0NmM0ZDcwYTg4MmFlID0gTC5jaXJjbGVNYXJrZXIoCiAgICAgICAgICAgICAgICBbNDMuNjY3OTY3LCAtNzkuMzY3Njc1M10sCiAgICAgICAgICAgICAgICB7ImJ1YmJsaW5nTW91c2VFdmVudHMiOiB0cnVlLCAiY29sb3IiOiAiYmx1ZSIsICJkYXNoQXJyYXkiOiBudWxsLCAiZGFzaE9mZnNldCI6IG51bGwsICJmaWxsIjogdHJ1ZSwgImZpbGxDb2xvciI6ICIjMzE4NmNjIiwgImZpbGxPcGFjaXR5IjogMC43LCAiZmlsbFJ1bGUiOiAiZXZlbm9kZCIsICJsaW5lQ2FwIjogInJvdW5kIiwgImxpbmVKb2luIjogInJvdW5kIiwgIm9wYWNpdHkiOiAxLjAsICJyYWRpdXMiOiA1LCAic3Ryb2tlIjogdHJ1ZSwgIndlaWdodCI6IDN9CiAgICAgICAgICAgICkuYWRkVG8obWFwXzdiYzJhZTY4MzI3YTRjNDY5ZGJmMTZkZTRlOTUwYzI2KTsKICAgICAgICAKICAgIAogICAgICAgIHZhciBwb3B1cF8yNzcxN2E5ZTNiZjA0MDU5OTRiZTNkNjVhOGQ4ZmYxZSA9IEwucG9wdXAoeyJtYXhXaWR0aCI6ICIxMDAlIn0pOwoKICAgICAgICAKICAgICAgICAgICAgdmFyIGh0bWxfMGQ4MzQyN2ViYzMzNGZmNzhlZjU3Y2JkMWYyMTg2YzggPSAkKGA8ZGl2IGlkPSJodG1sXzBkODM0MjdlYmMzMzRmZjc4ZWY1N2NiZDFmMjE4NmM4IiBzdHlsZT0id2lkdGg6IDEwMC4wJTsgaGVpZ2h0OiAxMDAuMCU7Ij5TdC4gSmFtZXMgVG93biwgQ2FiYmFnZXRvd24sIERvd250b3duIFRvcm9udG88L2Rpdj5gKVswXTsKICAgICAgICAgICAgcG9wdXBfMjc3MTdhOWUzYmYwNDA1OTk0YmUzZDY1YThkOGZmMWUuc2V0Q29udGVudChodG1sXzBkODM0MjdlYmMzMzRmZjc4ZWY1N2NiZDFmMjE4NmM4KTsKICAgICAgICAKCiAgICAgICAgY2lyY2xlX21hcmtlcl8xMGJkZjQ4ZmM0MzA0MjdhYWMyNDZjNGQ3MGE4ODJhZS5iaW5kUG9wdXAocG9wdXBfMjc3MTdhOWUzYmYwNDA1OTk0YmUzZDY1YThkOGZmMWUpCiAgICAgICAgOwoKICAgICAgICAKICAgIAogICAgCiAgICAgICAgICAgIHZhciBjaXJjbGVfbWFya2VyXzZmM2ZmMDgzOGJmYzQyN2E5Yjk3YjE4NTc0ODM5YTBiID0gTC5jaXJjbGVNYXJrZXIoCiAgICAgICAgICAgICAgICBbNDMuNjQ4NDI5MiwgLTc5LjM4MjI4MDJdLAogICAgICAgICAgICAgICAgeyJidWJibGluZ01vdXNlRXZlbnRzIjogdHJ1ZSwgImNvbG9yIjogImJsdWUiLCAiZGFzaEFycmF5IjogbnVsbCwgImRhc2hPZmZzZXQiOiBudWxsLCAiZmlsbCI6IHRydWUsICJmaWxsQ29sb3IiOiAiIzMxODZjYyIsICJmaWxsT3BhY2l0eSI6IDAuNywgImZpbGxSdWxlIjogImV2ZW5vZGQiLCAibGluZUNhcCI6ICJyb3VuZCIsICJsaW5lSm9pbiI6ICJyb3VuZCIsICJvcGFjaXR5IjogMS4wLCAicmFkaXVzIjogNSwgInN0cm9rZSI6IHRydWUsICJ3ZWlnaHQiOiAzfQogICAgICAgICAgICApLmFkZFRvKG1hcF83YmMyYWU2ODMyN2E0YzQ2OWRiZjE2ZGU0ZTk1MGMyNik7CiAgICAgICAgCiAgICAKICAgICAgICB2YXIgcG9wdXBfZjVjNmFkZTNjYzJjNGY4NWFhMDUyOTUxOWVjZDhhYzEgPSBMLnBvcHVwKHsibWF4V2lkdGgiOiAiMTAwJSJ9KTsKCiAgICAgICAgCiAgICAgICAgICAgIHZhciBodG1sXzdjMDNkM2JjZjE0ZjRiYmRiMjAzN2NlODY2Zjc2MWZmID0gJChgPGRpdiBpZD0iaHRtbF83YzAzZDNiY2YxNGY0YmJkYjIwMzdjZTg2NmY3NjFmZiIgc3R5bGU9IndpZHRoOiAxMDAuMCU7IGhlaWdodDogMTAwLjAlOyI+Rmlyc3QgQ2FuYWRpYW4gUGxhY2UsIFVuZGVyZ3JvdW5kIGNpdHksIERvd250b3duIFRvcm9udG88L2Rpdj5gKVswXTsKICAgICAgICAgICAgcG9wdXBfZjVjNmFkZTNjYzJjNGY4NWFhMDUyOTUxOWVjZDhhYzEuc2V0Q29udGVudChodG1sXzdjMDNkM2JjZjE0ZjRiYmRiMjAzN2NlODY2Zjc2MWZmKTsKICAgICAgICAKCiAgICAgICAgY2lyY2xlX21hcmtlcl82ZjNmZjA4MzhiZmM0MjdhOWI5N2IxODU3NDgzOWEwYi5iaW5kUG9wdXAocG9wdXBfZjVjNmFkZTNjYzJjNGY4NWFhMDUyOTUxOWVjZDhhYzEpCiAgICAgICAgOwoKICAgICAgICAKICAgIAogICAgCiAgICAgICAgICAgIHZhciBjaXJjbGVfbWFya2VyX2EyYjA4ZjNhODk0OTQ4ODc4NTc5ZWIyNTk1ZjBjNjQ5ID0gTC5jaXJjbGVNYXJrZXIoCiAgICAgICAgICAgICAgICBbNDMuNjUzNjUzNjAwMDAwMDA1LCAtNzkuNTA2OTQzNl0sCiAgICAgICAgICAgICAgICB7ImJ1YmJsaW5nTW91c2VFdmVudHMiOiB0cnVlLCAiY29sb3IiOiAiYmx1ZSIsICJkYXNoQXJyYXkiOiBudWxsLCAiZGFzaE9mZnNldCI6IG51bGwsICJmaWxsIjogdHJ1ZSwgImZpbGxDb2xvciI6ICIjMzE4NmNjIiwgImZpbGxPcGFjaXR5IjogMC43LCAiZmlsbFJ1bGUiOiAiZXZlbm9kZCIsICJsaW5lQ2FwIjogInJvdW5kIiwgImxpbmVKb2luIjogInJvdW5kIiwgIm9wYWNpdHkiOiAxLjAsICJyYWRpdXMiOiA1LCAic3Ryb2tlIjogdHJ1ZSwgIndlaWdodCI6IDN9CiAgICAgICAgICAgICkuYWRkVG8obWFwXzdiYzJhZTY4MzI3YTRjNDY5ZGJmMTZkZTRlOTUwYzI2KTsKICAgICAgICAKICAgIAogICAgICAgIHZhciBwb3B1cF85NGE5N2RiZWE2ZTM0YmEwOTU2NTczMzk1NDAyZThiNCA9IEwucG9wdXAoeyJtYXhXaWR0aCI6ICIxMDAlIn0pOwoKICAgICAgICAKICAgICAgICAgICAgdmFyIGh0bWxfNDNmMjQzMTVhYmQ0NGY0YTg4YjA5ZGE0YzIxMmZmY2MgPSAkKGA8ZGl2IGlkPSJodG1sXzQzZjI0MzE1YWJkNDRmNGE4OGIwOWRhNGMyMTJmZmNjIiBzdHlsZT0id2lkdGg6IDEwMC4wJTsgaGVpZ2h0OiAxMDAuMCU7Ij5UaGUgS2luZ3N3YXksIE1vbnRnb21lcnkgUm9hZCAsIE9sZCBNaWxsIE5vcnRoLCBFdG9iaWNva2U8L2Rpdj5gKVswXTsKICAgICAgICAgICAgcG9wdXBfOTRhOTdkYmVhNmUzNGJhMDk1NjU3MzM5NTQwMmU4YjQuc2V0Q29udGVudChodG1sXzQzZjI0MzE1YWJkNDRmNGE4OGIwOWRhNGMyMTJmZmNjKTsKICAgICAgICAKCiAgICAgICAgY2lyY2xlX21hcmtlcl9hMmIwOGYzYTg5NDk0ODg3ODU3OWViMjU5NWYwYzY0OS5iaW5kUG9wdXAocG9wdXBfOTRhOTdkYmVhNmUzNGJhMDk1NjU3MzM5NTQwMmU4YjQpCiAgICAgICAgOwoKICAgICAgICAKICAgIAogICAgCiAgICAgICAgICAgIHZhciBjaXJjbGVfbWFya2VyXzgwYTNmZWE3NDExNzRjOWZhNjg1NmVkMjYxODUyMTA0ID0gTC5jaXJjbGVNYXJrZXIoCiAgICAgICAgICAgICAgICBbNDMuNjY1ODU5OSwgLTc5LjM4MzE1OTkwMDAwMDAxXSwKICAgICAgICAgICAgICAgIHsiYnViYmxpbmdNb3VzZUV2ZW50cyI6IHRydWUsICJjb2xvciI6ICJibHVlIiwgImRhc2hBcnJheSI6IG51bGwsICJkYXNoT2Zmc2V0IjogbnVsbCwgImZpbGwiOiB0cnVlLCAiZmlsbENvbG9yIjogIiMzMTg2Y2MiLCAiZmlsbE9wYWNpdHkiOiAwLjcsICJmaWxsUnVsZSI6ICJldmVub2RkIiwgImxpbmVDYXAiOiAicm91bmQiLCAibGluZUpvaW4iOiAicm91bmQiLCAib3BhY2l0eSI6IDEuMCwgInJhZGl1cyI6IDUsICJzdHJva2UiOiB0cnVlLCAid2VpZ2h0IjogM30KICAgICAgICAgICAgKS5hZGRUbyhtYXBfN2JjMmFlNjgzMjdhNGM0NjlkYmYxNmRlNGU5NTBjMjYpOwogICAgICAgIAogICAgCiAgICAgICAgdmFyIHBvcHVwX2MzNjU1NzdkMzQ3NDQzN2Y5ZGU4NDNmZWE2ZjQ3NDZjID0gTC5wb3B1cCh7Im1heFdpZHRoIjogIjEwMCUifSk7CgogICAgICAgIAogICAgICAgICAgICB2YXIgaHRtbF8wMzVlNjM2MDRlMDc0ZGVkOTQ4NDA3MWYwZWY3MGNlMSA9ICQoYDxkaXYgaWQ9Imh0bWxfMDM1ZTYzNjA0ZTA3NGRlZDk0ODQwNzFmMGVmNzBjZTEiIHN0eWxlPSJ3aWR0aDogMTAwLjAlOyBoZWlnaHQ6IDEwMC4wJTsiPkNodXJjaCBhbmQgV2VsbGVzbGV5LCBEb3dudG93biBUb3JvbnRvPC9kaXY+YClbMF07CiAgICAgICAgICAgIHBvcHVwX2MzNjU1NzdkMzQ3NDQzN2Y5ZGU4NDNmZWE2ZjQ3NDZjLnNldENvbnRlbnQoaHRtbF8wMzVlNjM2MDRlMDc0ZGVkOTQ4NDA3MWYwZWY3MGNlMSk7CiAgICAgICAgCgogICAgICAgIGNpcmNsZV9tYXJrZXJfODBhM2ZlYTc0MTE3NGM5ZmE2ODU2ZWQyNjE4NTIxMDQuYmluZFBvcHVwKHBvcHVwX2MzNjU1NzdkMzQ3NDQzN2Y5ZGU4NDNmZWE2ZjQ3NDZjKQogICAgICAgIDsKCiAgICAgICAgCiAgICAKICAgIAogICAgICAgICAgICB2YXIgY2lyY2xlX21hcmtlcl81ODg0YWM5YTgxMWM0NDZlOWU1ZGZkMDMwNDVkZjM0NyA9IEwuY2lyY2xlTWFya2VyKAogICAgICAgICAgICAgICAgWzQzLjY2Mjc0MzksIC03OS4zMjE1NThdLAogICAgICAgICAgICAgICAgeyJidWJibGluZ01vdXNlRXZlbnRzIjogdHJ1ZSwgImNvbG9yIjogImJsdWUiLCAiZGFzaEFycmF5IjogbnVsbCwgImRhc2hPZmZzZXQiOiBudWxsLCAiZmlsbCI6IHRydWUsICJmaWxsQ29sb3IiOiAiIzMxODZjYyIsICJmaWxsT3BhY2l0eSI6IDAuNywgImZpbGxSdWxlIjogImV2ZW5vZGQiLCAibGluZUNhcCI6ICJyb3VuZCIsICJsaW5lSm9pbiI6ICJyb3VuZCIsICJvcGFjaXR5IjogMS4wLCAicmFkaXVzIjogNSwgInN0cm9rZSI6IHRydWUsICJ3ZWlnaHQiOiAzfQogICAgICAgICAgICApLmFkZFRvKG1hcF83YmMyYWU2ODMyN2E0YzQ2OWRiZjE2ZGU0ZTk1MGMyNik7CiAgICAgICAgCiAgICAKICAgICAgICB2YXIgcG9wdXBfZjA3MGFkMjRiOTEzNDQzNGFkMmZjYzZjN2EyOTFmYTUgPSBMLnBvcHVwKHsibWF4V2lkdGgiOiAiMTAwJSJ9KTsKCiAgICAgICAgCiAgICAgICAgICAgIHZhciBodG1sXzU1MjI4NDc5NTgzZjQ1MGU5Nzc0MTI2MWRmNjI0OGQ4ID0gJChgPGRpdiBpZD0iaHRtbF81NTIyODQ3OTU4M2Y0NTBlOTc3NDEyNjFkZjYyNDhkOCIgc3R5bGU9IndpZHRoOiAxMDAuMCU7IGhlaWdodDogMTAwLjAlOyI+QnVzaW5lc3MgcmVwbHkgbWFpbCBQcm9jZXNzaW5nIENlbnRyRSwgRWFzdCBUb3JvbnRvPC9kaXY+YClbMF07CiAgICAgICAgICAgIHBvcHVwX2YwNzBhZDI0YjkxMzQ0MzRhZDJmY2M2YzdhMjkxZmE1LnNldENvbnRlbnQoaHRtbF81NTIyODQ3OTU4M2Y0NTBlOTc3NDEyNjFkZjYyNDhkOCk7CiAgICAgICAgCgogICAgICAgIGNpcmNsZV9tYXJrZXJfNTg4NGFjOWE4MTFjNDQ2ZTllNWRmZDAzMDQ1ZGYzNDcuYmluZFBvcHVwKHBvcHVwX2YwNzBhZDI0YjkxMzQ0MzRhZDJmY2M2YzdhMjkxZmE1KQogICAgICAgIDsKCiAgICAgICAgCiAgICAKICAgIAogICAgICAgICAgICB2YXIgY2lyY2xlX21hcmtlcl84MjcxOWZiMmZiYzE0ZTkyYjU2MmI0OTk5YzMyNzY5YyA9IEwuY2lyY2xlTWFya2VyKAogICAgICAgICAgICAgICAgWzQzLjYzNjI1NzksIC03OS40OTg1MDkwOTk5OTk5OV0sCiAgICAgICAgICAgICAgICB7ImJ1YmJsaW5nTW91c2VFdmVudHMiOiB0cnVlLCAiY29sb3IiOiAiYmx1ZSIsICJkYXNoQXJyYXkiOiBudWxsLCAiZGFzaE9mZnNldCI6IG51bGwsICJmaWxsIjogdHJ1ZSwgImZpbGxDb2xvciI6ICIjMzE4NmNjIiwgImZpbGxPcGFjaXR5IjogMC43LCAiZmlsbFJ1bGUiOiAiZXZlbm9kZCIsICJsaW5lQ2FwIjogInJvdW5kIiwgImxpbmVKb2luIjogInJvdW5kIiwgIm9wYWNpdHkiOiAxLjAsICJyYWRpdXMiOiA1LCAic3Ryb2tlIjogdHJ1ZSwgIndlaWdodCI6IDN9CiAgICAgICAgICAgICkuYWRkVG8obWFwXzdiYzJhZTY4MzI3YTRjNDY5ZGJmMTZkZTRlOTUwYzI2KTsKICAgICAgICAKICAgIAogICAgICAgIHZhciBwb3B1cF8xODE2MWUyZmVmYTU0ZThkYjljYjM1NGYxOGYzZGUyYiA9IEwucG9wdXAoeyJtYXhXaWR0aCI6ICIxMDAlIn0pOwoKICAgICAgICAKICAgICAgICAgICAgdmFyIGh0bWxfMWMxM2IxYzkxZTUyNGE1NzkzNDk1MzkzMDk0M2M5ODQgPSAkKGA8ZGl2IGlkPSJodG1sXzFjMTNiMWM5MWU1MjRhNTc5MzQ5NTM5MzA5NDNjOTg0IiBzdHlsZT0id2lkdGg6IDEwMC4wJTsgaGVpZ2h0OiAxMDAuMCU7Ij5PbGQgTWlsbCBTb3V0aCwgS2luZyYjMzk7cyBNaWxsIFBhcmssIFN1bm55bGVhLCBIdW1iZXIgQmF5LCBNaW1pY28gTkUsIFRoZSBRdWVlbnN3YXkgRWFzdCwgUm95YWwgWW9yayBTb3V0aCBFYXN0LCBLaW5nc3dheSBQYXJrIFNvdXRoIEVhc3QsIEV0b2JpY29rZTwvZGl2PmApWzBdOwogICAgICAgICAgICBwb3B1cF8xODE2MWUyZmVmYTU0ZThkYjljYjM1NGYxOGYzZGUyYi5zZXRDb250ZW50KGh0bWxfMWMxM2IxYzkxZTUyNGE1NzkzNDk1MzkzMDk0M2M5ODQpOwogICAgICAgIAoKICAgICAgICBjaXJjbGVfbWFya2VyXzgyNzE5ZmIyZmJjMTRlOTJiNTYyYjQ5OTljMzI3NjljLmJpbmRQb3B1cChwb3B1cF8xODE2MWUyZmVmYTU0ZThkYjljYjM1NGYxOGYzZGUyYikKICAgICAgICA7CgogICAgICAgIAogICAgCiAgICAKICAgICAgICAgICAgdmFyIGNpcmNsZV9tYXJrZXJfOWJmNDI3ZmFlZjkwNDljYzgyMmMxYTNlMDBhMjFlMWMgPSBMLmNpcmNsZU1hcmtlcigKICAgICAgICAgICAgICAgIFs0My42Mjg4NDA4LCAtNzkuNTIwOTk5NDAwMDAwMDFdLAogICAgICAgICAgICAgICAgeyJidWJibGluZ01vdXNlRXZlbnRzIjogdHJ1ZSwgImNvbG9yIjogImJsdWUiLCAiZGFzaEFycmF5IjogbnVsbCwgImRhc2hPZmZzZXQiOiBudWxsLCAiZmlsbCI6IHRydWUsICJmaWxsQ29sb3IiOiAiIzMxODZjYyIsICJmaWxsT3BhY2l0eSI6IDAuNywgImZpbGxSdWxlIjogImV2ZW5vZGQiLCAibGluZUNhcCI6ICJyb3VuZCIsICJsaW5lSm9pbiI6ICJyb3VuZCIsICJvcGFjaXR5IjogMS4wLCAicmFkaXVzIjogNSwgInN0cm9rZSI6IHRydWUsICJ3ZWlnaHQiOiAzfQogICAgICAgICAgICApLmFkZFRvKG1hcF83YmMyYWU2ODMyN2E0YzQ2OWRiZjE2ZGU0ZTk1MGMyNik7CiAgICAgICAgCiAgICAKICAgICAgICB2YXIgcG9wdXBfYTM5MjZlZGQyM2Y3NDMyOWJkZTIzOWMxMzZlZDcxYWMgPSBMLnBvcHVwKHsibWF4V2lkdGgiOiAiMTAwJSJ9KTsKCiAgICAgICAgCiAgICAgICAgICAgIHZhciBodG1sX2Y5ZTQ4MTg1ZGUxMzRmYzlhZDNlMDFmMzZkMDIzNzkzID0gJChgPGRpdiBpZD0iaHRtbF9mOWU0ODE4NWRlMTM0ZmM5YWQzZTAxZjM2ZDAyMzc5MyIgc3R5bGU9IndpZHRoOiAxMDAuMCU7IGhlaWdodDogMTAwLjAlOyI+TWltaWNvIE5XLCBUaGUgUXVlZW5zd2F5IFdlc3QsIFNvdXRoIG9mIEJsb29yLCBLaW5nc3dheSBQYXJrIFNvdXRoIFdlc3QsIFJveWFsIFlvcmsgU291dGggV2VzdCwgRXRvYmljb2tlPC9kaXY+YClbMF07CiAgICAgICAgICAgIHBvcHVwX2EzOTI2ZWRkMjNmNzQzMjliZGUyMzljMTM2ZWQ3MWFjLnNldENvbnRlbnQoaHRtbF9mOWU0ODE4NWRlMTM0ZmM5YWQzZTAxZjM2ZDAyMzc5Myk7CiAgICAgICAgCgogICAgICAgIGNpcmNsZV9tYXJrZXJfOWJmNDI3ZmFlZjkwNDljYzgyMmMxYTNlMDBhMjFlMWMuYmluZFBvcHVwKHBvcHVwX2EzOTI2ZWRkMjNmNzQzMjliZGUyMzljMTM2ZWQ3MWFjKQogICAgICAgIDsKCiAgICAgICAgCiAgICAKPC9zY3JpcHQ+ onload=\"this.contentDocument.open();this.contentDocument.write(atob(this.getAttribute('data-html')));this.contentDocument.close();\" allowfullscreen webkitallowfullscreen mozallowfullscreen></iframe></div></div>"
      ],
      "text/plain": [
       "<folium.folium.Map at 0x1ef6e641f08>"
      ]
     },
     "execution_count": 17,
     "metadata": {},
     "output_type": "execute_result"
    }
   ],
   "source": [
    "# create map of Toronto using latitude and longitude values\n",
    "map_toronto = folium.Map(location=[toronto_lat, toronto_lng], zoom_start=10)\n",
    "\n",
    "# add markers to map\n",
    "for lat, lng, borough, neighborhood in zip(neighborhoods['Latitude'], neighborhoods['Longitude'], neighborhoods['Borough'], neighborhoods['Neighborhood']):\n",
    "    label = '{}, {}'.format(neighborhood, borough)\n",
    "    label = folium.Popup(label, parse_html=True)\n",
    "    folium.CircleMarker(\n",
    "        [lat, lng],\n",
    "        radius=5,\n",
    "        popup=label,\n",
    "        color='blue',\n",
    "        fill=True,\n",
    "        fill_color='#3186cc',\n",
    "        fill_opacity=0.7,\n",
    "        parse_html=False).add_to(map_toronto)  \n",
    "    \n",
    "map_toronto"
   ]
  },
  {
   "cell_type": "markdown",
   "metadata": {},
   "source": [
    "### To simplify, the work will be only with boroughs that contain the word Toronto"
   ]
  },
  {
   "cell_type": "code",
   "execution_count": 18,
   "metadata": {
    "scrolled": true
   },
   "outputs": [
    {
     "data": {
      "text/html": [
       "<div>\n",
       "<style scoped>\n",
       "    .dataframe tbody tr th:only-of-type {\n",
       "        vertical-align: middle;\n",
       "    }\n",
       "\n",
       "    .dataframe tbody tr th {\n",
       "        vertical-align: top;\n",
       "    }\n",
       "\n",
       "    .dataframe thead th {\n",
       "        text-align: right;\n",
       "    }\n",
       "</style>\n",
       "<table border=\"1\" class=\"dataframe\">\n",
       "  <thead>\n",
       "    <tr style=\"text-align: right;\">\n",
       "      <th></th>\n",
       "      <th>Borough</th>\n",
       "      <th>Neighborhood</th>\n",
       "      <th>Latitude</th>\n",
       "      <th>Longitude</th>\n",
       "    </tr>\n",
       "  </thead>\n",
       "  <tbody>\n",
       "    <tr>\n",
       "      <th>0</th>\n",
       "      <td>Downtown Toronto</td>\n",
       "      <td>Regent Park, Harbourfront</td>\n",
       "      <td>43.654260</td>\n",
       "      <td>-79.360636</td>\n",
       "    </tr>\n",
       "    <tr>\n",
       "      <th>1</th>\n",
       "      <td>Downtown Toronto</td>\n",
       "      <td>Queen's Park, Ontario Provincial Government</td>\n",
       "      <td>43.662301</td>\n",
       "      <td>-79.389494</td>\n",
       "    </tr>\n",
       "    <tr>\n",
       "      <th>2</th>\n",
       "      <td>Downtown Toronto</td>\n",
       "      <td>Garden District, Ryerson</td>\n",
       "      <td>43.657162</td>\n",
       "      <td>-79.378937</td>\n",
       "    </tr>\n",
       "    <tr>\n",
       "      <th>3</th>\n",
       "      <td>Downtown Toronto</td>\n",
       "      <td>St. James Town</td>\n",
       "      <td>43.651494</td>\n",
       "      <td>-79.375418</td>\n",
       "    </tr>\n",
       "    <tr>\n",
       "      <th>4</th>\n",
       "      <td>East Toronto</td>\n",
       "      <td>The Beaches</td>\n",
       "      <td>43.676357</td>\n",
       "      <td>-79.293031</td>\n",
       "    </tr>\n",
       "  </tbody>\n",
       "</table>\n",
       "</div>"
      ],
      "text/plain": [
       "            Borough                                 Neighborhood   Latitude  \\\n",
       "0  Downtown Toronto                    Regent Park, Harbourfront  43.654260   \n",
       "1  Downtown Toronto  Queen's Park, Ontario Provincial Government  43.662301   \n",
       "2  Downtown Toronto                     Garden District, Ryerson  43.657162   \n",
       "3  Downtown Toronto                               St. James Town  43.651494   \n",
       "4      East Toronto                                  The Beaches  43.676357   \n",
       "\n",
       "   Longitude  \n",
       "0 -79.360636  \n",
       "1 -79.389494  \n",
       "2 -79.378937  \n",
       "3 -79.375418  \n",
       "4 -79.293031  "
      ]
     },
     "execution_count": 18,
     "metadata": {},
     "output_type": "execute_result"
    }
   ],
   "source": [
    "# Select boroughs that contain the word Toronto\n",
    "toronto_data = neighborhoods[neighborhoods['Borough'].str.contains('Toronto')].reset_index(drop=True)\n",
    "# Drop column PostalCode\n",
    "toronto_data.drop('PostalCode', axis=1, inplace=True)\n",
    "toronto_data.head()"
   ]
  },
  {
   "cell_type": "code",
   "execution_count": 19,
   "metadata": {
    "scrolled": true
   },
   "outputs": [
    {
     "data": {
      "text/plain": [
       "(39, 4)"
      ]
     },
     "execution_count": 19,
     "metadata": {},
     "output_type": "execute_result"
    }
   ],
   "source": [
    "toronto_data.shape"
   ]
  },
  {
   "cell_type": "markdown",
   "metadata": {},
   "source": [
    "#### Visualize Neighborhoods in the simplified data"
   ]
  },
  {
   "cell_type": "code",
   "execution_count": 20,
   "metadata": {},
   "outputs": [
    {
     "data": {
      "text/html": [
       "<div style=\"width:100%;\"><div style=\"position:relative;width:100%;height:0;padding-bottom:60%;\"><iframe src=\"about:blank\" style=\"position:absolute;width:100%;height:100%;left:0;top:0;border:none !important;\" data-html=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 onload=\"this.contentDocument.open();this.contentDocument.write(atob(this.getAttribute('data-html')));this.contentDocument.close();\" allowfullscreen webkitallowfullscreen mozallowfullscreen></iframe></div></div>"
      ],
      "text/plain": [
       "<folium.folium.Map at 0x1ef6e773c08>"
      ]
     },
     "execution_count": 20,
     "metadata": {},
     "output_type": "execute_result"
    }
   ],
   "source": [
    "# create map of Toronto using latitude and longitude values\n",
    "map_toronto = folium.Map(location=[toronto_lat, toronto_lng], zoom_start=12)\n",
    "\n",
    "# add markers to map\n",
    "for lat, lng, borough, neighborhood in zip(toronto_data['Latitude'], toronto_data['Longitude'], toronto_data['Borough'], toronto_data['Neighborhood']):\n",
    "    label = '{}, {}'.format(neighborhood, borough)\n",
    "    label = folium.Popup(label, parse_html=True)\n",
    "    folium.CircleMarker(\n",
    "        [lat, lng],\n",
    "        radius=5,\n",
    "        popup=label,\n",
    "        color='blue',\n",
    "        fill=True,\n",
    "        fill_color='#3186cc',\n",
    "        fill_opacity=0.7,\n",
    "        parse_html=False).add_to(map_toronto)  \n",
    "    \n",
    "map_toronto"
   ]
  },
  {
   "cell_type": "markdown",
   "metadata": {},
   "source": [
    "#### Define Foursquare Credentials and Version"
   ]
  },
  {
   "cell_type": "code",
   "execution_count": 21,
   "metadata": {},
   "outputs": [],
   "source": [
    "CLIENT_ID = '4Z0NPJSEVQB5WIMPULIGF3TIXQJYGSSH55DZJZEZE4MHRWTV' # Foursquare ID\n",
    "CLIENT_SECRET = 'D42Z4EN5FK33OZSH5GOI3LC2XE5TWSVS10KUJGDBDKSRGUT4' # Foursquare Secret\n",
    "VERSION = '20180604'"
   ]
  },
  {
   "cell_type": "markdown",
   "metadata": {},
   "source": [
    "#### Function to repeat the same process to all the neighborhoods in Toronto"
   ]
  },
  {
   "cell_type": "code",
   "execution_count": 22,
   "metadata": {},
   "outputs": [],
   "source": [
    "def getNearbyVenues(names, latitudes, longitudes, radius=500):\n",
    "    \n",
    "    venues_list=[]\n",
    "    for name, lat, lng in zip(names, latitudes, longitudes):\n",
    "        print(name)\n",
    "            \n",
    "        # create the API request URL\n",
    "        url = 'https://api.foursquare.com/v2/venues/explore?&client_id={}&client_secret={}&v={}&ll={},{}&radius={}&limit={}'.format(\n",
    "            CLIENT_ID, \n",
    "            CLIENT_SECRET, \n",
    "            VERSION, \n",
    "            lat, \n",
    "            lng, \n",
    "            radius, \n",
    "            LIMIT)\n",
    "            \n",
    "        # make the GET request\n",
    "        results = requests.get(url).json()[\"response\"]['groups'][0]['items']\n",
    "        \n",
    "        # return only relevant information for each nearby venue\n",
    "        venues_list.append([(\n",
    "            name, \n",
    "            lat, \n",
    "            lng, \n",
    "            v['venue']['name'], \n",
    "            v['venue']['location']['lat'], \n",
    "            v['venue']['location']['lng'],  \n",
    "            v['venue']['categories'][0]['name']) for v in results])\n",
    "\n",
    "    nearby_venues = pd.DataFrame([item for venue_list in venues_list for item in venue_list])\n",
    "    nearby_venues.columns = ['Neighborhood', \n",
    "                  'Neighborhood Latitude', \n",
    "                  'Neighborhood Longitude', \n",
    "                  'Venue', \n",
    "                  'Venue Latitude', \n",
    "                  'Venue Longitude', \n",
    "                  'Venue Category']\n",
    "    \n",
    "    return(nearby_venues)"
   ]
  },
  {
   "cell_type": "markdown",
   "metadata": {},
   "source": [
    "#### Run the above function on each neighborhood and create a new dataframe called toronto_venues"
   ]
  },
  {
   "cell_type": "code",
   "execution_count": 23,
   "metadata": {},
   "outputs": [],
   "source": [
    "LIMIT = 100 # limit of number of venues returned by Foursquare API\n",
    "radius = 500 # define radius"
   ]
  },
  {
   "cell_type": "code",
   "execution_count": null,
   "metadata": {},
   "outputs": [
    {
     "name": "stdout",
     "output_type": "stream",
     "text": [
      "Regent Park, Harbourfront\n",
      "Queen's Park, Ontario Provincial Government\n",
      "Garden District, Ryerson\n",
      "St. James Town\n",
      "The Beaches\n",
      "Berczy Park\n",
      "Central Bay Street\n"
     ]
    }
   ],
   "source": [
    "toronto_venues = getNearbyVenues(names=toronto_data['Neighborhood'],\n",
    "                                   latitudes=toronto_data['Latitude'],\n",
    "                                   longitudes=toronto_data['Longitude']\n",
    "                                  )\n"
   ]
  },
  {
   "cell_type": "markdown",
   "metadata": {},
   "source": [
    "#### Check the size of the resulting dataframe"
   ]
  },
  {
   "cell_type": "code",
   "execution_count": null,
   "metadata": {},
   "outputs": [],
   "source": [
    "print(toronto_venues.shape)\n",
    "toronto_venues.head()"
   ]
  },
  {
   "cell_type": "markdown",
   "metadata": {},
   "source": [
    "#### Check how many venues were returned for each neighborhood"
   ]
  },
  {
   "cell_type": "code",
   "execution_count": null,
   "metadata": {},
   "outputs": [],
   "source": [
    "toronto_venues.groupby('Neighborhood').count()"
   ]
  },
  {
   "cell_type": "markdown",
   "metadata": {},
   "source": [
    "#### How many unique categories can be curated from all the returned venues"
   ]
  },
  {
   "cell_type": "code",
   "execution_count": null,
   "metadata": {
    "scrolled": true
   },
   "outputs": [],
   "source": [
    "print('There are {} uniques categories.'.format(len(toronto_venues['Venue Category'].unique())))"
   ]
  },
  {
   "cell_type": "markdown",
   "metadata": {},
   "source": [
    "### Analyze Each Neighborhood"
   ]
  },
  {
   "cell_type": "code",
   "execution_count": null,
   "metadata": {},
   "outputs": [],
   "source": [
    "# one hot encoding\n",
    "toronto_onehot = pd.get_dummies(toronto_venues[['Venue Category']], prefix=\"\", prefix_sep=\"\")\n",
    "\n",
    "# add neighborhood column back to dataframe\n",
    "toronto_onehot['Neighborhood'] = toronto_venues['Neighborhood'] \n",
    "\n",
    "# move neighborhood column to the first column\n",
    "fixed_columns = [toronto_onehot.columns[-1]] + list(toronto_onehot.columns[:-1])\n",
    "toronto_onehot = toronto_onehot[fixed_columns]\n",
    "\n",
    "toronto_onehot.head()"
   ]
  },
  {
   "cell_type": "markdown",
   "metadata": {},
   "source": [
    "#### Dataframe size"
   ]
  },
  {
   "cell_type": "code",
   "execution_count": null,
   "metadata": {},
   "outputs": [],
   "source": [
    "toronto_onehot.shape"
   ]
  },
  {
   "cell_type": "markdown",
   "metadata": {},
   "source": [
    "#### Group rows by neighborhood and by taking the mean of the frequency of occurrence of each category"
   ]
  },
  {
   "cell_type": "code",
   "execution_count": null,
   "metadata": {},
   "outputs": [],
   "source": [
    "toronto_grouped = toronto_onehot.groupby('Neighborhood').mean().reset_index()\n",
    "toronto_grouped"
   ]
  },
  {
   "cell_type": "markdown",
   "metadata": {},
   "source": [
    "Size"
   ]
  },
  {
   "cell_type": "code",
   "execution_count": null,
   "metadata": {},
   "outputs": [],
   "source": [
    "toronto_grouped.shape"
   ]
  },
  {
   "cell_type": "markdown",
   "metadata": {},
   "source": [
    "#### Each neighborhood along with the top 5 most common venues"
   ]
  },
  {
   "cell_type": "code",
   "execution_count": null,
   "metadata": {},
   "outputs": [],
   "source": [
    "num_top_venues = 5\n",
    "\n",
    "for hood in toronto_grouped['Neighborhood']:\n",
    "    print(\"----\"+hood+\"----\")\n",
    "    temp = toronto_grouped[toronto_grouped['Neighborhood'] == hood].T.reset_index()\n",
    "    temp.columns = ['venue','freq']\n",
    "    temp = temp.iloc[1:]\n",
    "    temp['freq'] = temp['freq'].astype(float)\n",
    "    temp = temp.round({'freq': 2})\n",
    "    print(temp.sort_values('freq', ascending=False).reset_index(drop=True).head(num_top_venues))\n",
    "    print('\\n')"
   ]
  },
  {
   "cell_type": "markdown",
   "metadata": {},
   "source": [
    "#### 5 most common venues in Dataframe"
   ]
  },
  {
   "cell_type": "markdown",
   "metadata": {},
   "source": [
    "Function to sort the venues in descending order"
   ]
  },
  {
   "cell_type": "code",
   "execution_count": null,
   "metadata": {},
   "outputs": [],
   "source": [
    "def return_most_common_venues(row, num_top_venues):\n",
    "    row_categories = row.iloc[1:]\n",
    "    row_categories_sorted = row_categories.sort_values(ascending=False)\n",
    "    \n",
    "    return row_categories_sorted.index.values[0:num_top_venues]"
   ]
  },
  {
   "cell_type": "code",
   "execution_count": null,
   "metadata": {},
   "outputs": [],
   "source": [
    "num_top_venues = 10\n",
    "\n",
    "indicators = ['st', 'nd', 'rd']\n",
    "\n",
    "# create columns according to number of top venues\n",
    "columns = ['Neighborhood']\n",
    "for ind in np.arange(num_top_venues):\n",
    "    try:\n",
    "        columns.append('{}{} Most Common Venue'.format(ind+1, indicators[ind]))\n",
    "    except:\n",
    "        columns.append('{}th Most Common Venue'.format(ind+1))\n",
    "\n",
    "# create a new dataframe\n",
    "neighborhoods_venues_sorted = pd.DataFrame(columns=columns)\n",
    "neighborhoods_venues_sorted['Neighborhood'] = toronto_grouped['Neighborhood']\n",
    "\n",
    "for ind in np.arange(toronto_grouped.shape[0]):\n",
    "    neighborhoods_venues_sorted.iloc[ind, 1:] = return_most_common_venues(toronto_grouped.iloc[ind, :], num_top_venues)\n",
    "\n",
    "neighborhoods_venues_sorted.head()"
   ]
  },
  {
   "cell_type": "markdown",
   "metadata": {},
   "source": [
    "### Cluster Neighborhoods"
   ]
  },
  {
   "cell_type": "markdown",
   "metadata": {},
   "source": [
    "#### Run k-means to cluster the neighborhood into 5 clusters."
   ]
  },
  {
   "cell_type": "code",
   "execution_count": null,
   "metadata": {},
   "outputs": [],
   "source": [
    "# import k-means from clustering stage\n",
    "from sklearn.cluster import KMeans\n",
    "# Matplotlib and associated plotting modules\n",
    "import matplotlib.cm as cm\n",
    "import matplotlib.colors as colors"
   ]
  },
  {
   "cell_type": "code",
   "execution_count": null,
   "metadata": {},
   "outputs": [],
   "source": [
    "# set number of clusters\n",
    "kclusters = 5\n",
    "\n",
    "toronto_grouped_clustering = toronto_grouped.drop('Neighborhood', 1)\n",
    "\n",
    "# run k-means clustering\n",
    "kmeans = KMeans(n_clusters=kclusters, random_state=0).fit(toronto_grouped_clustering)\n",
    "\n",
    "# check cluster labels generated for each row in the dataframe\n",
    "kmeans.labels_[0:10] "
   ]
  },
  {
   "cell_type": "markdown",
   "metadata": {},
   "source": [
    "Dataframe that includes the cluster as well as the top 10 venues for each neighborhood"
   ]
  },
  {
   "cell_type": "code",
   "execution_count": null,
   "metadata": {
    "scrolled": true
   },
   "outputs": [],
   "source": [
    "# add clustering labels\n",
    "neighborhoods_venues_sorted.insert(0, 'Cluster Labels', kmeans.labels_)\n",
    "\n",
    "toronto_merged = toronto_data\n",
    "\n",
    "# merge toronto_grouped with toronto_data to add latitude/longitude for each neighborhood\n",
    "toronto_merged = toronto_merged.join(neighborhoods_venues_sorted.set_index('Neighborhood'), on='Neighborhood')\n",
    "\n",
    "toronto_merged.head() # check the last columns!"
   ]
  },
  {
   "cell_type": "markdown",
   "metadata": {},
   "source": [
    "Visualize the resulting clusters"
   ]
  },
  {
   "cell_type": "code",
   "execution_count": null,
   "metadata": {},
   "outputs": [],
   "source": [
    "# create map\n",
    "map_clusters = folium.Map(location=[toronto_lat, toronto_lng], zoom_start=11)\n",
    "\n",
    "# set color scheme for the clusters\n",
    "x = np.arange(kclusters)\n",
    "ys = [i + x + (i*x)**2 for i in range(kclusters)]\n",
    "colors_array = cm.rainbow(np.linspace(0, 1, len(ys)))\n",
    "rainbow = [colors.rgb2hex(i) for i in colors_array]\n",
    "\n",
    "# add markers to the map\n",
    "markers_colors = []\n",
    "for lat, lon, poi, cluster in zip(toronto_merged['Latitude'], toronto_merged['Longitude'], toronto_merged['Neighborhood'], toronto_merged['Cluster Labels']):\n",
    "    label = folium.Popup(str(poi) + ' Cluster ' + str(cluster), parse_html=True)\n",
    "    folium.CircleMarker(\n",
    "        [lat, lon],\n",
    "        radius=5,\n",
    "        popup=label,\n",
    "        color=rainbow[cluster-1],\n",
    "        fill=True,\n",
    "        fill_color=rainbow[cluster-1],\n",
    "        fill_opacity=0.7).add_to(map_clusters)\n",
    "       \n",
    "map_clusters"
   ]
  },
  {
   "cell_type": "markdown",
   "metadata": {},
   "source": [
    "### Examine Clusters"
   ]
  },
  {
   "cell_type": "markdown",
   "metadata": {},
   "source": [
    "Examine each cluster and determine the discriminating venue categories that distinguish each cluster"
   ]
  },
  {
   "cell_type": "markdown",
   "metadata": {},
   "source": [
    "#### Cluster 1"
   ]
  },
  {
   "cell_type": "code",
   "execution_count": null,
   "metadata": {
    "scrolled": true
   },
   "outputs": [],
   "source": [
    "toronto_merged.loc[toronto_merged['Cluster Labels'] == 0, toronto_merged.columns[[1] + list(range(5, toronto_merged.shape[1]))]]"
   ]
  },
  {
   "cell_type": "markdown",
   "metadata": {},
   "source": [
    "#### Cluster 2"
   ]
  },
  {
   "cell_type": "code",
   "execution_count": null,
   "metadata": {
    "scrolled": true
   },
   "outputs": [],
   "source": [
    "toronto_merged.loc[toronto_merged['Cluster Labels'] == 1, toronto_merged.columns[[1] + list(range(5, toronto_merged.shape[1]))]]"
   ]
  },
  {
   "cell_type": "markdown",
   "metadata": {},
   "source": [
    "#### Cluster 3"
   ]
  },
  {
   "cell_type": "code",
   "execution_count": null,
   "metadata": {
    "scrolled": true
   },
   "outputs": [],
   "source": [
    "toronto_merged.loc[toronto_merged['Cluster Labels'] == 2, toronto_merged.columns[[1] + list(range(5, toronto_merged.shape[1]))]]"
   ]
  },
  {
   "cell_type": "markdown",
   "metadata": {},
   "source": [
    "#### Cluster 4"
   ]
  },
  {
   "cell_type": "code",
   "execution_count": null,
   "metadata": {
    "scrolled": true
   },
   "outputs": [],
   "source": [
    "toronto_merged.loc[toronto_merged['Cluster Labels'] == 3, toronto_merged.columns[[1] + list(range(5, toronto_merged.shape[1]))]]"
   ]
  },
  {
   "cell_type": "markdown",
   "metadata": {},
   "source": [
    "#### Cluster 5"
   ]
  },
  {
   "cell_type": "code",
   "execution_count": null,
   "metadata": {
    "scrolled": true
   },
   "outputs": [],
   "source": [
    "toronto_merged.loc[toronto_merged['Cluster Labels'] == 4, toronto_merged.columns[[1] + list(range(5, toronto_merged.shape[1]))]]"
   ]
  },
  {
   "cell_type": "markdown",
   "metadata": {},
   "source": [
    "## Results and Discussion <a name=\"results\"></a>"
   ]
  },
  {
   "cell_type": "markdown",
   "metadata": {},
   "source": [
    "As we could see above, the cluster 3 is the one with more concentration of restaurants as more common revenue, indicating that it is appropriated to open a restaurant."
   ]
  },
  {
   "cell_type": "markdown",
   "metadata": {},
   "source": [
    "#### Below we list the Neighborhoods in the cluster 3"
   ]
  },
  {
   "cell_type": "code",
   "execution_count": null,
   "metadata": {},
   "outputs": [],
   "source": [
    "cluster3 = toronto_merged.loc[toronto_merged['Cluster Labels'] == 2, toronto_merged.columns[[1] + list(range(5, toronto_merged.shape[1]))]]"
   ]
  },
  {
   "cell_type": "code",
   "execution_count": null,
   "metadata": {},
   "outputs": [],
   "source": [
    "cluster3[['Neighborhood']]"
   ]
  },
  {
   "cell_type": "markdown",
   "metadata": {},
   "source": [
    "## Conclusion <a name=\"conclusion\"></a>"
   ]
  },
  {
   "cell_type": "markdown",
   "metadata": {},
   "source": [
    "Purpose of this project is to identify the best region (cluster / neighborhoods) to open a restaurant in Toronto city. \n",
    "\n",
    "To find the best place, we have collected the venue data for each neighborhood of Toronto using Foursquare. Then, checked how many venues were returned for each neighborhood. The clustering technique using K-means was used to group the neighborhoods and find the most common in each cluster. Finally we selected the cluster with more restaurants in first more commom revenue.\n",
    "\n",
    "The results as seen above show that the best place to open a restaurant in Toronto is indicated in Cluster 3, representing the neighborhoods listed in the section above."
   ]
  }
 ],
 "metadata": {
  "kernelspec": {
   "display_name": "Python 3",
   "language": "python",
   "name": "python3"
  },
  "language_info": {
   "codemirror_mode": {
    "name": "ipython",
    "version": 3
   },
   "file_extension": ".py",
   "mimetype": "text/x-python",
   "name": "python",
   "nbconvert_exporter": "python",
   "pygments_lexer": "ipython3",
   "version": "3.7.6"
  },
  "widgets": {
   "application/vnd.jupyter.widget-state+json": {
    "state": {},
    "version_major": 2,
    "version_minor": 0
   }
  }
 },
 "nbformat": 4,
 "nbformat_minor": 4
}
